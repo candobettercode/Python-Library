{
  "nbformat": 4,
  "nbformat_minor": 0,
  "metadata": {
    "colab": {
      "provenance": [],
      "include_colab_link": true
    },
    "kernelspec": {
      "name": "python3",
      "display_name": "Python 3"
    },
    "language_info": {
      "name": "python"
    }
  },
  "cells": [
    {
      "cell_type": "markdown",
      "metadata": {
        "id": "view-in-github",
        "colab_type": "text"
      },
      "source": [
        "<a href=\"https://colab.research.google.com/github/candobettercode/Python-Library/blob/main/regex.ipynb\" target=\"_parent\"><img src=\"https://colab.research.google.com/assets/colab-badge.svg\" alt=\"Open In Colab\"/></a>"
      ]
    },
    {
      "cell_type": "code",
      "execution_count": 2,
      "metadata": {
        "id": "NEq5rp8qXVCd"
      },
      "outputs": [],
      "source": [
        "import re"
      ]
    },
    {
      "cell_type": "code",
      "source": [
        "data = '''\n",
        "abcdefghijklmnopqrstuvwxyz\n",
        "ABCDEFGHIJKLMNOPQRSTUVWXYZ\n",
        "1234567890\n",
        "gmail.com\n",
        "Mr. Vishal\n",
        "Mr Hitesh\n",
        "Ms. Komal\n",
        "Mrs. Priyanka\n",
        "Mr. A\n",
        "META CHARACTERS (NEED TO BE ESCAPED):\n",
        ". ^ $ * + ? { } ( ) [ ] | \\\n",
        "355-654-6890\n",
        "324.258.5541\n",
        "'''"
      ],
      "metadata": {
        "id": "o1HG1qbdXYFs"
      },
      "execution_count": null,
      "outputs": []
    },
    {
      "cell_type": "code",
      "source": [
        "data"
      ],
      "metadata": {
        "colab": {
          "base_uri": "https://localhost:8080/",
          "height": 70
        },
        "id": "wJ_fUmW4XmAW",
        "outputId": "57136aff-4325-4efe-bd27-26c596b3d47e"
      },
      "execution_count": null,
      "outputs": [
        {
          "output_type": "execute_result",
          "data": {
            "text/plain": [
              "'\\nabcdefghijklmnopqrstuvwxyz\\nABCDEFGHIJKLMNOPQRSTUVWXYZ\\n1234567890\\ngmail.com\\nMr. Vishal\\nMr Hitesh\\nMs. Komal\\nMrs. Priyanka\\nMr. A\\nMETA CHARACTERS (NEED TO BE ESCAPED):\\n. ^ $ * + ? { } ( ) [ ] | 355-654-6890\\n324.258.5541\\n'"
            ],
            "application/vnd.google.colaboratory.intrinsic+json": {
              "type": "string"
            }
          },
          "metadata": {},
          "execution_count": 5
        }
      ]
    },
    {
      "cell_type": "code",
      "source": [
        "pattern=re.compile(r'\\.')\n",
        "pattern"
      ],
      "metadata": {
        "colab": {
          "base_uri": "https://localhost:8080/"
        },
        "id": "EBp8MinXXl9r",
        "outputId": "1eb01888-4e36-4ad2-cfd1-632bd063e00a"
      },
      "execution_count": null,
      "outputs": [
        {
          "output_type": "execute_result",
          "data": {
            "text/plain": [
              "re.compile(r'\\.', re.UNICODE)"
            ]
          },
          "metadata": {},
          "execution_count": 6
        }
      ]
    },
    {
      "cell_type": "code",
      "source": [
        "checking=pattern.finditer(Data)"
      ],
      "metadata": {
        "id": "GgCUQs2oXl7z"
      },
      "execution_count": null,
      "outputs": []
    },
    {
      "cell_type": "code",
      "source": [
        "checking"
      ],
      "metadata": {
        "colab": {
          "base_uri": "https://localhost:8080/"
        },
        "id": "NWwZ6Ix7Xl4z",
        "outputId": "e7bdebdc-f589-4baf-e1d0-d626c6a23d70"
      },
      "execution_count": null,
      "outputs": [
        {
          "output_type": "execute_result",
          "data": {
            "text/plain": [
              "<callable_iterator at 0x7fe6740dbfa0>"
            ]
          },
          "metadata": {},
          "execution_count": 8
        }
      ]
    },
    {
      "cell_type": "code",
      "source": [
        "for i in checking:\n",
        "  print(i)"
      ],
      "metadata": {
        "colab": {
          "base_uri": "https://localhost:8080/"
        },
        "id": "y-AINFuQXl2M",
        "outputId": "788817e0-8f51-46de-bf72-c1695bb34170"
      },
      "execution_count": null,
      "outputs": [
        {
          "output_type": "stream",
          "name": "stdout",
          "text": [
            "<re.Match object; span=(71, 72), match='.'>\n",
            "<re.Match object; span=(78, 79), match='.'>\n",
            "<re.Match object; span=(99, 100), match='.'>\n",
            "<re.Match object; span=(110, 111), match='.'>\n",
            "<re.Match object; span=(123, 124), match='.'>\n",
            "<re.Match object; span=(165, 166), match='.'>\n",
            "<re.Match object; span=(207, 208), match='.'>\n",
            "<re.Match object; span=(211, 212), match='.'>\n"
          ]
        }
      ]
    },
    {
      "cell_type": "code",
      "source": [
        "pattern=re.compile(r'\\S')\n",
        "checking=pattern.finditer(Data)\n",
        "for i in checking:\n",
        "  print(i)\n",
        "  print(i.start())\n",
        "  print(i.end())\n",
        "  print(i.group())"
      ],
      "metadata": {
        "colab": {
          "base_uri": "https://localhost:8080/"
        },
        "id": "Mk8aUfWEXlzb",
        "outputId": "17c32b5b-cc78-419f-86fc-9c486bca79c9"
      },
      "execution_count": null,
      "outputs": [
        {
          "output_type": "stream",
          "name": "stdout",
          "text": [
            "<re.Match object; span=(1, 2), match='a'>\n",
            "1\n",
            "2\n",
            "a\n",
            "<re.Match object; span=(2, 3), match='b'>\n",
            "2\n",
            "3\n",
            "b\n",
            "<re.Match object; span=(3, 4), match='c'>\n",
            "3\n",
            "4\n",
            "c\n",
            "<re.Match object; span=(4, 5), match='d'>\n",
            "4\n",
            "5\n",
            "d\n",
            "<re.Match object; span=(5, 6), match='e'>\n",
            "5\n",
            "6\n",
            "e\n",
            "<re.Match object; span=(6, 7), match='f'>\n",
            "6\n",
            "7\n",
            "f\n",
            "<re.Match object; span=(7, 8), match='g'>\n",
            "7\n",
            "8\n",
            "g\n",
            "<re.Match object; span=(8, 9), match='h'>\n",
            "8\n",
            "9\n",
            "h\n",
            "<re.Match object; span=(9, 10), match='i'>\n",
            "9\n",
            "10\n",
            "i\n",
            "<re.Match object; span=(10, 11), match='j'>\n",
            "10\n",
            "11\n",
            "j\n",
            "<re.Match object; span=(11, 12), match='k'>\n",
            "11\n",
            "12\n",
            "k\n",
            "<re.Match object; span=(12, 13), match='l'>\n",
            "12\n",
            "13\n",
            "l\n",
            "<re.Match object; span=(13, 14), match='m'>\n",
            "13\n",
            "14\n",
            "m\n",
            "<re.Match object; span=(14, 15), match='n'>\n",
            "14\n",
            "15\n",
            "n\n",
            "<re.Match object; span=(15, 16), match='o'>\n",
            "15\n",
            "16\n",
            "o\n",
            "<re.Match object; span=(16, 17), match='p'>\n",
            "16\n",
            "17\n",
            "p\n",
            "<re.Match object; span=(17, 18), match='q'>\n",
            "17\n",
            "18\n",
            "q\n",
            "<re.Match object; span=(18, 19), match='r'>\n",
            "18\n",
            "19\n",
            "r\n",
            "<re.Match object; span=(19, 20), match='s'>\n",
            "19\n",
            "20\n",
            "s\n",
            "<re.Match object; span=(20, 21), match='t'>\n",
            "20\n",
            "21\n",
            "t\n",
            "<re.Match object; span=(21, 22), match='u'>\n",
            "21\n",
            "22\n",
            "u\n",
            "<re.Match object; span=(22, 23), match='v'>\n",
            "22\n",
            "23\n",
            "v\n",
            "<re.Match object; span=(23, 24), match='w'>\n",
            "23\n",
            "24\n",
            "w\n",
            "<re.Match object; span=(24, 25), match='x'>\n",
            "24\n",
            "25\n",
            "x\n",
            "<re.Match object; span=(25, 26), match='y'>\n",
            "25\n",
            "26\n",
            "y\n",
            "<re.Match object; span=(26, 27), match='z'>\n",
            "26\n",
            "27\n",
            "z\n",
            "<re.Match object; span=(28, 29), match='A'>\n",
            "28\n",
            "29\n",
            "A\n",
            "<re.Match object; span=(29, 30), match='B'>\n",
            "29\n",
            "30\n",
            "B\n",
            "<re.Match object; span=(30, 31), match='C'>\n",
            "30\n",
            "31\n",
            "C\n",
            "<re.Match object; span=(31, 32), match='D'>\n",
            "31\n",
            "32\n",
            "D\n",
            "<re.Match object; span=(32, 33), match='E'>\n",
            "32\n",
            "33\n",
            "E\n",
            "<re.Match object; span=(33, 34), match='F'>\n",
            "33\n",
            "34\n",
            "F\n",
            "<re.Match object; span=(34, 35), match='G'>\n",
            "34\n",
            "35\n",
            "G\n",
            "<re.Match object; span=(35, 36), match='H'>\n",
            "35\n",
            "36\n",
            "H\n",
            "<re.Match object; span=(36, 37), match='I'>\n",
            "36\n",
            "37\n",
            "I\n",
            "<re.Match object; span=(37, 38), match='J'>\n",
            "37\n",
            "38\n",
            "J\n",
            "<re.Match object; span=(38, 39), match='K'>\n",
            "38\n",
            "39\n",
            "K\n",
            "<re.Match object; span=(39, 40), match='L'>\n",
            "39\n",
            "40\n",
            "L\n",
            "<re.Match object; span=(40, 41), match='M'>\n",
            "40\n",
            "41\n",
            "M\n",
            "<re.Match object; span=(41, 42), match='N'>\n",
            "41\n",
            "42\n",
            "N\n",
            "<re.Match object; span=(42, 43), match='O'>\n",
            "42\n",
            "43\n",
            "O\n",
            "<re.Match object; span=(43, 44), match='P'>\n",
            "43\n",
            "44\n",
            "P\n",
            "<re.Match object; span=(44, 45), match='Q'>\n",
            "44\n",
            "45\n",
            "Q\n",
            "<re.Match object; span=(45, 46), match='R'>\n",
            "45\n",
            "46\n",
            "R\n",
            "<re.Match object; span=(46, 47), match='S'>\n",
            "46\n",
            "47\n",
            "S\n",
            "<re.Match object; span=(47, 48), match='T'>\n",
            "47\n",
            "48\n",
            "T\n",
            "<re.Match object; span=(48, 49), match='U'>\n",
            "48\n",
            "49\n",
            "U\n",
            "<re.Match object; span=(49, 50), match='V'>\n",
            "49\n",
            "50\n",
            "V\n",
            "<re.Match object; span=(50, 51), match='W'>\n",
            "50\n",
            "51\n",
            "W\n",
            "<re.Match object; span=(51, 52), match='X'>\n",
            "51\n",
            "52\n",
            "X\n",
            "<re.Match object; span=(52, 53), match='Y'>\n",
            "52\n",
            "53\n",
            "Y\n",
            "<re.Match object; span=(53, 54), match='Z'>\n",
            "53\n",
            "54\n",
            "Z\n",
            "<re.Match object; span=(55, 56), match='1'>\n",
            "55\n",
            "56\n",
            "1\n",
            "<re.Match object; span=(56, 57), match='2'>\n",
            "56\n",
            "57\n",
            "2\n",
            "<re.Match object; span=(57, 58), match='3'>\n",
            "57\n",
            "58\n",
            "3\n",
            "<re.Match object; span=(58, 59), match='4'>\n",
            "58\n",
            "59\n",
            "4\n",
            "<re.Match object; span=(59, 60), match='5'>\n",
            "59\n",
            "60\n",
            "5\n",
            "<re.Match object; span=(60, 61), match='6'>\n",
            "60\n",
            "61\n",
            "6\n",
            "<re.Match object; span=(61, 62), match='7'>\n",
            "61\n",
            "62\n",
            "7\n",
            "<re.Match object; span=(62, 63), match='8'>\n",
            "62\n",
            "63\n",
            "8\n",
            "<re.Match object; span=(63, 64), match='9'>\n",
            "63\n",
            "64\n",
            "9\n",
            "<re.Match object; span=(64, 65), match='0'>\n",
            "64\n",
            "65\n",
            "0\n",
            "<re.Match object; span=(66, 67), match='g'>\n",
            "66\n",
            "67\n",
            "g\n",
            "<re.Match object; span=(67, 68), match='m'>\n",
            "67\n",
            "68\n",
            "m\n",
            "<re.Match object; span=(68, 69), match='a'>\n",
            "68\n",
            "69\n",
            "a\n",
            "<re.Match object; span=(69, 70), match='i'>\n",
            "69\n",
            "70\n",
            "i\n",
            "<re.Match object; span=(70, 71), match='l'>\n",
            "70\n",
            "71\n",
            "l\n",
            "<re.Match object; span=(71, 72), match='.'>\n",
            "71\n",
            "72\n",
            ".\n",
            "<re.Match object; span=(72, 73), match='c'>\n",
            "72\n",
            "73\n",
            "c\n",
            "<re.Match object; span=(73, 74), match='o'>\n",
            "73\n",
            "74\n",
            "o\n",
            "<re.Match object; span=(74, 75), match='m'>\n",
            "74\n",
            "75\n",
            "m\n",
            "<re.Match object; span=(76, 77), match='M'>\n",
            "76\n",
            "77\n",
            "M\n",
            "<re.Match object; span=(77, 78), match='r'>\n",
            "77\n",
            "78\n",
            "r\n",
            "<re.Match object; span=(78, 79), match='.'>\n",
            "78\n",
            "79\n",
            ".\n",
            "<re.Match object; span=(80, 81), match='V'>\n",
            "80\n",
            "81\n",
            "V\n",
            "<re.Match object; span=(81, 82), match='i'>\n",
            "81\n",
            "82\n",
            "i\n",
            "<re.Match object; span=(82, 83), match='s'>\n",
            "82\n",
            "83\n",
            "s\n",
            "<re.Match object; span=(83, 84), match='h'>\n",
            "83\n",
            "84\n",
            "h\n",
            "<re.Match object; span=(84, 85), match='a'>\n",
            "84\n",
            "85\n",
            "a\n",
            "<re.Match object; span=(85, 86), match='l'>\n",
            "85\n",
            "86\n",
            "l\n",
            "<re.Match object; span=(87, 88), match='M'>\n",
            "87\n",
            "88\n",
            "M\n",
            "<re.Match object; span=(88, 89), match='r'>\n",
            "88\n",
            "89\n",
            "r\n",
            "<re.Match object; span=(90, 91), match='H'>\n",
            "90\n",
            "91\n",
            "H\n",
            "<re.Match object; span=(91, 92), match='i'>\n",
            "91\n",
            "92\n",
            "i\n",
            "<re.Match object; span=(92, 93), match='t'>\n",
            "92\n",
            "93\n",
            "t\n",
            "<re.Match object; span=(93, 94), match='e'>\n",
            "93\n",
            "94\n",
            "e\n",
            "<re.Match object; span=(94, 95), match='s'>\n",
            "94\n",
            "95\n",
            "s\n",
            "<re.Match object; span=(95, 96), match='h'>\n",
            "95\n",
            "96\n",
            "h\n",
            "<re.Match object; span=(97, 98), match='M'>\n",
            "97\n",
            "98\n",
            "M\n",
            "<re.Match object; span=(98, 99), match='s'>\n",
            "98\n",
            "99\n",
            "s\n",
            "<re.Match object; span=(99, 100), match='.'>\n",
            "99\n",
            "100\n",
            ".\n",
            "<re.Match object; span=(101, 102), match='K'>\n",
            "101\n",
            "102\n",
            "K\n",
            "<re.Match object; span=(102, 103), match='o'>\n",
            "102\n",
            "103\n",
            "o\n",
            "<re.Match object; span=(103, 104), match='m'>\n",
            "103\n",
            "104\n",
            "m\n",
            "<re.Match object; span=(104, 105), match='a'>\n",
            "104\n",
            "105\n",
            "a\n",
            "<re.Match object; span=(105, 106), match='l'>\n",
            "105\n",
            "106\n",
            "l\n",
            "<re.Match object; span=(107, 108), match='M'>\n",
            "107\n",
            "108\n",
            "M\n",
            "<re.Match object; span=(108, 109), match='r'>\n",
            "108\n",
            "109\n",
            "r\n",
            "<re.Match object; span=(109, 110), match='s'>\n",
            "109\n",
            "110\n",
            "s\n",
            "<re.Match object; span=(110, 111), match='.'>\n",
            "110\n",
            "111\n",
            ".\n",
            "<re.Match object; span=(112, 113), match='P'>\n",
            "112\n",
            "113\n",
            "P\n",
            "<re.Match object; span=(113, 114), match='r'>\n",
            "113\n",
            "114\n",
            "r\n",
            "<re.Match object; span=(114, 115), match='i'>\n",
            "114\n",
            "115\n",
            "i\n",
            "<re.Match object; span=(115, 116), match='y'>\n",
            "115\n",
            "116\n",
            "y\n",
            "<re.Match object; span=(116, 117), match='a'>\n",
            "116\n",
            "117\n",
            "a\n",
            "<re.Match object; span=(117, 118), match='n'>\n",
            "117\n",
            "118\n",
            "n\n",
            "<re.Match object; span=(118, 119), match='k'>\n",
            "118\n",
            "119\n",
            "k\n",
            "<re.Match object; span=(119, 120), match='a'>\n",
            "119\n",
            "120\n",
            "a\n",
            "<re.Match object; span=(121, 122), match='M'>\n",
            "121\n",
            "122\n",
            "M\n",
            "<re.Match object; span=(122, 123), match='r'>\n",
            "122\n",
            "123\n",
            "r\n",
            "<re.Match object; span=(123, 124), match='.'>\n",
            "123\n",
            "124\n",
            ".\n",
            "<re.Match object; span=(125, 126), match='A'>\n",
            "125\n",
            "126\n",
            "A\n",
            "<re.Match object; span=(127, 128), match='M'>\n",
            "127\n",
            "128\n",
            "M\n",
            "<re.Match object; span=(128, 129), match='E'>\n",
            "128\n",
            "129\n",
            "E\n",
            "<re.Match object; span=(129, 130), match='T'>\n",
            "129\n",
            "130\n",
            "T\n",
            "<re.Match object; span=(130, 131), match='A'>\n",
            "130\n",
            "131\n",
            "A\n",
            "<re.Match object; span=(132, 133), match='C'>\n",
            "132\n",
            "133\n",
            "C\n",
            "<re.Match object; span=(133, 134), match='H'>\n",
            "133\n",
            "134\n",
            "H\n",
            "<re.Match object; span=(134, 135), match='A'>\n",
            "134\n",
            "135\n",
            "A\n",
            "<re.Match object; span=(135, 136), match='R'>\n",
            "135\n",
            "136\n",
            "R\n",
            "<re.Match object; span=(136, 137), match='A'>\n",
            "136\n",
            "137\n",
            "A\n",
            "<re.Match object; span=(137, 138), match='C'>\n",
            "137\n",
            "138\n",
            "C\n",
            "<re.Match object; span=(138, 139), match='T'>\n",
            "138\n",
            "139\n",
            "T\n",
            "<re.Match object; span=(139, 140), match='E'>\n",
            "139\n",
            "140\n",
            "E\n",
            "<re.Match object; span=(140, 141), match='R'>\n",
            "140\n",
            "141\n",
            "R\n",
            "<re.Match object; span=(141, 142), match='S'>\n",
            "141\n",
            "142\n",
            "S\n",
            "<re.Match object; span=(143, 144), match='('>\n",
            "143\n",
            "144\n",
            "(\n",
            "<re.Match object; span=(144, 145), match='N'>\n",
            "144\n",
            "145\n",
            "N\n",
            "<re.Match object; span=(145, 146), match='E'>\n",
            "145\n",
            "146\n",
            "E\n",
            "<re.Match object; span=(146, 147), match='E'>\n",
            "146\n",
            "147\n",
            "E\n",
            "<re.Match object; span=(147, 148), match='D'>\n",
            "147\n",
            "148\n",
            "D\n",
            "<re.Match object; span=(149, 150), match='T'>\n",
            "149\n",
            "150\n",
            "T\n",
            "<re.Match object; span=(150, 151), match='O'>\n",
            "150\n",
            "151\n",
            "O\n",
            "<re.Match object; span=(152, 153), match='B'>\n",
            "152\n",
            "153\n",
            "B\n",
            "<re.Match object; span=(153, 154), match='E'>\n",
            "153\n",
            "154\n",
            "E\n",
            "<re.Match object; span=(155, 156), match='E'>\n",
            "155\n",
            "156\n",
            "E\n",
            "<re.Match object; span=(156, 157), match='S'>\n",
            "156\n",
            "157\n",
            "S\n",
            "<re.Match object; span=(157, 158), match='C'>\n",
            "157\n",
            "158\n",
            "C\n",
            "<re.Match object; span=(158, 159), match='A'>\n",
            "158\n",
            "159\n",
            "A\n",
            "<re.Match object; span=(159, 160), match='P'>\n",
            "159\n",
            "160\n",
            "P\n",
            "<re.Match object; span=(160, 161), match='E'>\n",
            "160\n",
            "161\n",
            "E\n",
            "<re.Match object; span=(161, 162), match='D'>\n",
            "161\n",
            "162\n",
            "D\n",
            "<re.Match object; span=(162, 163), match=')'>\n",
            "162\n",
            "163\n",
            ")\n",
            "<re.Match object; span=(163, 164), match=':'>\n",
            "163\n",
            "164\n",
            ":\n",
            "<re.Match object; span=(165, 166), match='.'>\n",
            "165\n",
            "166\n",
            ".\n",
            "<re.Match object; span=(167, 168), match='^'>\n",
            "167\n",
            "168\n",
            "^\n",
            "<re.Match object; span=(169, 170), match='$'>\n",
            "169\n",
            "170\n",
            "$\n",
            "<re.Match object; span=(171, 172), match='*'>\n",
            "171\n",
            "172\n",
            "*\n",
            "<re.Match object; span=(173, 174), match='+'>\n",
            "173\n",
            "174\n",
            "+\n",
            "<re.Match object; span=(175, 176), match='?'>\n",
            "175\n",
            "176\n",
            "?\n",
            "<re.Match object; span=(177, 178), match='{'>\n",
            "177\n",
            "178\n",
            "{\n",
            "<re.Match object; span=(179, 180), match='}'>\n",
            "179\n",
            "180\n",
            "}\n",
            "<re.Match object; span=(181, 182), match='('>\n",
            "181\n",
            "182\n",
            "(\n",
            "<re.Match object; span=(183, 184), match=')'>\n",
            "183\n",
            "184\n",
            ")\n",
            "<re.Match object; span=(185, 186), match='['>\n",
            "185\n",
            "186\n",
            "[\n",
            "<re.Match object; span=(187, 188), match=']'>\n",
            "187\n",
            "188\n",
            "]\n",
            "<re.Match object; span=(189, 190), match='|'>\n",
            "189\n",
            "190\n",
            "|\n",
            "<re.Match object; span=(191, 192), match='3'>\n",
            "191\n",
            "192\n",
            "3\n",
            "<re.Match object; span=(192, 193), match='5'>\n",
            "192\n",
            "193\n",
            "5\n",
            "<re.Match object; span=(193, 194), match='5'>\n",
            "193\n",
            "194\n",
            "5\n",
            "<re.Match object; span=(194, 195), match='-'>\n",
            "194\n",
            "195\n",
            "-\n",
            "<re.Match object; span=(195, 196), match='6'>\n",
            "195\n",
            "196\n",
            "6\n",
            "<re.Match object; span=(196, 197), match='5'>\n",
            "196\n",
            "197\n",
            "5\n",
            "<re.Match object; span=(197, 198), match='4'>\n",
            "197\n",
            "198\n",
            "4\n",
            "<re.Match object; span=(198, 199), match='-'>\n",
            "198\n",
            "199\n",
            "-\n",
            "<re.Match object; span=(199, 200), match='6'>\n",
            "199\n",
            "200\n",
            "6\n",
            "<re.Match object; span=(200, 201), match='8'>\n",
            "200\n",
            "201\n",
            "8\n",
            "<re.Match object; span=(201, 202), match='9'>\n",
            "201\n",
            "202\n",
            "9\n",
            "<re.Match object; span=(202, 203), match='0'>\n",
            "202\n",
            "203\n",
            "0\n",
            "<re.Match object; span=(204, 205), match='3'>\n",
            "204\n",
            "205\n",
            "3\n",
            "<re.Match object; span=(205, 206), match='2'>\n",
            "205\n",
            "206\n",
            "2\n",
            "<re.Match object; span=(206, 207), match='4'>\n",
            "206\n",
            "207\n",
            "4\n",
            "<re.Match object; span=(207, 208), match='.'>\n",
            "207\n",
            "208\n",
            ".\n",
            "<re.Match object; span=(208, 209), match='2'>\n",
            "208\n",
            "209\n",
            "2\n",
            "<re.Match object; span=(209, 210), match='5'>\n",
            "209\n",
            "210\n",
            "5\n",
            "<re.Match object; span=(210, 211), match='8'>\n",
            "210\n",
            "211\n",
            "8\n",
            "<re.Match object; span=(211, 212), match='.'>\n",
            "211\n",
            "212\n",
            ".\n",
            "<re.Match object; span=(212, 213), match='5'>\n",
            "212\n",
            "213\n",
            "5\n",
            "<re.Match object; span=(213, 214), match='5'>\n",
            "213\n",
            "214\n",
            "5\n",
            "<re.Match object; span=(214, 215), match='4'>\n",
            "214\n",
            "215\n",
            "4\n",
            "<re.Match object; span=(215, 216), match='1'>\n",
            "215\n",
            "216\n",
            "1\n"
          ]
        }
      ]
    },
    {
      "cell_type": "code",
      "source": [
        "text = \"My email is test@example.com\"\n",
        "#pattern = r\"[A-Za-z0-9._%+-]+@[A-Za-z0-9.-]+\\.[A-Za-z]{2,}\"\n",
        "pattern = r\"[a-z]\"\n",
        "\n",
        "match = re.search(pattern, text)\n",
        "if match:\n",
        "    print(\"Found:\", match.group())"
      ],
      "metadata": {
        "colab": {
          "base_uri": "https://localhost:8080/"
        },
        "id": "-nC0thJ6Xlw7",
        "outputId": "46eebba7-1a5d-45f0-8251-8e68e6603719"
      },
      "execution_count": null,
      "outputs": [
        {
          "output_type": "stream",
          "name": "stdout",
          "text": [
            "Found: y\n"
          ]
        }
      ]
    },
    {
      "cell_type": "code",
      "source": [
        "data1='today is saturday so have a nice day'\n",
        "pattern=re.compile(r'^today')\n",
        "checking=pattern.finditer(data1)\n",
        "checking"
      ],
      "metadata": {
        "colab": {
          "base_uri": "https://localhost:8080/"
        },
        "id": "OVE5FpKDaRcx",
        "outputId": "07df4ecc-f74b-49ed-9645-081ab80f3549"
      },
      "execution_count": null,
      "outputs": [
        {
          "output_type": "execute_result",
          "data": {
            "text/plain": [
              "<callable_iterator at 0x7fe6740d97e0>"
            ]
          },
          "metadata": {},
          "execution_count": 19
        }
      ]
    },
    {
      "cell_type": "code",
      "source": [
        "data1='today is saturday so have a nice day'\n",
        "pattern=re.compile(r'day$')\n",
        "checking=pattern.finditer(data1)\n",
        "checking"
      ],
      "metadata": {
        "colab": {
          "base_uri": "https://localhost:8080/"
        },
        "id": "_1tA1REgXluj",
        "outputId": "00b72b84-5155-40a4-dc05-dc1eb505f7d9"
      },
      "execution_count": null,
      "outputs": [
        {
          "output_type": "execute_result",
          "data": {
            "text/plain": [
              "<callable_iterator at 0x7fe6740d8820>"
            ]
          },
          "metadata": {},
          "execution_count": 22
        }
      ]
    },
    {
      "cell_type": "code",
      "source": [
        "txt = \"where there is a will there is a way 90\"\n",
        "x = re.findall(\"there\", txt)\n",
        "print(x)"
      ],
      "metadata": {
        "colab": {
          "base_uri": "https://localhost:8080/"
        },
        "id": "le7agGJ9Xlr7",
        "outputId": "74a8c6bd-29d3-4058-be95-4b4135c6f7a4"
      },
      "execution_count": null,
      "outputs": [
        {
          "output_type": "stream",
          "name": "stdout",
          "text": [
            "['there', 'there']\n"
          ]
        }
      ]
    },
    {
      "cell_type": "code",
      "source": [
        "x = re.findall(\"[a-e]\",txt)\n",
        "print(x)"
      ],
      "metadata": {
        "colab": {
          "base_uri": "https://localhost:8080/"
        },
        "id": "WhDkn0uUXlo7",
        "outputId": "079d2ca5-3dcd-40cb-c54c-47baf5ee522e"
      },
      "execution_count": null,
      "outputs": [
        {
          "output_type": "stream",
          "name": "stdout",
          "text": [
            "['e', 'e', 'e', 'e', 'a', 'e', 'e', 'a', 'a']\n"
          ]
        }
      ]
    },
    {
      "cell_type": "code",
      "source": [
        "x = re.findall(\"\\d\",txt)\n",
        "print(x)"
      ],
      "metadata": {
        "colab": {
          "base_uri": "https://localhost:8080/"
        },
        "id": "AvJsdi1hbtp1",
        "outputId": "844f47ed-37cf-45c5-d292-7b2da76dbc8b"
      },
      "execution_count": null,
      "outputs": [
        {
          "output_type": "stream",
          "name": "stdout",
          "text": [
            "['9', '0']\n"
          ]
        }
      ]
    },
    {
      "cell_type": "code",
      "source": [
        "x = re.findall(\"thex*\",txt)\n",
        "print(x)"
      ],
      "metadata": {
        "colab": {
          "base_uri": "https://localhost:8080/"
        },
        "id": "2vdqI7_5b8Lz",
        "outputId": "81e909ed-410a-4f16-fb67-827bf0193829"
      },
      "execution_count": null,
      "outputs": [
        {
          "output_type": "stream",
          "name": "stdout",
          "text": [
            "['the', 'the']\n"
          ]
        }
      ]
    },
    {
      "cell_type": "code",
      "source": [
        "data = '''\n",
        "abcdefghijklmnopqurtuvwxyz\n",
        "ABCDEFGHIJKLMNOPQRSTUVWXYZ\n",
        "1234567890\n",
        "\n",
        "Ha HaHa\n",
        "\n",
        "MetaCharacters (Need to be escaped):\n",
        ". ^ $ * + ? { } [ ] \\ | ( )\n",
        "\n",
        "coreyms.com\n",
        "\n",
        "321-555-4321\n",
        "123.555.1234\n",
        "123*555*1234\n",
        "800-555-1234\n",
        "900-555-1234\n",
        "\n",
        "Mr. Schafer\n",
        "Mr Smith\n",
        "Ms Davis\n",
        "Mrs. Robinson\n",
        "Mr. T\n",
        "\n",
        "cat\n",
        "bat\n",
        "mat\n",
        "pat\n",
        "'''\n",
        "\n",
        "sen = 'Start a sentence and then bring it to an end'"
      ],
      "metadata": {
        "id": "pVSeFIINcLNY"
      },
      "execution_count": 3,
      "outputs": []
    },
    {
      "cell_type": "code",
      "source": [
        "print('\\tTab')"
      ],
      "metadata": {
        "colab": {
          "base_uri": "https://localhost:8080/"
        },
        "id": "F22mp4uowvZh",
        "outputId": "bcfeaf3a-d6d2-4bab-aacd-1f4909ef4087"
      },
      "execution_count": 2,
      "outputs": [
        {
          "output_type": "stream",
          "name": "stdout",
          "text": [
            "\tTab\n"
          ]
        }
      ]
    },
    {
      "cell_type": "code",
      "source": [
        "print(r'\\tTab')"
      ],
      "metadata": {
        "colab": {
          "base_uri": "https://localhost:8080/"
        },
        "id": "MJeMLK6pxHPw",
        "outputId": "de86fa26-b390-4d60-e95b-25dfe9709273"
      },
      "execution_count": 3,
      "outputs": [
        {
          "output_type": "stream",
          "name": "stdout",
          "text": [
            "\\tTab\n"
          ]
        }
      ]
    },
    {
      "cell_type": "code",
      "source": [],
      "metadata": {
        "id": "ZHAQFEK5mXBp"
      },
      "execution_count": 10,
      "outputs": []
    },
    {
      "cell_type": "code",
      "source": [
        "pattern = re.compile(r'Mr')\n",
        "pattern"
      ],
      "metadata": {
        "id": "0jo92zBTxLYY",
        "colab": {
          "base_uri": "https://localhost:8080/"
        },
        "outputId": "71f3a750-9760-492f-835c-e58818780d10"
      },
      "execution_count": 16,
      "outputs": [
        {
          "output_type": "execute_result",
          "data": {
            "text/plain": [
              "re.compile(r'Mr', re.UNICODE)"
            ]
          },
          "metadata": {},
          "execution_count": 16
        }
      ]
    },
    {
      "cell_type": "code",
      "source": [
        "matches = pattern.finditer(data,)\n",
        "matches"
      ],
      "metadata": {
        "colab": {
          "base_uri": "https://localhost:8080/"
        },
        "id": "hg6isGAKlhVl",
        "outputId": "d5402225-d241-4063-958e-a181c64c57a0"
      },
      "execution_count": 17,
      "outputs": [
        {
          "output_type": "execute_result",
          "data": {
            "text/plain": [
              "<callable_iterator at 0x7acbb45a0490>"
            ]
          },
          "metadata": {},
          "execution_count": 17
        }
      ]
    },
    {
      "cell_type": "code",
      "source": [
        "for match in matches:\n",
        "  print(match)"
      ],
      "metadata": {
        "colab": {
          "base_uri": "https://localhost:8080/"
        },
        "id": "QkkyXv1zl_Ce",
        "outputId": "6c713fc8-1997-4dbe-eaec-bad273be1138"
      },
      "execution_count": 18,
      "outputs": [
        {
          "output_type": "stream",
          "name": "stdout",
          "text": [
            "<re.Match object; span=(221, 223), match='Mr'>\n",
            "<re.Match object; span=(233, 235), match='Mr'>\n",
            "<re.Match object; span=(251, 253), match='Mr'>\n",
            "<re.Match object; span=(265, 267), match='Mr'>\n"
          ]
        }
      ]
    },
    {
      "cell_type": "code",
      "source": [
        "data[221:223]"
      ],
      "metadata": {
        "colab": {
          "base_uri": "https://localhost:8080/",
          "height": 35
        },
        "id": "xb4lZZAQmE78",
        "outputId": "61585d58-b625-4e6f-f7c0-c9c33ad718ff"
      },
      "execution_count": 21,
      "outputs": [
        {
          "output_type": "execute_result",
          "data": {
            "text/plain": [
              "'Mr'"
            ],
            "application/vnd.google.colaboratory.intrinsic+json": {
              "type": "string"
            }
          },
          "metadata": {},
          "execution_count": 21
        }
      ]
    },
    {
      "cell_type": "code",
      "source": [
        "pattern = re.compile(r'.')\n",
        "pattern"
      ],
      "metadata": {
        "colab": {
          "base_uri": "https://localhost:8080/"
        },
        "id": "qDOK6c_FnFe7",
        "outputId": "04ef462c-b69e-45d7-ee87-09d81b8014c7"
      },
      "execution_count": 22,
      "outputs": [
        {
          "output_type": "execute_result",
          "data": {
            "text/plain": [
              "re.compile(r'.', re.UNICODE)"
            ]
          },
          "metadata": {},
          "execution_count": 22
        }
      ]
    },
    {
      "cell_type": "code",
      "source": [
        "matches = pattern.finditer(data,)\n",
        "for match in matches:\n",
        "  print(match)"
      ],
      "metadata": {
        "colab": {
          "base_uri": "https://localhost:8080/"
        },
        "id": "Qg-foWkonxxq",
        "outputId": "9b933fdd-fa22-4a47-c09d-38959451b773"
      },
      "execution_count": 23,
      "outputs": [
        {
          "output_type": "stream",
          "name": "stdout",
          "text": [
            "<re.Match object; span=(1, 2), match='a'>\n",
            "<re.Match object; span=(2, 3), match='b'>\n",
            "<re.Match object; span=(3, 4), match='c'>\n",
            "<re.Match object; span=(4, 5), match='d'>\n",
            "<re.Match object; span=(5, 6), match='e'>\n",
            "<re.Match object; span=(6, 7), match='f'>\n",
            "<re.Match object; span=(7, 8), match='g'>\n",
            "<re.Match object; span=(8, 9), match='h'>\n",
            "<re.Match object; span=(9, 10), match='i'>\n",
            "<re.Match object; span=(10, 11), match='j'>\n",
            "<re.Match object; span=(11, 12), match='k'>\n",
            "<re.Match object; span=(12, 13), match='l'>\n",
            "<re.Match object; span=(13, 14), match='m'>\n",
            "<re.Match object; span=(14, 15), match='n'>\n",
            "<re.Match object; span=(15, 16), match='o'>\n",
            "<re.Match object; span=(16, 17), match='p'>\n",
            "<re.Match object; span=(17, 18), match='q'>\n",
            "<re.Match object; span=(18, 19), match='u'>\n",
            "<re.Match object; span=(19, 20), match='r'>\n",
            "<re.Match object; span=(20, 21), match='t'>\n",
            "<re.Match object; span=(21, 22), match='u'>\n",
            "<re.Match object; span=(22, 23), match='v'>\n",
            "<re.Match object; span=(23, 24), match='w'>\n",
            "<re.Match object; span=(24, 25), match='x'>\n",
            "<re.Match object; span=(25, 26), match='y'>\n",
            "<re.Match object; span=(26, 27), match='z'>\n",
            "<re.Match object; span=(28, 29), match='A'>\n",
            "<re.Match object; span=(29, 30), match='B'>\n",
            "<re.Match object; span=(30, 31), match='C'>\n",
            "<re.Match object; span=(31, 32), match='D'>\n",
            "<re.Match object; span=(32, 33), match='E'>\n",
            "<re.Match object; span=(33, 34), match='F'>\n",
            "<re.Match object; span=(34, 35), match='G'>\n",
            "<re.Match object; span=(35, 36), match='H'>\n",
            "<re.Match object; span=(36, 37), match='I'>\n",
            "<re.Match object; span=(37, 38), match='J'>\n",
            "<re.Match object; span=(38, 39), match='K'>\n",
            "<re.Match object; span=(39, 40), match='L'>\n",
            "<re.Match object; span=(40, 41), match='M'>\n",
            "<re.Match object; span=(41, 42), match='N'>\n",
            "<re.Match object; span=(42, 43), match='O'>\n",
            "<re.Match object; span=(43, 44), match='P'>\n",
            "<re.Match object; span=(44, 45), match='Q'>\n",
            "<re.Match object; span=(45, 46), match='R'>\n",
            "<re.Match object; span=(46, 47), match='S'>\n",
            "<re.Match object; span=(47, 48), match='T'>\n",
            "<re.Match object; span=(48, 49), match='U'>\n",
            "<re.Match object; span=(49, 50), match='V'>\n",
            "<re.Match object; span=(50, 51), match='W'>\n",
            "<re.Match object; span=(51, 52), match='X'>\n",
            "<re.Match object; span=(52, 53), match='Y'>\n",
            "<re.Match object; span=(53, 54), match='Z'>\n",
            "<re.Match object; span=(55, 56), match='1'>\n",
            "<re.Match object; span=(56, 57), match='2'>\n",
            "<re.Match object; span=(57, 58), match='3'>\n",
            "<re.Match object; span=(58, 59), match='4'>\n",
            "<re.Match object; span=(59, 60), match='5'>\n",
            "<re.Match object; span=(60, 61), match='6'>\n",
            "<re.Match object; span=(61, 62), match='7'>\n",
            "<re.Match object; span=(62, 63), match='8'>\n",
            "<re.Match object; span=(63, 64), match='9'>\n",
            "<re.Match object; span=(64, 65), match='0'>\n",
            "<re.Match object; span=(67, 68), match='H'>\n",
            "<re.Match object; span=(68, 69), match='a'>\n",
            "<re.Match object; span=(69, 70), match=' '>\n",
            "<re.Match object; span=(70, 71), match='H'>\n",
            "<re.Match object; span=(71, 72), match='a'>\n",
            "<re.Match object; span=(72, 73), match='H'>\n",
            "<re.Match object; span=(73, 74), match='a'>\n",
            "<re.Match object; span=(76, 77), match='M'>\n",
            "<re.Match object; span=(77, 78), match='e'>\n",
            "<re.Match object; span=(78, 79), match='t'>\n",
            "<re.Match object; span=(79, 80), match='a'>\n",
            "<re.Match object; span=(80, 81), match='C'>\n",
            "<re.Match object; span=(81, 82), match='h'>\n",
            "<re.Match object; span=(82, 83), match='a'>\n",
            "<re.Match object; span=(83, 84), match='r'>\n",
            "<re.Match object; span=(84, 85), match='a'>\n",
            "<re.Match object; span=(85, 86), match='c'>\n",
            "<re.Match object; span=(86, 87), match='t'>\n",
            "<re.Match object; span=(87, 88), match='e'>\n",
            "<re.Match object; span=(88, 89), match='r'>\n",
            "<re.Match object; span=(89, 90), match='s'>\n",
            "<re.Match object; span=(90, 91), match=' '>\n",
            "<re.Match object; span=(91, 92), match='('>\n",
            "<re.Match object; span=(92, 93), match='N'>\n",
            "<re.Match object; span=(93, 94), match='e'>\n",
            "<re.Match object; span=(94, 95), match='e'>\n",
            "<re.Match object; span=(95, 96), match='d'>\n",
            "<re.Match object; span=(96, 97), match=' '>\n",
            "<re.Match object; span=(97, 98), match='t'>\n",
            "<re.Match object; span=(98, 99), match='o'>\n",
            "<re.Match object; span=(99, 100), match=' '>\n",
            "<re.Match object; span=(100, 101), match='b'>\n",
            "<re.Match object; span=(101, 102), match='e'>\n",
            "<re.Match object; span=(102, 103), match=' '>\n",
            "<re.Match object; span=(103, 104), match='e'>\n",
            "<re.Match object; span=(104, 105), match='s'>\n",
            "<re.Match object; span=(105, 106), match='c'>\n",
            "<re.Match object; span=(106, 107), match='a'>\n",
            "<re.Match object; span=(107, 108), match='p'>\n",
            "<re.Match object; span=(108, 109), match='e'>\n",
            "<re.Match object; span=(109, 110), match='d'>\n",
            "<re.Match object; span=(110, 111), match=')'>\n",
            "<re.Match object; span=(111, 112), match=':'>\n",
            "<re.Match object; span=(113, 114), match='.'>\n",
            "<re.Match object; span=(114, 115), match=' '>\n",
            "<re.Match object; span=(115, 116), match='^'>\n",
            "<re.Match object; span=(116, 117), match=' '>\n",
            "<re.Match object; span=(117, 118), match='$'>\n",
            "<re.Match object; span=(118, 119), match=' '>\n",
            "<re.Match object; span=(119, 120), match='*'>\n",
            "<re.Match object; span=(120, 121), match=' '>\n",
            "<re.Match object; span=(121, 122), match='+'>\n",
            "<re.Match object; span=(122, 123), match=' '>\n",
            "<re.Match object; span=(123, 124), match='?'>\n",
            "<re.Match object; span=(124, 125), match=' '>\n",
            "<re.Match object; span=(125, 126), match='{'>\n",
            "<re.Match object; span=(126, 127), match=' '>\n",
            "<re.Match object; span=(127, 128), match='}'>\n",
            "<re.Match object; span=(128, 129), match=' '>\n",
            "<re.Match object; span=(129, 130), match='['>\n",
            "<re.Match object; span=(130, 131), match=' '>\n",
            "<re.Match object; span=(131, 132), match=']'>\n",
            "<re.Match object; span=(132, 133), match=' '>\n",
            "<re.Match object; span=(133, 134), match='\\\\'>\n",
            "<re.Match object; span=(134, 135), match=' '>\n",
            "<re.Match object; span=(135, 136), match='|'>\n",
            "<re.Match object; span=(136, 137), match=' '>\n",
            "<re.Match object; span=(137, 138), match='('>\n",
            "<re.Match object; span=(138, 139), match=' '>\n",
            "<re.Match object; span=(139, 140), match=')'>\n",
            "<re.Match object; span=(142, 143), match='c'>\n",
            "<re.Match object; span=(143, 144), match='o'>\n",
            "<re.Match object; span=(144, 145), match='r'>\n",
            "<re.Match object; span=(145, 146), match='e'>\n",
            "<re.Match object; span=(146, 147), match='y'>\n",
            "<re.Match object; span=(147, 148), match='m'>\n",
            "<re.Match object; span=(148, 149), match='s'>\n",
            "<re.Match object; span=(149, 150), match='.'>\n",
            "<re.Match object; span=(150, 151), match='c'>\n",
            "<re.Match object; span=(151, 152), match='o'>\n",
            "<re.Match object; span=(152, 153), match='m'>\n",
            "<re.Match object; span=(155, 156), match='3'>\n",
            "<re.Match object; span=(156, 157), match='2'>\n",
            "<re.Match object; span=(157, 158), match='1'>\n",
            "<re.Match object; span=(158, 159), match='-'>\n",
            "<re.Match object; span=(159, 160), match='5'>\n",
            "<re.Match object; span=(160, 161), match='5'>\n",
            "<re.Match object; span=(161, 162), match='5'>\n",
            "<re.Match object; span=(162, 163), match='-'>\n",
            "<re.Match object; span=(163, 164), match='4'>\n",
            "<re.Match object; span=(164, 165), match='3'>\n",
            "<re.Match object; span=(165, 166), match='2'>\n",
            "<re.Match object; span=(166, 167), match='1'>\n",
            "<re.Match object; span=(168, 169), match='1'>\n",
            "<re.Match object; span=(169, 170), match='2'>\n",
            "<re.Match object; span=(170, 171), match='3'>\n",
            "<re.Match object; span=(171, 172), match='.'>\n",
            "<re.Match object; span=(172, 173), match='5'>\n",
            "<re.Match object; span=(173, 174), match='5'>\n",
            "<re.Match object; span=(174, 175), match='5'>\n",
            "<re.Match object; span=(175, 176), match='.'>\n",
            "<re.Match object; span=(176, 177), match='1'>\n",
            "<re.Match object; span=(177, 178), match='2'>\n",
            "<re.Match object; span=(178, 179), match='3'>\n",
            "<re.Match object; span=(179, 180), match='4'>\n",
            "<re.Match object; span=(181, 182), match='1'>\n",
            "<re.Match object; span=(182, 183), match='2'>\n",
            "<re.Match object; span=(183, 184), match='3'>\n",
            "<re.Match object; span=(184, 185), match='*'>\n",
            "<re.Match object; span=(185, 186), match='5'>\n",
            "<re.Match object; span=(186, 187), match='5'>\n",
            "<re.Match object; span=(187, 188), match='5'>\n",
            "<re.Match object; span=(188, 189), match='*'>\n",
            "<re.Match object; span=(189, 190), match='1'>\n",
            "<re.Match object; span=(190, 191), match='2'>\n",
            "<re.Match object; span=(191, 192), match='3'>\n",
            "<re.Match object; span=(192, 193), match='4'>\n",
            "<re.Match object; span=(194, 195), match='8'>\n",
            "<re.Match object; span=(195, 196), match='0'>\n",
            "<re.Match object; span=(196, 197), match='0'>\n",
            "<re.Match object; span=(197, 198), match='-'>\n",
            "<re.Match object; span=(198, 199), match='5'>\n",
            "<re.Match object; span=(199, 200), match='5'>\n",
            "<re.Match object; span=(200, 201), match='5'>\n",
            "<re.Match object; span=(201, 202), match='-'>\n",
            "<re.Match object; span=(202, 203), match='1'>\n",
            "<re.Match object; span=(203, 204), match='2'>\n",
            "<re.Match object; span=(204, 205), match='3'>\n",
            "<re.Match object; span=(205, 206), match='4'>\n",
            "<re.Match object; span=(207, 208), match='9'>\n",
            "<re.Match object; span=(208, 209), match='0'>\n",
            "<re.Match object; span=(209, 210), match='0'>\n",
            "<re.Match object; span=(210, 211), match='-'>\n",
            "<re.Match object; span=(211, 212), match='5'>\n",
            "<re.Match object; span=(212, 213), match='5'>\n",
            "<re.Match object; span=(213, 214), match='5'>\n",
            "<re.Match object; span=(214, 215), match='-'>\n",
            "<re.Match object; span=(215, 216), match='1'>\n",
            "<re.Match object; span=(216, 217), match='2'>\n",
            "<re.Match object; span=(217, 218), match='3'>\n",
            "<re.Match object; span=(218, 219), match='4'>\n",
            "<re.Match object; span=(221, 222), match='M'>\n",
            "<re.Match object; span=(222, 223), match='r'>\n",
            "<re.Match object; span=(223, 224), match='.'>\n",
            "<re.Match object; span=(224, 225), match=' '>\n",
            "<re.Match object; span=(225, 226), match='S'>\n",
            "<re.Match object; span=(226, 227), match='c'>\n",
            "<re.Match object; span=(227, 228), match='h'>\n",
            "<re.Match object; span=(228, 229), match='a'>\n",
            "<re.Match object; span=(229, 230), match='f'>\n",
            "<re.Match object; span=(230, 231), match='e'>\n",
            "<re.Match object; span=(231, 232), match='r'>\n",
            "<re.Match object; span=(233, 234), match='M'>\n",
            "<re.Match object; span=(234, 235), match='r'>\n",
            "<re.Match object; span=(235, 236), match=' '>\n",
            "<re.Match object; span=(236, 237), match='S'>\n",
            "<re.Match object; span=(237, 238), match='m'>\n",
            "<re.Match object; span=(238, 239), match='i'>\n",
            "<re.Match object; span=(239, 240), match='t'>\n",
            "<re.Match object; span=(240, 241), match='h'>\n",
            "<re.Match object; span=(242, 243), match='M'>\n",
            "<re.Match object; span=(243, 244), match='s'>\n",
            "<re.Match object; span=(244, 245), match=' '>\n",
            "<re.Match object; span=(245, 246), match='D'>\n",
            "<re.Match object; span=(246, 247), match='a'>\n",
            "<re.Match object; span=(247, 248), match='v'>\n",
            "<re.Match object; span=(248, 249), match='i'>\n",
            "<re.Match object; span=(249, 250), match='s'>\n",
            "<re.Match object; span=(251, 252), match='M'>\n",
            "<re.Match object; span=(252, 253), match='r'>\n",
            "<re.Match object; span=(253, 254), match='s'>\n",
            "<re.Match object; span=(254, 255), match='.'>\n",
            "<re.Match object; span=(255, 256), match=' '>\n",
            "<re.Match object; span=(256, 257), match='R'>\n",
            "<re.Match object; span=(257, 258), match='o'>\n",
            "<re.Match object; span=(258, 259), match='b'>\n",
            "<re.Match object; span=(259, 260), match='i'>\n",
            "<re.Match object; span=(260, 261), match='n'>\n",
            "<re.Match object; span=(261, 262), match='s'>\n",
            "<re.Match object; span=(262, 263), match='o'>\n",
            "<re.Match object; span=(263, 264), match='n'>\n",
            "<re.Match object; span=(265, 266), match='M'>\n",
            "<re.Match object; span=(266, 267), match='r'>\n",
            "<re.Match object; span=(267, 268), match='.'>\n",
            "<re.Match object; span=(268, 269), match=' '>\n",
            "<re.Match object; span=(269, 270), match='T'>\n"
          ]
        }
      ]
    },
    {
      "cell_type": "code",
      "source": [
        "pattern = re.compile(r'\\.')\n",
        "pattern\n",
        "matches = pattern.finditer(data,)\n",
        "for match in matches:\n",
        "  print(match)"
      ],
      "metadata": {
        "colab": {
          "base_uri": "https://localhost:8080/"
        },
        "id": "if8PV9cIn3dT",
        "outputId": "3a014338-48c7-44c1-d2e5-f143a7dcf533"
      },
      "execution_count": 24,
      "outputs": [
        {
          "output_type": "stream",
          "name": "stdout",
          "text": [
            "<re.Match object; span=(113, 114), match='.'>\n",
            "<re.Match object; span=(149, 150), match='.'>\n",
            "<re.Match object; span=(171, 172), match='.'>\n",
            "<re.Match object; span=(175, 176), match='.'>\n",
            "<re.Match object; span=(223, 224), match='.'>\n",
            "<re.Match object; span=(254, 255), match='.'>\n",
            "<re.Match object; span=(267, 268), match='.'>\n"
          ]
        }
      ]
    },
    {
      "cell_type": "code",
      "source": [
        "pattern = re.compile(r'coreyms\\.com')\n",
        "pattern\n",
        "matches = pattern.finditer(data,)\n",
        "for match in matches:\n",
        "  print(match)"
      ],
      "metadata": {
        "colab": {
          "base_uri": "https://localhost:8080/"
        },
        "id": "QFhxZV1MoErr",
        "outputId": "b695ff40-b646-414d-bc84-d1b188c5aeb0"
      },
      "execution_count": 27,
      "outputs": [
        {
          "output_type": "stream",
          "name": "stdout",
          "text": [
            "<re.Match object; span=(142, 153), match='coreyms.com'>\n"
          ]
        }
      ]
    },
    {
      "cell_type": "code",
      "source": [
        "data[142:153]"
      ],
      "metadata": {
        "colab": {
          "base_uri": "https://localhost:8080/",
          "height": 35
        },
        "id": "8CYROdA8oWga",
        "outputId": "31289695-bcba-444a-aa8d-dcd22d18d404"
      },
      "execution_count": 28,
      "outputs": [
        {
          "output_type": "execute_result",
          "data": {
            "text/plain": [
              "'coreyms.com'"
            ],
            "application/vnd.google.colaboratory.intrinsic+json": {
              "type": "string"
            }
          },
          "metadata": {},
          "execution_count": 28
        }
      ]
    },
    {
      "cell_type": "code",
      "source": [
        "pattern = re.compile(r'\\d')  # any digit\n",
        "pattern\n",
        "matches = pattern.finditer(data,)\n",
        "for match in matches:\n",
        "  print(match)"
      ],
      "metadata": {
        "colab": {
          "base_uri": "https://localhost:8080/"
        },
        "id": "5S3f7DIIobxj",
        "outputId": "94ac19d5-6903-471e-b9c5-19263b01dd3b"
      },
      "execution_count": 29,
      "outputs": [
        {
          "output_type": "stream",
          "name": "stdout",
          "text": [
            "<re.Match object; span=(55, 56), match='1'>\n",
            "<re.Match object; span=(56, 57), match='2'>\n",
            "<re.Match object; span=(57, 58), match='3'>\n",
            "<re.Match object; span=(58, 59), match='4'>\n",
            "<re.Match object; span=(59, 60), match='5'>\n",
            "<re.Match object; span=(60, 61), match='6'>\n",
            "<re.Match object; span=(61, 62), match='7'>\n",
            "<re.Match object; span=(62, 63), match='8'>\n",
            "<re.Match object; span=(63, 64), match='9'>\n",
            "<re.Match object; span=(64, 65), match='0'>\n",
            "<re.Match object; span=(155, 156), match='3'>\n",
            "<re.Match object; span=(156, 157), match='2'>\n",
            "<re.Match object; span=(157, 158), match='1'>\n",
            "<re.Match object; span=(159, 160), match='5'>\n",
            "<re.Match object; span=(160, 161), match='5'>\n",
            "<re.Match object; span=(161, 162), match='5'>\n",
            "<re.Match object; span=(163, 164), match='4'>\n",
            "<re.Match object; span=(164, 165), match='3'>\n",
            "<re.Match object; span=(165, 166), match='2'>\n",
            "<re.Match object; span=(166, 167), match='1'>\n",
            "<re.Match object; span=(168, 169), match='1'>\n",
            "<re.Match object; span=(169, 170), match='2'>\n",
            "<re.Match object; span=(170, 171), match='3'>\n",
            "<re.Match object; span=(172, 173), match='5'>\n",
            "<re.Match object; span=(173, 174), match='5'>\n",
            "<re.Match object; span=(174, 175), match='5'>\n",
            "<re.Match object; span=(176, 177), match='1'>\n",
            "<re.Match object; span=(177, 178), match='2'>\n",
            "<re.Match object; span=(178, 179), match='3'>\n",
            "<re.Match object; span=(179, 180), match='4'>\n",
            "<re.Match object; span=(181, 182), match='1'>\n",
            "<re.Match object; span=(182, 183), match='2'>\n",
            "<re.Match object; span=(183, 184), match='3'>\n",
            "<re.Match object; span=(185, 186), match='5'>\n",
            "<re.Match object; span=(186, 187), match='5'>\n",
            "<re.Match object; span=(187, 188), match='5'>\n",
            "<re.Match object; span=(189, 190), match='1'>\n",
            "<re.Match object; span=(190, 191), match='2'>\n",
            "<re.Match object; span=(191, 192), match='3'>\n",
            "<re.Match object; span=(192, 193), match='4'>\n",
            "<re.Match object; span=(194, 195), match='8'>\n",
            "<re.Match object; span=(195, 196), match='0'>\n",
            "<re.Match object; span=(196, 197), match='0'>\n",
            "<re.Match object; span=(198, 199), match='5'>\n",
            "<re.Match object; span=(199, 200), match='5'>\n",
            "<re.Match object; span=(200, 201), match='5'>\n",
            "<re.Match object; span=(202, 203), match='1'>\n",
            "<re.Match object; span=(203, 204), match='2'>\n",
            "<re.Match object; span=(204, 205), match='3'>\n",
            "<re.Match object; span=(205, 206), match='4'>\n",
            "<re.Match object; span=(207, 208), match='9'>\n",
            "<re.Match object; span=(208, 209), match='0'>\n",
            "<re.Match object; span=(209, 210), match='0'>\n",
            "<re.Match object; span=(211, 212), match='5'>\n",
            "<re.Match object; span=(212, 213), match='5'>\n",
            "<re.Match object; span=(213, 214), match='5'>\n",
            "<re.Match object; span=(215, 216), match='1'>\n",
            "<re.Match object; span=(216, 217), match='2'>\n",
            "<re.Match object; span=(217, 218), match='3'>\n",
            "<re.Match object; span=(218, 219), match='4'>\n"
          ]
        }
      ]
    },
    {
      "cell_type": "code",
      "source": [
        "pattern = re.compile(r'\\D')  # not a  digit\n",
        "pattern\n",
        "matches = pattern.finditer(data,)\n",
        "for match in matches:\n",
        "  print(match)"
      ],
      "metadata": {
        "colab": {
          "base_uri": "https://localhost:8080/"
        },
        "id": "G-PW4YTKqOyJ",
        "outputId": "42c20821-104c-45df-fbdb-46b8e0853693"
      },
      "execution_count": 30,
      "outputs": [
        {
          "output_type": "stream",
          "name": "stdout",
          "text": [
            "<re.Match object; span=(0, 1), match='\\n'>\n",
            "<re.Match object; span=(1, 2), match='a'>\n",
            "<re.Match object; span=(2, 3), match='b'>\n",
            "<re.Match object; span=(3, 4), match='c'>\n",
            "<re.Match object; span=(4, 5), match='d'>\n",
            "<re.Match object; span=(5, 6), match='e'>\n",
            "<re.Match object; span=(6, 7), match='f'>\n",
            "<re.Match object; span=(7, 8), match='g'>\n",
            "<re.Match object; span=(8, 9), match='h'>\n",
            "<re.Match object; span=(9, 10), match='i'>\n",
            "<re.Match object; span=(10, 11), match='j'>\n",
            "<re.Match object; span=(11, 12), match='k'>\n",
            "<re.Match object; span=(12, 13), match='l'>\n",
            "<re.Match object; span=(13, 14), match='m'>\n",
            "<re.Match object; span=(14, 15), match='n'>\n",
            "<re.Match object; span=(15, 16), match='o'>\n",
            "<re.Match object; span=(16, 17), match='p'>\n",
            "<re.Match object; span=(17, 18), match='q'>\n",
            "<re.Match object; span=(18, 19), match='u'>\n",
            "<re.Match object; span=(19, 20), match='r'>\n",
            "<re.Match object; span=(20, 21), match='t'>\n",
            "<re.Match object; span=(21, 22), match='u'>\n",
            "<re.Match object; span=(22, 23), match='v'>\n",
            "<re.Match object; span=(23, 24), match='w'>\n",
            "<re.Match object; span=(24, 25), match='x'>\n",
            "<re.Match object; span=(25, 26), match='y'>\n",
            "<re.Match object; span=(26, 27), match='z'>\n",
            "<re.Match object; span=(27, 28), match='\\n'>\n",
            "<re.Match object; span=(28, 29), match='A'>\n",
            "<re.Match object; span=(29, 30), match='B'>\n",
            "<re.Match object; span=(30, 31), match='C'>\n",
            "<re.Match object; span=(31, 32), match='D'>\n",
            "<re.Match object; span=(32, 33), match='E'>\n",
            "<re.Match object; span=(33, 34), match='F'>\n",
            "<re.Match object; span=(34, 35), match='G'>\n",
            "<re.Match object; span=(35, 36), match='H'>\n",
            "<re.Match object; span=(36, 37), match='I'>\n",
            "<re.Match object; span=(37, 38), match='J'>\n",
            "<re.Match object; span=(38, 39), match='K'>\n",
            "<re.Match object; span=(39, 40), match='L'>\n",
            "<re.Match object; span=(40, 41), match='M'>\n",
            "<re.Match object; span=(41, 42), match='N'>\n",
            "<re.Match object; span=(42, 43), match='O'>\n",
            "<re.Match object; span=(43, 44), match='P'>\n",
            "<re.Match object; span=(44, 45), match='Q'>\n",
            "<re.Match object; span=(45, 46), match='R'>\n",
            "<re.Match object; span=(46, 47), match='S'>\n",
            "<re.Match object; span=(47, 48), match='T'>\n",
            "<re.Match object; span=(48, 49), match='U'>\n",
            "<re.Match object; span=(49, 50), match='V'>\n",
            "<re.Match object; span=(50, 51), match='W'>\n",
            "<re.Match object; span=(51, 52), match='X'>\n",
            "<re.Match object; span=(52, 53), match='Y'>\n",
            "<re.Match object; span=(53, 54), match='Z'>\n",
            "<re.Match object; span=(54, 55), match='\\n'>\n",
            "<re.Match object; span=(65, 66), match='\\n'>\n",
            "<re.Match object; span=(66, 67), match='\\n'>\n",
            "<re.Match object; span=(67, 68), match='H'>\n",
            "<re.Match object; span=(68, 69), match='a'>\n",
            "<re.Match object; span=(69, 70), match=' '>\n",
            "<re.Match object; span=(70, 71), match='H'>\n",
            "<re.Match object; span=(71, 72), match='a'>\n",
            "<re.Match object; span=(72, 73), match='H'>\n",
            "<re.Match object; span=(73, 74), match='a'>\n",
            "<re.Match object; span=(74, 75), match='\\n'>\n",
            "<re.Match object; span=(75, 76), match='\\n'>\n",
            "<re.Match object; span=(76, 77), match='M'>\n",
            "<re.Match object; span=(77, 78), match='e'>\n",
            "<re.Match object; span=(78, 79), match='t'>\n",
            "<re.Match object; span=(79, 80), match='a'>\n",
            "<re.Match object; span=(80, 81), match='C'>\n",
            "<re.Match object; span=(81, 82), match='h'>\n",
            "<re.Match object; span=(82, 83), match='a'>\n",
            "<re.Match object; span=(83, 84), match='r'>\n",
            "<re.Match object; span=(84, 85), match='a'>\n",
            "<re.Match object; span=(85, 86), match='c'>\n",
            "<re.Match object; span=(86, 87), match='t'>\n",
            "<re.Match object; span=(87, 88), match='e'>\n",
            "<re.Match object; span=(88, 89), match='r'>\n",
            "<re.Match object; span=(89, 90), match='s'>\n",
            "<re.Match object; span=(90, 91), match=' '>\n",
            "<re.Match object; span=(91, 92), match='('>\n",
            "<re.Match object; span=(92, 93), match='N'>\n",
            "<re.Match object; span=(93, 94), match='e'>\n",
            "<re.Match object; span=(94, 95), match='e'>\n",
            "<re.Match object; span=(95, 96), match='d'>\n",
            "<re.Match object; span=(96, 97), match=' '>\n",
            "<re.Match object; span=(97, 98), match='t'>\n",
            "<re.Match object; span=(98, 99), match='o'>\n",
            "<re.Match object; span=(99, 100), match=' '>\n",
            "<re.Match object; span=(100, 101), match='b'>\n",
            "<re.Match object; span=(101, 102), match='e'>\n",
            "<re.Match object; span=(102, 103), match=' '>\n",
            "<re.Match object; span=(103, 104), match='e'>\n",
            "<re.Match object; span=(104, 105), match='s'>\n",
            "<re.Match object; span=(105, 106), match='c'>\n",
            "<re.Match object; span=(106, 107), match='a'>\n",
            "<re.Match object; span=(107, 108), match='p'>\n",
            "<re.Match object; span=(108, 109), match='e'>\n",
            "<re.Match object; span=(109, 110), match='d'>\n",
            "<re.Match object; span=(110, 111), match=')'>\n",
            "<re.Match object; span=(111, 112), match=':'>\n",
            "<re.Match object; span=(112, 113), match='\\n'>\n",
            "<re.Match object; span=(113, 114), match='.'>\n",
            "<re.Match object; span=(114, 115), match=' '>\n",
            "<re.Match object; span=(115, 116), match='^'>\n",
            "<re.Match object; span=(116, 117), match=' '>\n",
            "<re.Match object; span=(117, 118), match='$'>\n",
            "<re.Match object; span=(118, 119), match=' '>\n",
            "<re.Match object; span=(119, 120), match='*'>\n",
            "<re.Match object; span=(120, 121), match=' '>\n",
            "<re.Match object; span=(121, 122), match='+'>\n",
            "<re.Match object; span=(122, 123), match=' '>\n",
            "<re.Match object; span=(123, 124), match='?'>\n",
            "<re.Match object; span=(124, 125), match=' '>\n",
            "<re.Match object; span=(125, 126), match='{'>\n",
            "<re.Match object; span=(126, 127), match=' '>\n",
            "<re.Match object; span=(127, 128), match='}'>\n",
            "<re.Match object; span=(128, 129), match=' '>\n",
            "<re.Match object; span=(129, 130), match='['>\n",
            "<re.Match object; span=(130, 131), match=' '>\n",
            "<re.Match object; span=(131, 132), match=']'>\n",
            "<re.Match object; span=(132, 133), match=' '>\n",
            "<re.Match object; span=(133, 134), match='\\\\'>\n",
            "<re.Match object; span=(134, 135), match=' '>\n",
            "<re.Match object; span=(135, 136), match='|'>\n",
            "<re.Match object; span=(136, 137), match=' '>\n",
            "<re.Match object; span=(137, 138), match='('>\n",
            "<re.Match object; span=(138, 139), match=' '>\n",
            "<re.Match object; span=(139, 140), match=')'>\n",
            "<re.Match object; span=(140, 141), match='\\n'>\n",
            "<re.Match object; span=(141, 142), match='\\n'>\n",
            "<re.Match object; span=(142, 143), match='c'>\n",
            "<re.Match object; span=(143, 144), match='o'>\n",
            "<re.Match object; span=(144, 145), match='r'>\n",
            "<re.Match object; span=(145, 146), match='e'>\n",
            "<re.Match object; span=(146, 147), match='y'>\n",
            "<re.Match object; span=(147, 148), match='m'>\n",
            "<re.Match object; span=(148, 149), match='s'>\n",
            "<re.Match object; span=(149, 150), match='.'>\n",
            "<re.Match object; span=(150, 151), match='c'>\n",
            "<re.Match object; span=(151, 152), match='o'>\n",
            "<re.Match object; span=(152, 153), match='m'>\n",
            "<re.Match object; span=(153, 154), match='\\n'>\n",
            "<re.Match object; span=(154, 155), match='\\n'>\n",
            "<re.Match object; span=(158, 159), match='-'>\n",
            "<re.Match object; span=(162, 163), match='-'>\n",
            "<re.Match object; span=(167, 168), match='\\n'>\n",
            "<re.Match object; span=(171, 172), match='.'>\n",
            "<re.Match object; span=(175, 176), match='.'>\n",
            "<re.Match object; span=(180, 181), match='\\n'>\n",
            "<re.Match object; span=(184, 185), match='*'>\n",
            "<re.Match object; span=(188, 189), match='*'>\n",
            "<re.Match object; span=(193, 194), match='\\n'>\n",
            "<re.Match object; span=(197, 198), match='-'>\n",
            "<re.Match object; span=(201, 202), match='-'>\n",
            "<re.Match object; span=(206, 207), match='\\n'>\n",
            "<re.Match object; span=(210, 211), match='-'>\n",
            "<re.Match object; span=(214, 215), match='-'>\n",
            "<re.Match object; span=(219, 220), match='\\n'>\n",
            "<re.Match object; span=(220, 221), match='\\n'>\n",
            "<re.Match object; span=(221, 222), match='M'>\n",
            "<re.Match object; span=(222, 223), match='r'>\n",
            "<re.Match object; span=(223, 224), match='.'>\n",
            "<re.Match object; span=(224, 225), match=' '>\n",
            "<re.Match object; span=(225, 226), match='S'>\n",
            "<re.Match object; span=(226, 227), match='c'>\n",
            "<re.Match object; span=(227, 228), match='h'>\n",
            "<re.Match object; span=(228, 229), match='a'>\n",
            "<re.Match object; span=(229, 230), match='f'>\n",
            "<re.Match object; span=(230, 231), match='e'>\n",
            "<re.Match object; span=(231, 232), match='r'>\n",
            "<re.Match object; span=(232, 233), match='\\n'>\n",
            "<re.Match object; span=(233, 234), match='M'>\n",
            "<re.Match object; span=(234, 235), match='r'>\n",
            "<re.Match object; span=(235, 236), match=' '>\n",
            "<re.Match object; span=(236, 237), match='S'>\n",
            "<re.Match object; span=(237, 238), match='m'>\n",
            "<re.Match object; span=(238, 239), match='i'>\n",
            "<re.Match object; span=(239, 240), match='t'>\n",
            "<re.Match object; span=(240, 241), match='h'>\n",
            "<re.Match object; span=(241, 242), match='\\n'>\n",
            "<re.Match object; span=(242, 243), match='M'>\n",
            "<re.Match object; span=(243, 244), match='s'>\n",
            "<re.Match object; span=(244, 245), match=' '>\n",
            "<re.Match object; span=(245, 246), match='D'>\n",
            "<re.Match object; span=(246, 247), match='a'>\n",
            "<re.Match object; span=(247, 248), match='v'>\n",
            "<re.Match object; span=(248, 249), match='i'>\n",
            "<re.Match object; span=(249, 250), match='s'>\n",
            "<re.Match object; span=(250, 251), match='\\n'>\n",
            "<re.Match object; span=(251, 252), match='M'>\n",
            "<re.Match object; span=(252, 253), match='r'>\n",
            "<re.Match object; span=(253, 254), match='s'>\n",
            "<re.Match object; span=(254, 255), match='.'>\n",
            "<re.Match object; span=(255, 256), match=' '>\n",
            "<re.Match object; span=(256, 257), match='R'>\n",
            "<re.Match object; span=(257, 258), match='o'>\n",
            "<re.Match object; span=(258, 259), match='b'>\n",
            "<re.Match object; span=(259, 260), match='i'>\n",
            "<re.Match object; span=(260, 261), match='n'>\n",
            "<re.Match object; span=(261, 262), match='s'>\n",
            "<re.Match object; span=(262, 263), match='o'>\n",
            "<re.Match object; span=(263, 264), match='n'>\n",
            "<re.Match object; span=(264, 265), match='\\n'>\n",
            "<re.Match object; span=(265, 266), match='M'>\n",
            "<re.Match object; span=(266, 267), match='r'>\n",
            "<re.Match object; span=(267, 268), match='.'>\n",
            "<re.Match object; span=(268, 269), match=' '>\n",
            "<re.Match object; span=(269, 270), match='T'>\n",
            "<re.Match object; span=(270, 271), match='\\n'>\n"
          ]
        }
      ]
    },
    {
      "cell_type": "code",
      "source": [
        "pattern = re.compile(r'\\w')  # word character a-z, A-Z, 0-9, _\n",
        "pattern\n",
        "matches = pattern.finditer(data,)\n",
        "for match in matches:\n",
        "  print(match)"
      ],
      "metadata": {
        "colab": {
          "base_uri": "https://localhost:8080/"
        },
        "id": "zTtws1DPqVMg",
        "outputId": "547bcdc4-fd2b-473d-af27-50ae8aef8707"
      },
      "execution_count": 31,
      "outputs": [
        {
          "output_type": "stream",
          "name": "stdout",
          "text": [
            "<re.Match object; span=(1, 2), match='a'>\n",
            "<re.Match object; span=(2, 3), match='b'>\n",
            "<re.Match object; span=(3, 4), match='c'>\n",
            "<re.Match object; span=(4, 5), match='d'>\n",
            "<re.Match object; span=(5, 6), match='e'>\n",
            "<re.Match object; span=(6, 7), match='f'>\n",
            "<re.Match object; span=(7, 8), match='g'>\n",
            "<re.Match object; span=(8, 9), match='h'>\n",
            "<re.Match object; span=(9, 10), match='i'>\n",
            "<re.Match object; span=(10, 11), match='j'>\n",
            "<re.Match object; span=(11, 12), match='k'>\n",
            "<re.Match object; span=(12, 13), match='l'>\n",
            "<re.Match object; span=(13, 14), match='m'>\n",
            "<re.Match object; span=(14, 15), match='n'>\n",
            "<re.Match object; span=(15, 16), match='o'>\n",
            "<re.Match object; span=(16, 17), match='p'>\n",
            "<re.Match object; span=(17, 18), match='q'>\n",
            "<re.Match object; span=(18, 19), match='u'>\n",
            "<re.Match object; span=(19, 20), match='r'>\n",
            "<re.Match object; span=(20, 21), match='t'>\n",
            "<re.Match object; span=(21, 22), match='u'>\n",
            "<re.Match object; span=(22, 23), match='v'>\n",
            "<re.Match object; span=(23, 24), match='w'>\n",
            "<re.Match object; span=(24, 25), match='x'>\n",
            "<re.Match object; span=(25, 26), match='y'>\n",
            "<re.Match object; span=(26, 27), match='z'>\n",
            "<re.Match object; span=(28, 29), match='A'>\n",
            "<re.Match object; span=(29, 30), match='B'>\n",
            "<re.Match object; span=(30, 31), match='C'>\n",
            "<re.Match object; span=(31, 32), match='D'>\n",
            "<re.Match object; span=(32, 33), match='E'>\n",
            "<re.Match object; span=(33, 34), match='F'>\n",
            "<re.Match object; span=(34, 35), match='G'>\n",
            "<re.Match object; span=(35, 36), match='H'>\n",
            "<re.Match object; span=(36, 37), match='I'>\n",
            "<re.Match object; span=(37, 38), match='J'>\n",
            "<re.Match object; span=(38, 39), match='K'>\n",
            "<re.Match object; span=(39, 40), match='L'>\n",
            "<re.Match object; span=(40, 41), match='M'>\n",
            "<re.Match object; span=(41, 42), match='N'>\n",
            "<re.Match object; span=(42, 43), match='O'>\n",
            "<re.Match object; span=(43, 44), match='P'>\n",
            "<re.Match object; span=(44, 45), match='Q'>\n",
            "<re.Match object; span=(45, 46), match='R'>\n",
            "<re.Match object; span=(46, 47), match='S'>\n",
            "<re.Match object; span=(47, 48), match='T'>\n",
            "<re.Match object; span=(48, 49), match='U'>\n",
            "<re.Match object; span=(49, 50), match='V'>\n",
            "<re.Match object; span=(50, 51), match='W'>\n",
            "<re.Match object; span=(51, 52), match='X'>\n",
            "<re.Match object; span=(52, 53), match='Y'>\n",
            "<re.Match object; span=(53, 54), match='Z'>\n",
            "<re.Match object; span=(55, 56), match='1'>\n",
            "<re.Match object; span=(56, 57), match='2'>\n",
            "<re.Match object; span=(57, 58), match='3'>\n",
            "<re.Match object; span=(58, 59), match='4'>\n",
            "<re.Match object; span=(59, 60), match='5'>\n",
            "<re.Match object; span=(60, 61), match='6'>\n",
            "<re.Match object; span=(61, 62), match='7'>\n",
            "<re.Match object; span=(62, 63), match='8'>\n",
            "<re.Match object; span=(63, 64), match='9'>\n",
            "<re.Match object; span=(64, 65), match='0'>\n",
            "<re.Match object; span=(67, 68), match='H'>\n",
            "<re.Match object; span=(68, 69), match='a'>\n",
            "<re.Match object; span=(70, 71), match='H'>\n",
            "<re.Match object; span=(71, 72), match='a'>\n",
            "<re.Match object; span=(72, 73), match='H'>\n",
            "<re.Match object; span=(73, 74), match='a'>\n",
            "<re.Match object; span=(76, 77), match='M'>\n",
            "<re.Match object; span=(77, 78), match='e'>\n",
            "<re.Match object; span=(78, 79), match='t'>\n",
            "<re.Match object; span=(79, 80), match='a'>\n",
            "<re.Match object; span=(80, 81), match='C'>\n",
            "<re.Match object; span=(81, 82), match='h'>\n",
            "<re.Match object; span=(82, 83), match='a'>\n",
            "<re.Match object; span=(83, 84), match='r'>\n",
            "<re.Match object; span=(84, 85), match='a'>\n",
            "<re.Match object; span=(85, 86), match='c'>\n",
            "<re.Match object; span=(86, 87), match='t'>\n",
            "<re.Match object; span=(87, 88), match='e'>\n",
            "<re.Match object; span=(88, 89), match='r'>\n",
            "<re.Match object; span=(89, 90), match='s'>\n",
            "<re.Match object; span=(92, 93), match='N'>\n",
            "<re.Match object; span=(93, 94), match='e'>\n",
            "<re.Match object; span=(94, 95), match='e'>\n",
            "<re.Match object; span=(95, 96), match='d'>\n",
            "<re.Match object; span=(97, 98), match='t'>\n",
            "<re.Match object; span=(98, 99), match='o'>\n",
            "<re.Match object; span=(100, 101), match='b'>\n",
            "<re.Match object; span=(101, 102), match='e'>\n",
            "<re.Match object; span=(103, 104), match='e'>\n",
            "<re.Match object; span=(104, 105), match='s'>\n",
            "<re.Match object; span=(105, 106), match='c'>\n",
            "<re.Match object; span=(106, 107), match='a'>\n",
            "<re.Match object; span=(107, 108), match='p'>\n",
            "<re.Match object; span=(108, 109), match='e'>\n",
            "<re.Match object; span=(109, 110), match='d'>\n",
            "<re.Match object; span=(142, 143), match='c'>\n",
            "<re.Match object; span=(143, 144), match='o'>\n",
            "<re.Match object; span=(144, 145), match='r'>\n",
            "<re.Match object; span=(145, 146), match='e'>\n",
            "<re.Match object; span=(146, 147), match='y'>\n",
            "<re.Match object; span=(147, 148), match='m'>\n",
            "<re.Match object; span=(148, 149), match='s'>\n",
            "<re.Match object; span=(150, 151), match='c'>\n",
            "<re.Match object; span=(151, 152), match='o'>\n",
            "<re.Match object; span=(152, 153), match='m'>\n",
            "<re.Match object; span=(155, 156), match='3'>\n",
            "<re.Match object; span=(156, 157), match='2'>\n",
            "<re.Match object; span=(157, 158), match='1'>\n",
            "<re.Match object; span=(159, 160), match='5'>\n",
            "<re.Match object; span=(160, 161), match='5'>\n",
            "<re.Match object; span=(161, 162), match='5'>\n",
            "<re.Match object; span=(163, 164), match='4'>\n",
            "<re.Match object; span=(164, 165), match='3'>\n",
            "<re.Match object; span=(165, 166), match='2'>\n",
            "<re.Match object; span=(166, 167), match='1'>\n",
            "<re.Match object; span=(168, 169), match='1'>\n",
            "<re.Match object; span=(169, 170), match='2'>\n",
            "<re.Match object; span=(170, 171), match='3'>\n",
            "<re.Match object; span=(172, 173), match='5'>\n",
            "<re.Match object; span=(173, 174), match='5'>\n",
            "<re.Match object; span=(174, 175), match='5'>\n",
            "<re.Match object; span=(176, 177), match='1'>\n",
            "<re.Match object; span=(177, 178), match='2'>\n",
            "<re.Match object; span=(178, 179), match='3'>\n",
            "<re.Match object; span=(179, 180), match='4'>\n",
            "<re.Match object; span=(181, 182), match='1'>\n",
            "<re.Match object; span=(182, 183), match='2'>\n",
            "<re.Match object; span=(183, 184), match='3'>\n",
            "<re.Match object; span=(185, 186), match='5'>\n",
            "<re.Match object; span=(186, 187), match='5'>\n",
            "<re.Match object; span=(187, 188), match='5'>\n",
            "<re.Match object; span=(189, 190), match='1'>\n",
            "<re.Match object; span=(190, 191), match='2'>\n",
            "<re.Match object; span=(191, 192), match='3'>\n",
            "<re.Match object; span=(192, 193), match='4'>\n",
            "<re.Match object; span=(194, 195), match='8'>\n",
            "<re.Match object; span=(195, 196), match='0'>\n",
            "<re.Match object; span=(196, 197), match='0'>\n",
            "<re.Match object; span=(198, 199), match='5'>\n",
            "<re.Match object; span=(199, 200), match='5'>\n",
            "<re.Match object; span=(200, 201), match='5'>\n",
            "<re.Match object; span=(202, 203), match='1'>\n",
            "<re.Match object; span=(203, 204), match='2'>\n",
            "<re.Match object; span=(204, 205), match='3'>\n",
            "<re.Match object; span=(205, 206), match='4'>\n",
            "<re.Match object; span=(207, 208), match='9'>\n",
            "<re.Match object; span=(208, 209), match='0'>\n",
            "<re.Match object; span=(209, 210), match='0'>\n",
            "<re.Match object; span=(211, 212), match='5'>\n",
            "<re.Match object; span=(212, 213), match='5'>\n",
            "<re.Match object; span=(213, 214), match='5'>\n",
            "<re.Match object; span=(215, 216), match='1'>\n",
            "<re.Match object; span=(216, 217), match='2'>\n",
            "<re.Match object; span=(217, 218), match='3'>\n",
            "<re.Match object; span=(218, 219), match='4'>\n",
            "<re.Match object; span=(221, 222), match='M'>\n",
            "<re.Match object; span=(222, 223), match='r'>\n",
            "<re.Match object; span=(225, 226), match='S'>\n",
            "<re.Match object; span=(226, 227), match='c'>\n",
            "<re.Match object; span=(227, 228), match='h'>\n",
            "<re.Match object; span=(228, 229), match='a'>\n",
            "<re.Match object; span=(229, 230), match='f'>\n",
            "<re.Match object; span=(230, 231), match='e'>\n",
            "<re.Match object; span=(231, 232), match='r'>\n",
            "<re.Match object; span=(233, 234), match='M'>\n",
            "<re.Match object; span=(234, 235), match='r'>\n",
            "<re.Match object; span=(236, 237), match='S'>\n",
            "<re.Match object; span=(237, 238), match='m'>\n",
            "<re.Match object; span=(238, 239), match='i'>\n",
            "<re.Match object; span=(239, 240), match='t'>\n",
            "<re.Match object; span=(240, 241), match='h'>\n",
            "<re.Match object; span=(242, 243), match='M'>\n",
            "<re.Match object; span=(243, 244), match='s'>\n",
            "<re.Match object; span=(245, 246), match='D'>\n",
            "<re.Match object; span=(246, 247), match='a'>\n",
            "<re.Match object; span=(247, 248), match='v'>\n",
            "<re.Match object; span=(248, 249), match='i'>\n",
            "<re.Match object; span=(249, 250), match='s'>\n",
            "<re.Match object; span=(251, 252), match='M'>\n",
            "<re.Match object; span=(252, 253), match='r'>\n",
            "<re.Match object; span=(253, 254), match='s'>\n",
            "<re.Match object; span=(256, 257), match='R'>\n",
            "<re.Match object; span=(257, 258), match='o'>\n",
            "<re.Match object; span=(258, 259), match='b'>\n",
            "<re.Match object; span=(259, 260), match='i'>\n",
            "<re.Match object; span=(260, 261), match='n'>\n",
            "<re.Match object; span=(261, 262), match='s'>\n",
            "<re.Match object; span=(262, 263), match='o'>\n",
            "<re.Match object; span=(263, 264), match='n'>\n",
            "<re.Match object; span=(265, 266), match='M'>\n",
            "<re.Match object; span=(266, 267), match='r'>\n",
            "<re.Match object; span=(269, 270), match='T'>\n"
          ]
        }
      ]
    },
    {
      "cell_type": "code",
      "source": [
        "pattern = re.compile(r'\\W')  #  not a word character a-z, A-Z, 0-9, _\n",
        "pattern\n",
        "matches = pattern.finditer(data,)\n",
        "for match in matches:\n",
        "  print(match)"
      ],
      "metadata": {
        "colab": {
          "base_uri": "https://localhost:8080/"
        },
        "id": "RiNBrzh5qckY",
        "outputId": "00aa01bb-fec8-4263-d601-9296236e447c"
      },
      "execution_count": 32,
      "outputs": [
        {
          "output_type": "stream",
          "name": "stdout",
          "text": [
            "<re.Match object; span=(0, 1), match='\\n'>\n",
            "<re.Match object; span=(27, 28), match='\\n'>\n",
            "<re.Match object; span=(54, 55), match='\\n'>\n",
            "<re.Match object; span=(65, 66), match='\\n'>\n",
            "<re.Match object; span=(66, 67), match='\\n'>\n",
            "<re.Match object; span=(69, 70), match=' '>\n",
            "<re.Match object; span=(74, 75), match='\\n'>\n",
            "<re.Match object; span=(75, 76), match='\\n'>\n",
            "<re.Match object; span=(90, 91), match=' '>\n",
            "<re.Match object; span=(91, 92), match='('>\n",
            "<re.Match object; span=(96, 97), match=' '>\n",
            "<re.Match object; span=(99, 100), match=' '>\n",
            "<re.Match object; span=(102, 103), match=' '>\n",
            "<re.Match object; span=(110, 111), match=')'>\n",
            "<re.Match object; span=(111, 112), match=':'>\n",
            "<re.Match object; span=(112, 113), match='\\n'>\n",
            "<re.Match object; span=(113, 114), match='.'>\n",
            "<re.Match object; span=(114, 115), match=' '>\n",
            "<re.Match object; span=(115, 116), match='^'>\n",
            "<re.Match object; span=(116, 117), match=' '>\n",
            "<re.Match object; span=(117, 118), match='$'>\n",
            "<re.Match object; span=(118, 119), match=' '>\n",
            "<re.Match object; span=(119, 120), match='*'>\n",
            "<re.Match object; span=(120, 121), match=' '>\n",
            "<re.Match object; span=(121, 122), match='+'>\n",
            "<re.Match object; span=(122, 123), match=' '>\n",
            "<re.Match object; span=(123, 124), match='?'>\n",
            "<re.Match object; span=(124, 125), match=' '>\n",
            "<re.Match object; span=(125, 126), match='{'>\n",
            "<re.Match object; span=(126, 127), match=' '>\n",
            "<re.Match object; span=(127, 128), match='}'>\n",
            "<re.Match object; span=(128, 129), match=' '>\n",
            "<re.Match object; span=(129, 130), match='['>\n",
            "<re.Match object; span=(130, 131), match=' '>\n",
            "<re.Match object; span=(131, 132), match=']'>\n",
            "<re.Match object; span=(132, 133), match=' '>\n",
            "<re.Match object; span=(133, 134), match='\\\\'>\n",
            "<re.Match object; span=(134, 135), match=' '>\n",
            "<re.Match object; span=(135, 136), match='|'>\n",
            "<re.Match object; span=(136, 137), match=' '>\n",
            "<re.Match object; span=(137, 138), match='('>\n",
            "<re.Match object; span=(138, 139), match=' '>\n",
            "<re.Match object; span=(139, 140), match=')'>\n",
            "<re.Match object; span=(140, 141), match='\\n'>\n",
            "<re.Match object; span=(141, 142), match='\\n'>\n",
            "<re.Match object; span=(149, 150), match='.'>\n",
            "<re.Match object; span=(153, 154), match='\\n'>\n",
            "<re.Match object; span=(154, 155), match='\\n'>\n",
            "<re.Match object; span=(158, 159), match='-'>\n",
            "<re.Match object; span=(162, 163), match='-'>\n",
            "<re.Match object; span=(167, 168), match='\\n'>\n",
            "<re.Match object; span=(171, 172), match='.'>\n",
            "<re.Match object; span=(175, 176), match='.'>\n",
            "<re.Match object; span=(180, 181), match='\\n'>\n",
            "<re.Match object; span=(184, 185), match='*'>\n",
            "<re.Match object; span=(188, 189), match='*'>\n",
            "<re.Match object; span=(193, 194), match='\\n'>\n",
            "<re.Match object; span=(197, 198), match='-'>\n",
            "<re.Match object; span=(201, 202), match='-'>\n",
            "<re.Match object; span=(206, 207), match='\\n'>\n",
            "<re.Match object; span=(210, 211), match='-'>\n",
            "<re.Match object; span=(214, 215), match='-'>\n",
            "<re.Match object; span=(219, 220), match='\\n'>\n",
            "<re.Match object; span=(220, 221), match='\\n'>\n",
            "<re.Match object; span=(223, 224), match='.'>\n",
            "<re.Match object; span=(224, 225), match=' '>\n",
            "<re.Match object; span=(232, 233), match='\\n'>\n",
            "<re.Match object; span=(235, 236), match=' '>\n",
            "<re.Match object; span=(241, 242), match='\\n'>\n",
            "<re.Match object; span=(244, 245), match=' '>\n",
            "<re.Match object; span=(250, 251), match='\\n'>\n",
            "<re.Match object; span=(254, 255), match='.'>\n",
            "<re.Match object; span=(255, 256), match=' '>\n",
            "<re.Match object; span=(264, 265), match='\\n'>\n",
            "<re.Match object; span=(267, 268), match='.'>\n",
            "<re.Match object; span=(268, 269), match=' '>\n",
            "<re.Match object; span=(270, 271), match='\\n'>\n"
          ]
        }
      ]
    },
    {
      "cell_type": "code",
      "source": [
        "pattern = re.compile(r'\\s')  #  white space space, tab, new line\n",
        "pattern\n",
        "matches = pattern.finditer(data,)\n",
        "for match in matches:\n",
        "  print(match)"
      ],
      "metadata": {
        "colab": {
          "base_uri": "https://localhost:8080/"
        },
        "id": "0E-Tt9KZqou5",
        "outputId": "1c99a740-28cd-442e-ef69-52809e031356"
      },
      "execution_count": 33,
      "outputs": [
        {
          "output_type": "stream",
          "name": "stdout",
          "text": [
            "<re.Match object; span=(0, 1), match='\\n'>\n",
            "<re.Match object; span=(27, 28), match='\\n'>\n",
            "<re.Match object; span=(54, 55), match='\\n'>\n",
            "<re.Match object; span=(65, 66), match='\\n'>\n",
            "<re.Match object; span=(66, 67), match='\\n'>\n",
            "<re.Match object; span=(69, 70), match=' '>\n",
            "<re.Match object; span=(74, 75), match='\\n'>\n",
            "<re.Match object; span=(75, 76), match='\\n'>\n",
            "<re.Match object; span=(90, 91), match=' '>\n",
            "<re.Match object; span=(96, 97), match=' '>\n",
            "<re.Match object; span=(99, 100), match=' '>\n",
            "<re.Match object; span=(102, 103), match=' '>\n",
            "<re.Match object; span=(112, 113), match='\\n'>\n",
            "<re.Match object; span=(114, 115), match=' '>\n",
            "<re.Match object; span=(116, 117), match=' '>\n",
            "<re.Match object; span=(118, 119), match=' '>\n",
            "<re.Match object; span=(120, 121), match=' '>\n",
            "<re.Match object; span=(122, 123), match=' '>\n",
            "<re.Match object; span=(124, 125), match=' '>\n",
            "<re.Match object; span=(126, 127), match=' '>\n",
            "<re.Match object; span=(128, 129), match=' '>\n",
            "<re.Match object; span=(130, 131), match=' '>\n",
            "<re.Match object; span=(132, 133), match=' '>\n",
            "<re.Match object; span=(134, 135), match=' '>\n",
            "<re.Match object; span=(136, 137), match=' '>\n",
            "<re.Match object; span=(138, 139), match=' '>\n",
            "<re.Match object; span=(140, 141), match='\\n'>\n",
            "<re.Match object; span=(141, 142), match='\\n'>\n",
            "<re.Match object; span=(153, 154), match='\\n'>\n",
            "<re.Match object; span=(154, 155), match='\\n'>\n",
            "<re.Match object; span=(167, 168), match='\\n'>\n",
            "<re.Match object; span=(180, 181), match='\\n'>\n",
            "<re.Match object; span=(193, 194), match='\\n'>\n",
            "<re.Match object; span=(206, 207), match='\\n'>\n",
            "<re.Match object; span=(219, 220), match='\\n'>\n",
            "<re.Match object; span=(220, 221), match='\\n'>\n",
            "<re.Match object; span=(224, 225), match=' '>\n",
            "<re.Match object; span=(232, 233), match='\\n'>\n",
            "<re.Match object; span=(235, 236), match=' '>\n",
            "<re.Match object; span=(241, 242), match='\\n'>\n",
            "<re.Match object; span=(244, 245), match=' '>\n",
            "<re.Match object; span=(250, 251), match='\\n'>\n",
            "<re.Match object; span=(255, 256), match=' '>\n",
            "<re.Match object; span=(264, 265), match='\\n'>\n",
            "<re.Match object; span=(268, 269), match=' '>\n",
            "<re.Match object; span=(270, 271), match='\\n'>\n"
          ]
        }
      ]
    },
    {
      "cell_type": "code",
      "source": [
        "pattern = re.compile(r'\\S')  #  not a white space space, tab, new line\n",
        "pattern\n",
        "matches = pattern.finditer(data,)\n",
        "for match in matches:\n",
        "  print(match)"
      ],
      "metadata": {
        "colab": {
          "base_uri": "https://localhost:8080/"
        },
        "id": "4DkfNMauq3tS",
        "outputId": "4d1fea55-4e01-453c-d5f0-65880ed9b926"
      },
      "execution_count": 34,
      "outputs": [
        {
          "output_type": "stream",
          "name": "stdout",
          "text": [
            "<re.Match object; span=(1, 2), match='a'>\n",
            "<re.Match object; span=(2, 3), match='b'>\n",
            "<re.Match object; span=(3, 4), match='c'>\n",
            "<re.Match object; span=(4, 5), match='d'>\n",
            "<re.Match object; span=(5, 6), match='e'>\n",
            "<re.Match object; span=(6, 7), match='f'>\n",
            "<re.Match object; span=(7, 8), match='g'>\n",
            "<re.Match object; span=(8, 9), match='h'>\n",
            "<re.Match object; span=(9, 10), match='i'>\n",
            "<re.Match object; span=(10, 11), match='j'>\n",
            "<re.Match object; span=(11, 12), match='k'>\n",
            "<re.Match object; span=(12, 13), match='l'>\n",
            "<re.Match object; span=(13, 14), match='m'>\n",
            "<re.Match object; span=(14, 15), match='n'>\n",
            "<re.Match object; span=(15, 16), match='o'>\n",
            "<re.Match object; span=(16, 17), match='p'>\n",
            "<re.Match object; span=(17, 18), match='q'>\n",
            "<re.Match object; span=(18, 19), match='u'>\n",
            "<re.Match object; span=(19, 20), match='r'>\n",
            "<re.Match object; span=(20, 21), match='t'>\n",
            "<re.Match object; span=(21, 22), match='u'>\n",
            "<re.Match object; span=(22, 23), match='v'>\n",
            "<re.Match object; span=(23, 24), match='w'>\n",
            "<re.Match object; span=(24, 25), match='x'>\n",
            "<re.Match object; span=(25, 26), match='y'>\n",
            "<re.Match object; span=(26, 27), match='z'>\n",
            "<re.Match object; span=(28, 29), match='A'>\n",
            "<re.Match object; span=(29, 30), match='B'>\n",
            "<re.Match object; span=(30, 31), match='C'>\n",
            "<re.Match object; span=(31, 32), match='D'>\n",
            "<re.Match object; span=(32, 33), match='E'>\n",
            "<re.Match object; span=(33, 34), match='F'>\n",
            "<re.Match object; span=(34, 35), match='G'>\n",
            "<re.Match object; span=(35, 36), match='H'>\n",
            "<re.Match object; span=(36, 37), match='I'>\n",
            "<re.Match object; span=(37, 38), match='J'>\n",
            "<re.Match object; span=(38, 39), match='K'>\n",
            "<re.Match object; span=(39, 40), match='L'>\n",
            "<re.Match object; span=(40, 41), match='M'>\n",
            "<re.Match object; span=(41, 42), match='N'>\n",
            "<re.Match object; span=(42, 43), match='O'>\n",
            "<re.Match object; span=(43, 44), match='P'>\n",
            "<re.Match object; span=(44, 45), match='Q'>\n",
            "<re.Match object; span=(45, 46), match='R'>\n",
            "<re.Match object; span=(46, 47), match='S'>\n",
            "<re.Match object; span=(47, 48), match='T'>\n",
            "<re.Match object; span=(48, 49), match='U'>\n",
            "<re.Match object; span=(49, 50), match='V'>\n",
            "<re.Match object; span=(50, 51), match='W'>\n",
            "<re.Match object; span=(51, 52), match='X'>\n",
            "<re.Match object; span=(52, 53), match='Y'>\n",
            "<re.Match object; span=(53, 54), match='Z'>\n",
            "<re.Match object; span=(55, 56), match='1'>\n",
            "<re.Match object; span=(56, 57), match='2'>\n",
            "<re.Match object; span=(57, 58), match='3'>\n",
            "<re.Match object; span=(58, 59), match='4'>\n",
            "<re.Match object; span=(59, 60), match='5'>\n",
            "<re.Match object; span=(60, 61), match='6'>\n",
            "<re.Match object; span=(61, 62), match='7'>\n",
            "<re.Match object; span=(62, 63), match='8'>\n",
            "<re.Match object; span=(63, 64), match='9'>\n",
            "<re.Match object; span=(64, 65), match='0'>\n",
            "<re.Match object; span=(67, 68), match='H'>\n",
            "<re.Match object; span=(68, 69), match='a'>\n",
            "<re.Match object; span=(70, 71), match='H'>\n",
            "<re.Match object; span=(71, 72), match='a'>\n",
            "<re.Match object; span=(72, 73), match='H'>\n",
            "<re.Match object; span=(73, 74), match='a'>\n",
            "<re.Match object; span=(76, 77), match='M'>\n",
            "<re.Match object; span=(77, 78), match='e'>\n",
            "<re.Match object; span=(78, 79), match='t'>\n",
            "<re.Match object; span=(79, 80), match='a'>\n",
            "<re.Match object; span=(80, 81), match='C'>\n",
            "<re.Match object; span=(81, 82), match='h'>\n",
            "<re.Match object; span=(82, 83), match='a'>\n",
            "<re.Match object; span=(83, 84), match='r'>\n",
            "<re.Match object; span=(84, 85), match='a'>\n",
            "<re.Match object; span=(85, 86), match='c'>\n",
            "<re.Match object; span=(86, 87), match='t'>\n",
            "<re.Match object; span=(87, 88), match='e'>\n",
            "<re.Match object; span=(88, 89), match='r'>\n",
            "<re.Match object; span=(89, 90), match='s'>\n",
            "<re.Match object; span=(91, 92), match='('>\n",
            "<re.Match object; span=(92, 93), match='N'>\n",
            "<re.Match object; span=(93, 94), match='e'>\n",
            "<re.Match object; span=(94, 95), match='e'>\n",
            "<re.Match object; span=(95, 96), match='d'>\n",
            "<re.Match object; span=(97, 98), match='t'>\n",
            "<re.Match object; span=(98, 99), match='o'>\n",
            "<re.Match object; span=(100, 101), match='b'>\n",
            "<re.Match object; span=(101, 102), match='e'>\n",
            "<re.Match object; span=(103, 104), match='e'>\n",
            "<re.Match object; span=(104, 105), match='s'>\n",
            "<re.Match object; span=(105, 106), match='c'>\n",
            "<re.Match object; span=(106, 107), match='a'>\n",
            "<re.Match object; span=(107, 108), match='p'>\n",
            "<re.Match object; span=(108, 109), match='e'>\n",
            "<re.Match object; span=(109, 110), match='d'>\n",
            "<re.Match object; span=(110, 111), match=')'>\n",
            "<re.Match object; span=(111, 112), match=':'>\n",
            "<re.Match object; span=(113, 114), match='.'>\n",
            "<re.Match object; span=(115, 116), match='^'>\n",
            "<re.Match object; span=(117, 118), match='$'>\n",
            "<re.Match object; span=(119, 120), match='*'>\n",
            "<re.Match object; span=(121, 122), match='+'>\n",
            "<re.Match object; span=(123, 124), match='?'>\n",
            "<re.Match object; span=(125, 126), match='{'>\n",
            "<re.Match object; span=(127, 128), match='}'>\n",
            "<re.Match object; span=(129, 130), match='['>\n",
            "<re.Match object; span=(131, 132), match=']'>\n",
            "<re.Match object; span=(133, 134), match='\\\\'>\n",
            "<re.Match object; span=(135, 136), match='|'>\n",
            "<re.Match object; span=(137, 138), match='('>\n",
            "<re.Match object; span=(139, 140), match=')'>\n",
            "<re.Match object; span=(142, 143), match='c'>\n",
            "<re.Match object; span=(143, 144), match='o'>\n",
            "<re.Match object; span=(144, 145), match='r'>\n",
            "<re.Match object; span=(145, 146), match='e'>\n",
            "<re.Match object; span=(146, 147), match='y'>\n",
            "<re.Match object; span=(147, 148), match='m'>\n",
            "<re.Match object; span=(148, 149), match='s'>\n",
            "<re.Match object; span=(149, 150), match='.'>\n",
            "<re.Match object; span=(150, 151), match='c'>\n",
            "<re.Match object; span=(151, 152), match='o'>\n",
            "<re.Match object; span=(152, 153), match='m'>\n",
            "<re.Match object; span=(155, 156), match='3'>\n",
            "<re.Match object; span=(156, 157), match='2'>\n",
            "<re.Match object; span=(157, 158), match='1'>\n",
            "<re.Match object; span=(158, 159), match='-'>\n",
            "<re.Match object; span=(159, 160), match='5'>\n",
            "<re.Match object; span=(160, 161), match='5'>\n",
            "<re.Match object; span=(161, 162), match='5'>\n",
            "<re.Match object; span=(162, 163), match='-'>\n",
            "<re.Match object; span=(163, 164), match='4'>\n",
            "<re.Match object; span=(164, 165), match='3'>\n",
            "<re.Match object; span=(165, 166), match='2'>\n",
            "<re.Match object; span=(166, 167), match='1'>\n",
            "<re.Match object; span=(168, 169), match='1'>\n",
            "<re.Match object; span=(169, 170), match='2'>\n",
            "<re.Match object; span=(170, 171), match='3'>\n",
            "<re.Match object; span=(171, 172), match='.'>\n",
            "<re.Match object; span=(172, 173), match='5'>\n",
            "<re.Match object; span=(173, 174), match='5'>\n",
            "<re.Match object; span=(174, 175), match='5'>\n",
            "<re.Match object; span=(175, 176), match='.'>\n",
            "<re.Match object; span=(176, 177), match='1'>\n",
            "<re.Match object; span=(177, 178), match='2'>\n",
            "<re.Match object; span=(178, 179), match='3'>\n",
            "<re.Match object; span=(179, 180), match='4'>\n",
            "<re.Match object; span=(181, 182), match='1'>\n",
            "<re.Match object; span=(182, 183), match='2'>\n",
            "<re.Match object; span=(183, 184), match='3'>\n",
            "<re.Match object; span=(184, 185), match='*'>\n",
            "<re.Match object; span=(185, 186), match='5'>\n",
            "<re.Match object; span=(186, 187), match='5'>\n",
            "<re.Match object; span=(187, 188), match='5'>\n",
            "<re.Match object; span=(188, 189), match='*'>\n",
            "<re.Match object; span=(189, 190), match='1'>\n",
            "<re.Match object; span=(190, 191), match='2'>\n",
            "<re.Match object; span=(191, 192), match='3'>\n",
            "<re.Match object; span=(192, 193), match='4'>\n",
            "<re.Match object; span=(194, 195), match='8'>\n",
            "<re.Match object; span=(195, 196), match='0'>\n",
            "<re.Match object; span=(196, 197), match='0'>\n",
            "<re.Match object; span=(197, 198), match='-'>\n",
            "<re.Match object; span=(198, 199), match='5'>\n",
            "<re.Match object; span=(199, 200), match='5'>\n",
            "<re.Match object; span=(200, 201), match='5'>\n",
            "<re.Match object; span=(201, 202), match='-'>\n",
            "<re.Match object; span=(202, 203), match='1'>\n",
            "<re.Match object; span=(203, 204), match='2'>\n",
            "<re.Match object; span=(204, 205), match='3'>\n",
            "<re.Match object; span=(205, 206), match='4'>\n",
            "<re.Match object; span=(207, 208), match='9'>\n",
            "<re.Match object; span=(208, 209), match='0'>\n",
            "<re.Match object; span=(209, 210), match='0'>\n",
            "<re.Match object; span=(210, 211), match='-'>\n",
            "<re.Match object; span=(211, 212), match='5'>\n",
            "<re.Match object; span=(212, 213), match='5'>\n",
            "<re.Match object; span=(213, 214), match='5'>\n",
            "<re.Match object; span=(214, 215), match='-'>\n",
            "<re.Match object; span=(215, 216), match='1'>\n",
            "<re.Match object; span=(216, 217), match='2'>\n",
            "<re.Match object; span=(217, 218), match='3'>\n",
            "<re.Match object; span=(218, 219), match='4'>\n",
            "<re.Match object; span=(221, 222), match='M'>\n",
            "<re.Match object; span=(222, 223), match='r'>\n",
            "<re.Match object; span=(223, 224), match='.'>\n",
            "<re.Match object; span=(225, 226), match='S'>\n",
            "<re.Match object; span=(226, 227), match='c'>\n",
            "<re.Match object; span=(227, 228), match='h'>\n",
            "<re.Match object; span=(228, 229), match='a'>\n",
            "<re.Match object; span=(229, 230), match='f'>\n",
            "<re.Match object; span=(230, 231), match='e'>\n",
            "<re.Match object; span=(231, 232), match='r'>\n",
            "<re.Match object; span=(233, 234), match='M'>\n",
            "<re.Match object; span=(234, 235), match='r'>\n",
            "<re.Match object; span=(236, 237), match='S'>\n",
            "<re.Match object; span=(237, 238), match='m'>\n",
            "<re.Match object; span=(238, 239), match='i'>\n",
            "<re.Match object; span=(239, 240), match='t'>\n",
            "<re.Match object; span=(240, 241), match='h'>\n",
            "<re.Match object; span=(242, 243), match='M'>\n",
            "<re.Match object; span=(243, 244), match='s'>\n",
            "<re.Match object; span=(245, 246), match='D'>\n",
            "<re.Match object; span=(246, 247), match='a'>\n",
            "<re.Match object; span=(247, 248), match='v'>\n",
            "<re.Match object; span=(248, 249), match='i'>\n",
            "<re.Match object; span=(249, 250), match='s'>\n",
            "<re.Match object; span=(251, 252), match='M'>\n",
            "<re.Match object; span=(252, 253), match='r'>\n",
            "<re.Match object; span=(253, 254), match='s'>\n",
            "<re.Match object; span=(254, 255), match='.'>\n",
            "<re.Match object; span=(256, 257), match='R'>\n",
            "<re.Match object; span=(257, 258), match='o'>\n",
            "<re.Match object; span=(258, 259), match='b'>\n",
            "<re.Match object; span=(259, 260), match='i'>\n",
            "<re.Match object; span=(260, 261), match='n'>\n",
            "<re.Match object; span=(261, 262), match='s'>\n",
            "<re.Match object; span=(262, 263), match='o'>\n",
            "<re.Match object; span=(263, 264), match='n'>\n",
            "<re.Match object; span=(265, 266), match='M'>\n",
            "<re.Match object; span=(266, 267), match='r'>\n",
            "<re.Match object; span=(267, 268), match='.'>\n",
            "<re.Match object; span=(269, 270), match='T'>\n"
          ]
        }
      ]
    },
    {
      "cell_type": "code",
      "source": [
        "pattern = re.compile(r'\\bHa')  #  word boundry\n",
        "pattern\n",
        "matches = pattern.finditer(data,)\n",
        "for match in matches:\n",
        "  print(match)"
      ],
      "metadata": {
        "colab": {
          "base_uri": "https://localhost:8080/"
        },
        "id": "gwmm4CqOq8cZ",
        "outputId": "2d1e3f1e-fd0f-4a7b-9497-ae23197576cb"
      },
      "execution_count": 36,
      "outputs": [
        {
          "output_type": "stream",
          "name": "stdout",
          "text": [
            "<re.Match object; span=(67, 69), match='Ha'>\n",
            "<re.Match object; span=(70, 72), match='Ha'>\n"
          ]
        }
      ]
    },
    {
      "cell_type": "code",
      "source": [
        "pattern = re.compile(r'\\BHa')  #  word boundry\n",
        "pattern\n",
        "matches = pattern.finditer(data,)\n",
        "for match in matches:\n",
        "  print(match)"
      ],
      "metadata": {
        "colab": {
          "base_uri": "https://localhost:8080/"
        },
        "id": "SQ30sB_trCmT",
        "outputId": "ea956383-8fa4-4aeb-a09e-6d04ff59e3b6"
      },
      "execution_count": 37,
      "outputs": [
        {
          "output_type": "stream",
          "name": "stdout",
          "text": [
            "<re.Match object; span=(72, 74), match='Ha'>\n"
          ]
        }
      ]
    },
    {
      "cell_type": "code",
      "source": [
        "pattern = re.compile(r'^Start')  #  word boundry\n",
        "pattern\n",
        "matches = pattern.finditer(sen,)\n",
        "for match in matches:\n",
        "  print(match)"
      ],
      "metadata": {
        "colab": {
          "base_uri": "https://localhost:8080/"
        },
        "id": "b-E4q5k2rdiM",
        "outputId": "8bd5dd8a-2eca-4799-82bb-70e18b516a69"
      },
      "execution_count": 43,
      "outputs": [
        {
          "output_type": "stream",
          "name": "stdout",
          "text": [
            "<re.Match object; span=(0, 5), match='Start'>\n"
          ]
        }
      ]
    },
    {
      "cell_type": "code",
      "source": [
        "pattern = re.compile(r'end$')  #  word boundry\n",
        "pattern\n",
        "matches = pattern.finditer(sen,)\n",
        "for match in matches:\n",
        "  print(match)"
      ],
      "metadata": {
        "colab": {
          "base_uri": "https://localhost:8080/"
        },
        "id": "qWuqIjT7rjWV",
        "outputId": "0d5bdb22-80c2-464c-9b0d-a5e0ab4dfd9a"
      },
      "execution_count": 44,
      "outputs": [
        {
          "output_type": "stream",
          "name": "stdout",
          "text": [
            "<re.Match object; span=(41, 44), match='end'>\n"
          ]
        }
      ]
    },
    {
      "cell_type": "code",
      "source": [
        "pattern = re.compile(r'[89]00[-.]\\d\\d\\d[-.]\\d\\d\\d\\d')  #  word boundry\n",
        "pattern\n",
        "matches = pattern.finditer(data)\n",
        "for match in matches:\n",
        "  print(match)"
      ],
      "metadata": {
        "colab": {
          "base_uri": "https://localhost:8080/"
        },
        "id": "kW9OPkSesEWm",
        "outputId": "6f572457-e5c2-490a-e65e-489be3b7e9f6"
      },
      "execution_count": 55,
      "outputs": [
        {
          "output_type": "stream",
          "name": "stdout",
          "text": [
            "<re.Match object; span=(194, 206), match='800-555-1234'>\n",
            "<re.Match object; span=(207, 219), match='900-555-1234'>\n"
          ]
        }
      ]
    },
    {
      "cell_type": "code",
      "source": [
        "with open('data.txt','r') as f:\n",
        "  contents=f.read()\n",
        "  pattern=re.compile(r'\\d\\d\\d[-.]\\d\\d\\d[-.]\\d\\d\\d\\d')\n",
        "  matches=pattern.finditer(contents)\n",
        "  for match in matches:\n",
        "    print(match)"
      ],
      "metadata": {
        "colab": {
          "base_uri": "https://localhost:8080/"
        },
        "id": "NyZCxx4qsan_",
        "outputId": "a6b6ede3-5ac6-4526-e754-c3a2c9a4493b"
      },
      "execution_count": 51,
      "outputs": [
        {
          "output_type": "stream",
          "name": "stdout",
          "text": [
            "<re.Match object; span=(12, 24), match='615-555-7164'>\n",
            "<re.Match object; span=(102, 114), match='800-555-5669'>\n",
            "<re.Match object; span=(191, 203), match='560-555-5153'>\n",
            "<re.Match object; span=(281, 293), match='900-555-9340'>\n",
            "<re.Match object; span=(378, 390), match='714-555-7405'>\n",
            "<re.Match object; span=(467, 479), match='800-555-6771'>\n",
            "<re.Match object; span=(557, 569), match='783-555-4799'>\n",
            "<re.Match object; span=(647, 659), match='516-555-4615'>\n",
            "<re.Match object; span=(740, 752), match='127-555-1867'>\n",
            "<re.Match object; span=(829, 841), match='608-555-4938'>\n",
            "<re.Match object; span=(915, 927), match='568-555-6051'>\n",
            "<re.Match object; span=(1003, 1015), match='292-555-1875'>\n",
            "<re.Match object; span=(1091, 1103), match='900-555-3205'>\n",
            "<re.Match object; span=(1180, 1192), match='614-555-1166'>\n",
            "<re.Match object; span=(1269, 1281), match='530-555-2676'>\n",
            "<re.Match object; span=(1355, 1367), match='470-555-2750'>\n",
            "<re.Match object; span=(1439, 1451), match='800-555-6089'>\n",
            "<re.Match object; span=(1526, 1538), match='880-555-8319'>\n",
            "<re.Match object; span=(1614, 1626), match='777-555-8378'>\n",
            "<re.Match object; span=(1697, 1709), match='998-555-7385'>\n",
            "<re.Match object; span=(1790, 1802), match='800-555-7100'>\n",
            "<re.Match object; span=(1874, 1886), match='903-555-8277'>\n",
            "<re.Match object; span=(1962, 1974), match='196-555-5674'>\n",
            "<re.Match object; span=(2051, 2063), match='900-555-5118'>\n",
            "<re.Match object; span=(2135, 2147), match='905-555-1630'>\n",
            "<re.Match object; span=(2216, 2228), match='203-555-3475'>\n",
            "<re.Match object; span=(2300, 2312), match='884-555-8444'>\n",
            "<re.Match object; span=(2387, 2399), match='904-555-8559'>\n",
            "<re.Match object; span=(2475, 2487), match='889-555-7393'>\n",
            "<re.Match object; span=(2562, 2574), match='195-555-2405'>\n",
            "<re.Match object; span=(2647, 2659), match='321-555-9053'>\n",
            "<re.Match object; span=(2734, 2746), match='133-555-1711'>\n",
            "<re.Match object; span=(2826, 2838), match='900-555-5428'>\n",
            "<re.Match object; span=(2915, 2927), match='760-555-7147'>\n",
            "<re.Match object; span=(3012, 3024), match='391-555-6621'>\n",
            "<re.Match object; span=(3103, 3115), match='932-555-7724'>\n",
            "<re.Match object; span=(3192, 3204), match='609-555-7908'>\n",
            "<re.Match object; span=(3284, 3296), match='800-555-8810'>\n",
            "<re.Match object; span=(3372, 3384), match='149-555-7657'>\n",
            "<re.Match object; span=(3452, 3464), match='130-555-9709'>\n",
            "<re.Match object; span=(3535, 3547), match='143-555-9295'>\n",
            "<re.Match object; span=(3624, 3636), match='903-555-9878'>\n",
            "<re.Match object; span=(3714, 3726), match='574-555-3194'>\n",
            "<re.Match object; span=(3802, 3814), match='496-555-7533'>\n",
            "<re.Match object; span=(3887, 3899), match='210-555-3757'>\n",
            "<re.Match object; span=(3971, 3983), match='900-555-9598'>\n",
            "<re.Match object; span=(4056, 4068), match='866-555-9844'>\n",
            "<re.Match object; span=(4140, 4152), match='669-555-7159'>\n",
            "<re.Match object; span=(4225, 4237), match='152-555-7417'>\n",
            "<re.Match object; span=(4317, 4329), match='893-555-9832'>\n",
            "<re.Match object; span=(4407, 4419), match='217-555-7123'>\n",
            "<re.Match object; span=(4498, 4510), match='786-555-6544'>\n",
            "<re.Match object; span=(4588, 4600), match='780-555-2574'>\n",
            "<re.Match object; span=(4676, 4688), match='926-555-8735'>\n",
            "<re.Match object; span=(4762, 4774), match='895-555-3539'>\n",
            "<re.Match object; span=(4859, 4871), match='874-555-3949'>\n",
            "<re.Match object; span=(4945, 4957), match='800-555-2420'>\n",
            "<re.Match object; span=(5034, 5046), match='936-555-6340'>\n",
            "<re.Match object; span=(5123, 5135), match='372-555-9809'>\n",
            "<re.Match object; span=(5210, 5222), match='890-555-5618'>\n",
            "<re.Match object; span=(5292, 5304), match='670-555-3005'>\n",
            "<re.Match object; span=(5382, 5394), match='509-555-5997'>\n",
            "<re.Match object; span=(5475, 5487), match='721-555-5632'>\n",
            "<re.Match object; span=(5566, 5578), match='900-555-3567'>\n",
            "<re.Match object; span=(5656, 5668), match='147-555-6830'>\n",
            "<re.Match object; span=(5745, 5757), match='582-555-3426'>\n",
            "<re.Match object; span=(5830, 5842), match='400-555-1706'>\n",
            "<re.Match object; span=(5921, 5933), match='525-555-1793'>\n",
            "<re.Match object; span=(6011, 6023), match='317-555-6700'>\n",
            "<re.Match object; span=(6099, 6111), match='974-555-8301'>\n",
            "<re.Match object; span=(6189, 6201), match='800-555-3216'>\n",
            "<re.Match object; span=(6273, 6285), match='746-555-4094'>\n",
            "<re.Match object; span=(6360, 6372), match='922-555-1773'>\n",
            "<re.Match object; span=(6445, 6457), match='711-555-4427'>\n",
            "<re.Match object; span=(6530, 6542), match='355-555-1872'>\n",
            "<re.Match object; span=(6619, 6631), match='852-555-6521'>\n",
            "<re.Match object; span=(6711, 6723), match='691-555-5773'>\n",
            "<re.Match object; span=(6803, 6815), match='332-555-5441'>\n",
            "<re.Match object; span=(6889, 6901), match='900-555-7755'>\n",
            "<re.Match object; span=(6971, 6983), match='379-555-3685'>\n",
            "<re.Match object; span=(7061, 7073), match='127-555-9682'>\n",
            "<re.Match object; span=(7152, 7164), match='789-555-7032'>\n",
            "<re.Match object; span=(7243, 7255), match='783-555-5135'>\n",
            "<re.Match object; span=(7336, 7348), match='315-555-6507'>\n",
            "<re.Match object; span=(7427, 7439), match='481-555-5835'>\n",
            "<re.Match object; span=(7515, 7527), match='365-555-8287'>\n",
            "<re.Match object; span=(7607, 7619), match='911-555-7535'>\n",
            "<re.Match object; span=(7693, 7705), match='681-555-2460'>\n",
            "<re.Match object; span=(7779, 7791), match='274-555-9800'>\n",
            "<re.Match object; span=(7864, 7876), match='800-555-1372'>\n",
            "<re.Match object; span=(7953, 7965), match='300-555-7821'>\n",
            "<re.Match object; span=(8043, 8055), match='133-555-3889'>\n",
            "<re.Match object; span=(8129, 8141), match='705-555-6863'>\n",
            "<re.Match object; span=(8218, 8230), match='215-555-9449'>\n",
            "<re.Match object; span=(8309, 8321), match='988-555-6112'>\n",
            "<re.Match object; span=(8395, 8407), match='623-555-3006'>\n",
            "<re.Match object; span=(8479, 8491), match='192-555-4977'>\n",
            "<re.Match object; span=(8564, 8576), match='178-555-4899'>\n",
            "<re.Match object; span=(8648, 8660), match='952-555-3089'>\n",
            "<re.Match object; span=(8741, 8753), match='900-555-6426'>\n"
          ]
        }
      ]
    },
    {
      "cell_type": "code",
      "source": [
        "pattern = re.compile(r'[a-zA-Z]')  #  word boundry\n",
        "pattern\n",
        "matches = pattern.finditer(data)\n",
        "for match in matches:\n",
        "  print(match)"
      ],
      "metadata": {
        "colab": {
          "base_uri": "https://localhost:8080/"
        },
        "id": "zmBg1XGQtRfQ",
        "outputId": "0b789c88-b4f6-42ea-fb1a-7d3e88d62734"
      },
      "execution_count": 56,
      "outputs": [
        {
          "output_type": "stream",
          "name": "stdout",
          "text": [
            "<re.Match object; span=(1, 2), match='a'>\n",
            "<re.Match object; span=(2, 3), match='b'>\n",
            "<re.Match object; span=(3, 4), match='c'>\n",
            "<re.Match object; span=(4, 5), match='d'>\n",
            "<re.Match object; span=(5, 6), match='e'>\n",
            "<re.Match object; span=(6, 7), match='f'>\n",
            "<re.Match object; span=(7, 8), match='g'>\n",
            "<re.Match object; span=(8, 9), match='h'>\n",
            "<re.Match object; span=(9, 10), match='i'>\n",
            "<re.Match object; span=(10, 11), match='j'>\n",
            "<re.Match object; span=(11, 12), match='k'>\n",
            "<re.Match object; span=(12, 13), match='l'>\n",
            "<re.Match object; span=(13, 14), match='m'>\n",
            "<re.Match object; span=(14, 15), match='n'>\n",
            "<re.Match object; span=(15, 16), match='o'>\n",
            "<re.Match object; span=(16, 17), match='p'>\n",
            "<re.Match object; span=(17, 18), match='q'>\n",
            "<re.Match object; span=(18, 19), match='u'>\n",
            "<re.Match object; span=(19, 20), match='r'>\n",
            "<re.Match object; span=(20, 21), match='t'>\n",
            "<re.Match object; span=(21, 22), match='u'>\n",
            "<re.Match object; span=(22, 23), match='v'>\n",
            "<re.Match object; span=(23, 24), match='w'>\n",
            "<re.Match object; span=(24, 25), match='x'>\n",
            "<re.Match object; span=(25, 26), match='y'>\n",
            "<re.Match object; span=(26, 27), match='z'>\n",
            "<re.Match object; span=(28, 29), match='A'>\n",
            "<re.Match object; span=(29, 30), match='B'>\n",
            "<re.Match object; span=(30, 31), match='C'>\n",
            "<re.Match object; span=(31, 32), match='D'>\n",
            "<re.Match object; span=(32, 33), match='E'>\n",
            "<re.Match object; span=(33, 34), match='F'>\n",
            "<re.Match object; span=(34, 35), match='G'>\n",
            "<re.Match object; span=(35, 36), match='H'>\n",
            "<re.Match object; span=(36, 37), match='I'>\n",
            "<re.Match object; span=(37, 38), match='J'>\n",
            "<re.Match object; span=(38, 39), match='K'>\n",
            "<re.Match object; span=(39, 40), match='L'>\n",
            "<re.Match object; span=(40, 41), match='M'>\n",
            "<re.Match object; span=(41, 42), match='N'>\n",
            "<re.Match object; span=(42, 43), match='O'>\n",
            "<re.Match object; span=(43, 44), match='P'>\n",
            "<re.Match object; span=(44, 45), match='Q'>\n",
            "<re.Match object; span=(45, 46), match='R'>\n",
            "<re.Match object; span=(46, 47), match='S'>\n",
            "<re.Match object; span=(47, 48), match='T'>\n",
            "<re.Match object; span=(48, 49), match='U'>\n",
            "<re.Match object; span=(49, 50), match='V'>\n",
            "<re.Match object; span=(50, 51), match='W'>\n",
            "<re.Match object; span=(51, 52), match='X'>\n",
            "<re.Match object; span=(52, 53), match='Y'>\n",
            "<re.Match object; span=(53, 54), match='Z'>\n",
            "<re.Match object; span=(67, 68), match='H'>\n",
            "<re.Match object; span=(68, 69), match='a'>\n",
            "<re.Match object; span=(70, 71), match='H'>\n",
            "<re.Match object; span=(71, 72), match='a'>\n",
            "<re.Match object; span=(72, 73), match='H'>\n",
            "<re.Match object; span=(73, 74), match='a'>\n",
            "<re.Match object; span=(76, 77), match='M'>\n",
            "<re.Match object; span=(77, 78), match='e'>\n",
            "<re.Match object; span=(78, 79), match='t'>\n",
            "<re.Match object; span=(79, 80), match='a'>\n",
            "<re.Match object; span=(80, 81), match='C'>\n",
            "<re.Match object; span=(81, 82), match='h'>\n",
            "<re.Match object; span=(82, 83), match='a'>\n",
            "<re.Match object; span=(83, 84), match='r'>\n",
            "<re.Match object; span=(84, 85), match='a'>\n",
            "<re.Match object; span=(85, 86), match='c'>\n",
            "<re.Match object; span=(86, 87), match='t'>\n",
            "<re.Match object; span=(87, 88), match='e'>\n",
            "<re.Match object; span=(88, 89), match='r'>\n",
            "<re.Match object; span=(89, 90), match='s'>\n",
            "<re.Match object; span=(92, 93), match='N'>\n",
            "<re.Match object; span=(93, 94), match='e'>\n",
            "<re.Match object; span=(94, 95), match='e'>\n",
            "<re.Match object; span=(95, 96), match='d'>\n",
            "<re.Match object; span=(97, 98), match='t'>\n",
            "<re.Match object; span=(98, 99), match='o'>\n",
            "<re.Match object; span=(100, 101), match='b'>\n",
            "<re.Match object; span=(101, 102), match='e'>\n",
            "<re.Match object; span=(103, 104), match='e'>\n",
            "<re.Match object; span=(104, 105), match='s'>\n",
            "<re.Match object; span=(105, 106), match='c'>\n",
            "<re.Match object; span=(106, 107), match='a'>\n",
            "<re.Match object; span=(107, 108), match='p'>\n",
            "<re.Match object; span=(108, 109), match='e'>\n",
            "<re.Match object; span=(109, 110), match='d'>\n",
            "<re.Match object; span=(142, 143), match='c'>\n",
            "<re.Match object; span=(143, 144), match='o'>\n",
            "<re.Match object; span=(144, 145), match='r'>\n",
            "<re.Match object; span=(145, 146), match='e'>\n",
            "<re.Match object; span=(146, 147), match='y'>\n",
            "<re.Match object; span=(147, 148), match='m'>\n",
            "<re.Match object; span=(148, 149), match='s'>\n",
            "<re.Match object; span=(150, 151), match='c'>\n",
            "<re.Match object; span=(151, 152), match='o'>\n",
            "<re.Match object; span=(152, 153), match='m'>\n",
            "<re.Match object; span=(221, 222), match='M'>\n",
            "<re.Match object; span=(222, 223), match='r'>\n",
            "<re.Match object; span=(225, 226), match='S'>\n",
            "<re.Match object; span=(226, 227), match='c'>\n",
            "<re.Match object; span=(227, 228), match='h'>\n",
            "<re.Match object; span=(228, 229), match='a'>\n",
            "<re.Match object; span=(229, 230), match='f'>\n",
            "<re.Match object; span=(230, 231), match='e'>\n",
            "<re.Match object; span=(231, 232), match='r'>\n",
            "<re.Match object; span=(233, 234), match='M'>\n",
            "<re.Match object; span=(234, 235), match='r'>\n",
            "<re.Match object; span=(236, 237), match='S'>\n",
            "<re.Match object; span=(237, 238), match='m'>\n",
            "<re.Match object; span=(238, 239), match='i'>\n",
            "<re.Match object; span=(239, 240), match='t'>\n",
            "<re.Match object; span=(240, 241), match='h'>\n",
            "<re.Match object; span=(242, 243), match='M'>\n",
            "<re.Match object; span=(243, 244), match='s'>\n",
            "<re.Match object; span=(245, 246), match='D'>\n",
            "<re.Match object; span=(246, 247), match='a'>\n",
            "<re.Match object; span=(247, 248), match='v'>\n",
            "<re.Match object; span=(248, 249), match='i'>\n",
            "<re.Match object; span=(249, 250), match='s'>\n",
            "<re.Match object; span=(251, 252), match='M'>\n",
            "<re.Match object; span=(252, 253), match='r'>\n",
            "<re.Match object; span=(253, 254), match='s'>\n",
            "<re.Match object; span=(256, 257), match='R'>\n",
            "<re.Match object; span=(257, 258), match='o'>\n",
            "<re.Match object; span=(258, 259), match='b'>\n",
            "<re.Match object; span=(259, 260), match='i'>\n",
            "<re.Match object; span=(260, 261), match='n'>\n",
            "<re.Match object; span=(261, 262), match='s'>\n",
            "<re.Match object; span=(262, 263), match='o'>\n",
            "<re.Match object; span=(263, 264), match='n'>\n",
            "<re.Match object; span=(265, 266), match='M'>\n",
            "<re.Match object; span=(266, 267), match='r'>\n",
            "<re.Match object; span=(269, 270), match='T'>\n"
          ]
        }
      ]
    },
    {
      "cell_type": "code",
      "source": [
        "pattern = re.compile(r'[^a-zA-Z]')  #  word boundry\n",
        "pattern\n",
        "matches = pattern.finditer(data)\n",
        "for match in matches:\n",
        "  print(match)"
      ],
      "metadata": {
        "colab": {
          "base_uri": "https://localhost:8080/"
        },
        "id": "3RPAbvlcyjCQ",
        "outputId": "ae203623-e120-4a6f-eb49-043bb3347210"
      },
      "execution_count": 57,
      "outputs": [
        {
          "output_type": "stream",
          "name": "stdout",
          "text": [
            "<re.Match object; span=(0, 1), match='\\n'>\n",
            "<re.Match object; span=(27, 28), match='\\n'>\n",
            "<re.Match object; span=(54, 55), match='\\n'>\n",
            "<re.Match object; span=(55, 56), match='1'>\n",
            "<re.Match object; span=(56, 57), match='2'>\n",
            "<re.Match object; span=(57, 58), match='3'>\n",
            "<re.Match object; span=(58, 59), match='4'>\n",
            "<re.Match object; span=(59, 60), match='5'>\n",
            "<re.Match object; span=(60, 61), match='6'>\n",
            "<re.Match object; span=(61, 62), match='7'>\n",
            "<re.Match object; span=(62, 63), match='8'>\n",
            "<re.Match object; span=(63, 64), match='9'>\n",
            "<re.Match object; span=(64, 65), match='0'>\n",
            "<re.Match object; span=(65, 66), match='\\n'>\n",
            "<re.Match object; span=(66, 67), match='\\n'>\n",
            "<re.Match object; span=(69, 70), match=' '>\n",
            "<re.Match object; span=(74, 75), match='\\n'>\n",
            "<re.Match object; span=(75, 76), match='\\n'>\n",
            "<re.Match object; span=(90, 91), match=' '>\n",
            "<re.Match object; span=(91, 92), match='('>\n",
            "<re.Match object; span=(96, 97), match=' '>\n",
            "<re.Match object; span=(99, 100), match=' '>\n",
            "<re.Match object; span=(102, 103), match=' '>\n",
            "<re.Match object; span=(110, 111), match=')'>\n",
            "<re.Match object; span=(111, 112), match=':'>\n",
            "<re.Match object; span=(112, 113), match='\\n'>\n",
            "<re.Match object; span=(113, 114), match='.'>\n",
            "<re.Match object; span=(114, 115), match=' '>\n",
            "<re.Match object; span=(115, 116), match='^'>\n",
            "<re.Match object; span=(116, 117), match=' '>\n",
            "<re.Match object; span=(117, 118), match='$'>\n",
            "<re.Match object; span=(118, 119), match=' '>\n",
            "<re.Match object; span=(119, 120), match='*'>\n",
            "<re.Match object; span=(120, 121), match=' '>\n",
            "<re.Match object; span=(121, 122), match='+'>\n",
            "<re.Match object; span=(122, 123), match=' '>\n",
            "<re.Match object; span=(123, 124), match='?'>\n",
            "<re.Match object; span=(124, 125), match=' '>\n",
            "<re.Match object; span=(125, 126), match='{'>\n",
            "<re.Match object; span=(126, 127), match=' '>\n",
            "<re.Match object; span=(127, 128), match='}'>\n",
            "<re.Match object; span=(128, 129), match=' '>\n",
            "<re.Match object; span=(129, 130), match='['>\n",
            "<re.Match object; span=(130, 131), match=' '>\n",
            "<re.Match object; span=(131, 132), match=']'>\n",
            "<re.Match object; span=(132, 133), match=' '>\n",
            "<re.Match object; span=(133, 134), match='\\\\'>\n",
            "<re.Match object; span=(134, 135), match=' '>\n",
            "<re.Match object; span=(135, 136), match='|'>\n",
            "<re.Match object; span=(136, 137), match=' '>\n",
            "<re.Match object; span=(137, 138), match='('>\n",
            "<re.Match object; span=(138, 139), match=' '>\n",
            "<re.Match object; span=(139, 140), match=')'>\n",
            "<re.Match object; span=(140, 141), match='\\n'>\n",
            "<re.Match object; span=(141, 142), match='\\n'>\n",
            "<re.Match object; span=(149, 150), match='.'>\n",
            "<re.Match object; span=(153, 154), match='\\n'>\n",
            "<re.Match object; span=(154, 155), match='\\n'>\n",
            "<re.Match object; span=(155, 156), match='3'>\n",
            "<re.Match object; span=(156, 157), match='2'>\n",
            "<re.Match object; span=(157, 158), match='1'>\n",
            "<re.Match object; span=(158, 159), match='-'>\n",
            "<re.Match object; span=(159, 160), match='5'>\n",
            "<re.Match object; span=(160, 161), match='5'>\n",
            "<re.Match object; span=(161, 162), match='5'>\n",
            "<re.Match object; span=(162, 163), match='-'>\n",
            "<re.Match object; span=(163, 164), match='4'>\n",
            "<re.Match object; span=(164, 165), match='3'>\n",
            "<re.Match object; span=(165, 166), match='2'>\n",
            "<re.Match object; span=(166, 167), match='1'>\n",
            "<re.Match object; span=(167, 168), match='\\n'>\n",
            "<re.Match object; span=(168, 169), match='1'>\n",
            "<re.Match object; span=(169, 170), match='2'>\n",
            "<re.Match object; span=(170, 171), match='3'>\n",
            "<re.Match object; span=(171, 172), match='.'>\n",
            "<re.Match object; span=(172, 173), match='5'>\n",
            "<re.Match object; span=(173, 174), match='5'>\n",
            "<re.Match object; span=(174, 175), match='5'>\n",
            "<re.Match object; span=(175, 176), match='.'>\n",
            "<re.Match object; span=(176, 177), match='1'>\n",
            "<re.Match object; span=(177, 178), match='2'>\n",
            "<re.Match object; span=(178, 179), match='3'>\n",
            "<re.Match object; span=(179, 180), match='4'>\n",
            "<re.Match object; span=(180, 181), match='\\n'>\n",
            "<re.Match object; span=(181, 182), match='1'>\n",
            "<re.Match object; span=(182, 183), match='2'>\n",
            "<re.Match object; span=(183, 184), match='3'>\n",
            "<re.Match object; span=(184, 185), match='*'>\n",
            "<re.Match object; span=(185, 186), match='5'>\n",
            "<re.Match object; span=(186, 187), match='5'>\n",
            "<re.Match object; span=(187, 188), match='5'>\n",
            "<re.Match object; span=(188, 189), match='*'>\n",
            "<re.Match object; span=(189, 190), match='1'>\n",
            "<re.Match object; span=(190, 191), match='2'>\n",
            "<re.Match object; span=(191, 192), match='3'>\n",
            "<re.Match object; span=(192, 193), match='4'>\n",
            "<re.Match object; span=(193, 194), match='\\n'>\n",
            "<re.Match object; span=(194, 195), match='8'>\n",
            "<re.Match object; span=(195, 196), match='0'>\n",
            "<re.Match object; span=(196, 197), match='0'>\n",
            "<re.Match object; span=(197, 198), match='-'>\n",
            "<re.Match object; span=(198, 199), match='5'>\n",
            "<re.Match object; span=(199, 200), match='5'>\n",
            "<re.Match object; span=(200, 201), match='5'>\n",
            "<re.Match object; span=(201, 202), match='-'>\n",
            "<re.Match object; span=(202, 203), match='1'>\n",
            "<re.Match object; span=(203, 204), match='2'>\n",
            "<re.Match object; span=(204, 205), match='3'>\n",
            "<re.Match object; span=(205, 206), match='4'>\n",
            "<re.Match object; span=(206, 207), match='\\n'>\n",
            "<re.Match object; span=(207, 208), match='9'>\n",
            "<re.Match object; span=(208, 209), match='0'>\n",
            "<re.Match object; span=(209, 210), match='0'>\n",
            "<re.Match object; span=(210, 211), match='-'>\n",
            "<re.Match object; span=(211, 212), match='5'>\n",
            "<re.Match object; span=(212, 213), match='5'>\n",
            "<re.Match object; span=(213, 214), match='5'>\n",
            "<re.Match object; span=(214, 215), match='-'>\n",
            "<re.Match object; span=(215, 216), match='1'>\n",
            "<re.Match object; span=(216, 217), match='2'>\n",
            "<re.Match object; span=(217, 218), match='3'>\n",
            "<re.Match object; span=(218, 219), match='4'>\n",
            "<re.Match object; span=(219, 220), match='\\n'>\n",
            "<re.Match object; span=(220, 221), match='\\n'>\n",
            "<re.Match object; span=(223, 224), match='.'>\n",
            "<re.Match object; span=(224, 225), match=' '>\n",
            "<re.Match object; span=(232, 233), match='\\n'>\n",
            "<re.Match object; span=(235, 236), match=' '>\n",
            "<re.Match object; span=(241, 242), match='\\n'>\n",
            "<re.Match object; span=(244, 245), match=' '>\n",
            "<re.Match object; span=(250, 251), match='\\n'>\n",
            "<re.Match object; span=(254, 255), match='.'>\n",
            "<re.Match object; span=(255, 256), match=' '>\n",
            "<re.Match object; span=(264, 265), match='\\n'>\n",
            "<re.Match object; span=(267, 268), match='.'>\n",
            "<re.Match object; span=(268, 269), match=' '>\n",
            "<re.Match object; span=(270, 271), match='\\n'>\n"
          ]
        }
      ]
    },
    {
      "cell_type": "code",
      "source": [
        "pattern = re.compile(r'\\w+')  #  word boundry\n",
        "pattern\n",
        "matches = pattern.finditer(data)\n",
        "for match in matches:\n",
        "  print(match)"
      ],
      "metadata": {
        "colab": {
          "base_uri": "https://localhost:8080/"
        },
        "id": "67LbEziHylsH",
        "outputId": "5f0c9a78-88e6-42ec-a9a2-fc8ac8697829"
      },
      "execution_count": 59,
      "outputs": [
        {
          "output_type": "stream",
          "name": "stdout",
          "text": [
            "<re.Match object; span=(1, 27), match='abcdefghijklmnopqurtuvwxyz'>\n",
            "<re.Match object; span=(28, 54), match='ABCDEFGHIJKLMNOPQRSTUVWXYZ'>\n",
            "<re.Match object; span=(55, 65), match='1234567890'>\n",
            "<re.Match object; span=(67, 69), match='Ha'>\n",
            "<re.Match object; span=(70, 74), match='HaHa'>\n",
            "<re.Match object; span=(76, 90), match='MetaCharacters'>\n",
            "<re.Match object; span=(92, 96), match='Need'>\n",
            "<re.Match object; span=(97, 99), match='to'>\n",
            "<re.Match object; span=(100, 102), match='be'>\n",
            "<re.Match object; span=(103, 110), match='escaped'>\n",
            "<re.Match object; span=(142, 149), match='coreyms'>\n",
            "<re.Match object; span=(150, 153), match='com'>\n",
            "<re.Match object; span=(155, 158), match='321'>\n",
            "<re.Match object; span=(159, 162), match='555'>\n",
            "<re.Match object; span=(163, 167), match='4321'>\n",
            "<re.Match object; span=(168, 171), match='123'>\n",
            "<re.Match object; span=(172, 175), match='555'>\n",
            "<re.Match object; span=(176, 180), match='1234'>\n",
            "<re.Match object; span=(181, 184), match='123'>\n",
            "<re.Match object; span=(185, 188), match='555'>\n",
            "<re.Match object; span=(189, 193), match='1234'>\n",
            "<re.Match object; span=(194, 197), match='800'>\n",
            "<re.Match object; span=(198, 201), match='555'>\n",
            "<re.Match object; span=(202, 206), match='1234'>\n",
            "<re.Match object; span=(207, 210), match='900'>\n",
            "<re.Match object; span=(211, 214), match='555'>\n",
            "<re.Match object; span=(215, 219), match='1234'>\n",
            "<re.Match object; span=(221, 223), match='Mr'>\n",
            "<re.Match object; span=(225, 232), match='Schafer'>\n",
            "<re.Match object; span=(233, 235), match='Mr'>\n",
            "<re.Match object; span=(236, 241), match='Smith'>\n",
            "<re.Match object; span=(242, 244), match='Ms'>\n",
            "<re.Match object; span=(245, 250), match='Davis'>\n",
            "<re.Match object; span=(251, 254), match='Mrs'>\n",
            "<re.Match object; span=(256, 264), match='Robinson'>\n",
            "<re.Match object; span=(265, 267), match='Mr'>\n",
            "<re.Match object; span=(269, 270), match='T'>\n"
          ]
        }
      ]
    },
    {
      "cell_type": "code",
      "source": [
        "pattern = re.compile(r'[^b]at')  #  word boundry\n",
        "pattern\n",
        "matches = pattern.finditer(data)\n",
        "for match in matches:\n",
        "  print(match)"
      ],
      "metadata": {
        "colab": {
          "base_uri": "https://localhost:8080/"
        },
        "id": "_V13JXobywSf",
        "outputId": "b410f877-80be-4430-96b4-7fdeee63331d"
      },
      "execution_count": 65,
      "outputs": [
        {
          "output_type": "stream",
          "name": "stdout",
          "text": [
            "<re.Match object; span=(272, 275), match='cat'>\n",
            "<re.Match object; span=(280, 283), match='mat'>\n",
            "<re.Match object; span=(284, 287), match='pat'>\n"
          ]
        }
      ]
    },
    {
      "cell_type": "code",
      "source": [
        "pattern = re.compile(r'\\d{3}.\\d{3}[-.]\\d{4}')  #  word boundry\n",
        "pattern\n",
        "matches = pattern.finditer(data)\n",
        "for match in matches:\n",
        "  print(match)"
      ],
      "metadata": {
        "colab": {
          "base_uri": "https://localhost:8080/"
        },
        "id": "03JrFW7XzR0Y",
        "outputId": "19da6613-d0a5-4348-b5f1-cf1628256e07"
      },
      "execution_count": 66,
      "outputs": [
        {
          "output_type": "stream",
          "name": "stdout",
          "text": [
            "<re.Match object; span=(155, 167), match='321-555-4321'>\n",
            "<re.Match object; span=(168, 180), match='123.555.1234'>\n",
            "<re.Match object; span=(194, 206), match='800-555-1234'>\n",
            "<re.Match object; span=(207, 219), match='900-555-1234'>\n"
          ]
        }
      ]
    },
    {
      "cell_type": "code",
      "source": [
        "pattern = re.compile(r'Mr\\.?\\s[A-Z]\\w*')  #  word boundry\n",
        "pattern\n",
        "matches = pattern.finditer(data)\n",
        "for match in matches:\n",
        "  print(match)"
      ],
      "metadata": {
        "colab": {
          "base_uri": "https://localhost:8080/"
        },
        "id": "9E69DlzT2eL9",
        "outputId": "7167b22f-8c86-4449-d9df-f1873b9467c4"
      },
      "execution_count": 81,
      "outputs": [
        {
          "output_type": "stream",
          "name": "stdout",
          "text": [
            "<re.Match object; span=(221, 232), match='Mr. Schafer'>\n",
            "<re.Match object; span=(233, 241), match='Mr Smith'>\n",
            "<re.Match object; span=(265, 270), match='Mr. T'>\n"
          ]
        }
      ]
    },
    {
      "cell_type": "code",
      "source": [
        "pattern = re.compile(r'[a-zA-Z0-9]+')  #  word boundry\n",
        "pattern\n",
        "matches = pattern.finditer(data)\n",
        "for match in matches:\n",
        "  print(match)"
      ],
      "metadata": {
        "colab": {
          "base_uri": "https://localhost:8080/"
        },
        "id": "3lwLm5LT22f7",
        "outputId": "fc473436-e68b-4fd7-9263-d9e92fe5efc0"
      },
      "execution_count": 84,
      "outputs": [
        {
          "output_type": "stream",
          "name": "stdout",
          "text": [
            "<re.Match object; span=(1, 27), match='abcdefghijklmnopqurtuvwxyz'>\n",
            "<re.Match object; span=(28, 54), match='ABCDEFGHIJKLMNOPQRSTUVWXYZ'>\n",
            "<re.Match object; span=(55, 65), match='1234567890'>\n",
            "<re.Match object; span=(67, 69), match='Ha'>\n",
            "<re.Match object; span=(70, 74), match='HaHa'>\n",
            "<re.Match object; span=(76, 90), match='MetaCharacters'>\n",
            "<re.Match object; span=(92, 96), match='Need'>\n",
            "<re.Match object; span=(97, 99), match='to'>\n",
            "<re.Match object; span=(100, 102), match='be'>\n",
            "<re.Match object; span=(103, 110), match='escaped'>\n",
            "<re.Match object; span=(142, 149), match='coreyms'>\n",
            "<re.Match object; span=(150, 153), match='com'>\n",
            "<re.Match object; span=(155, 158), match='321'>\n",
            "<re.Match object; span=(159, 162), match='555'>\n",
            "<re.Match object; span=(163, 167), match='4321'>\n",
            "<re.Match object; span=(168, 171), match='123'>\n",
            "<re.Match object; span=(172, 175), match='555'>\n",
            "<re.Match object; span=(176, 180), match='1234'>\n",
            "<re.Match object; span=(181, 184), match='123'>\n",
            "<re.Match object; span=(185, 188), match='555'>\n",
            "<re.Match object; span=(189, 193), match='1234'>\n",
            "<re.Match object; span=(194, 197), match='800'>\n",
            "<re.Match object; span=(198, 201), match='555'>\n",
            "<re.Match object; span=(202, 206), match='1234'>\n",
            "<re.Match object; span=(207, 210), match='900'>\n",
            "<re.Match object; span=(211, 214), match='555'>\n",
            "<re.Match object; span=(215, 219), match='1234'>\n",
            "<re.Match object; span=(221, 223), match='Mr'>\n",
            "<re.Match object; span=(225, 232), match='Schafer'>\n",
            "<re.Match object; span=(233, 235), match='Mr'>\n",
            "<re.Match object; span=(236, 241), match='Smith'>\n",
            "<re.Match object; span=(242, 244), match='Ms'>\n",
            "<re.Match object; span=(245, 250), match='Davis'>\n",
            "<re.Match object; span=(251, 254), match='Mrs'>\n",
            "<re.Match object; span=(256, 264), match='Robinson'>\n",
            "<re.Match object; span=(265, 267), match='Mr'>\n",
            "<re.Match object; span=(269, 270), match='T'>\n",
            "<re.Match object; span=(272, 275), match='cat'>\n",
            "<re.Match object; span=(276, 279), match='bat'>\n",
            "<re.Match object; span=(280, 283), match='mat'>\n",
            "<re.Match object; span=(284, 287), match='pat'>\n"
          ]
        }
      ]
    },
    {
      "cell_type": "code",
      "source": [
        "pattern = re.compile(r'M(r|s|rs)\\.?\\s[A-Z]\\w*')\n",
        "pattern\n",
        "matches = pattern.finditer(data)\n",
        "for match in matches:\n",
        "  print(match)"
      ],
      "metadata": {
        "colab": {
          "base_uri": "https://localhost:8080/"
        },
        "id": "Ph1h8mldQVXL",
        "outputId": "add76116-3a04-468e-f3f6-19ccc581222c"
      },
      "execution_count": 4,
      "outputs": [
        {
          "output_type": "stream",
          "name": "stdout",
          "text": [
            "<re.Match object; span=(221, 232), match='Mr. Schafer'>\n",
            "<re.Match object; span=(233, 241), match='Mr Smith'>\n",
            "<re.Match object; span=(242, 250), match='Ms Davis'>\n",
            "<re.Match object; span=(251, 264), match='Mrs. Robinson'>\n",
            "<re.Match object; span=(265, 270), match='Mr. T'>\n"
          ]
        }
      ]
    },
    {
      "cell_type": "code",
      "source": [
        "pattern = re.compile(r'[a-zA-Z]+@[a-zA-Z]+\\.com')\n",
        "pattern\n",
        "matches = pattern.finditer(data)\n",
        "for match in matches:\n",
        "  print(match)"
      ],
      "metadata": {
        "id": "gQ7dFGnMRL0S"
      },
      "execution_count": 11,
      "outputs": []
    },
    {
      "cell_type": "code",
      "source": [
        "pattern = re.compile(r'[a-zA-Z0-9-.]+@[a-zA-Z-]+\\.(com|in|edu|edu)')\n",
        "pattern\n",
        "matches = pattern.finditer(data)\n",
        "for match in matches:\n",
        "  print(match)"
      ],
      "metadata": {
        "id": "FTSJ9ofn8jI7"
      },
      "execution_count": 15,
      "outputs": []
    },
    {
      "cell_type": "code",
      "source": [
        "urls =  '''\n",
        "https://www.google.com\n",
        "https://www.wikipedia.org\n",
        "https://github.com\n",
        "http://www.openai.com\n",
        "https://www.python.org\n",
        "'''"
      ],
      "metadata": {
        "id": "EzbqJlcN_n-x"
      },
      "execution_count": 38,
      "outputs": []
    },
    {
      "cell_type": "code",
      "source": [
        "urls"
      ],
      "metadata": {
        "colab": {
          "base_uri": "https://localhost:8080/",
          "height": 53
        },
        "id": "AMIxmbo3Bq9k",
        "outputId": "da746489-23bc-44eb-82b3-fd177f97f9d7"
      },
      "execution_count": 39,
      "outputs": [
        {
          "output_type": "execute_result",
          "data": {
            "text/plain": [
              "'\\nhttps://www.google.com\\nhttps://www.wikipedia.org\\nhttps://github.com\\nhttp://www.openai.com\\nhttps://www.python.org\\n'"
            ],
            "application/vnd.google.colaboratory.intrinsic+json": {
              "type": "string"
            }
          },
          "metadata": {},
          "execution_count": 39
        }
      ]
    },
    {
      "cell_type": "code",
      "source": [
        "pattern = re.compile(r'http(s)?://(www\\.)?\\w+\\.\\w+')\n",
        "pattern\n",
        "matches = pattern.finditer(urls)\n",
        "for match in matches:\n",
        "  print(match)"
      ],
      "metadata": {
        "colab": {
          "base_uri": "https://localhost:8080/"
        },
        "id": "H6dOhydWBrxE",
        "outputId": "ee2761d8-7f1d-4f7d-b12a-3cfaf6ae7697"
      },
      "execution_count": 47,
      "outputs": [
        {
          "output_type": "stream",
          "name": "stdout",
          "text": [
            "<re.Match object; span=(1, 23), match='https://www.google.com'>\n",
            "<re.Match object; span=(24, 49), match='https://www.wikipedia.org'>\n",
            "<re.Match object; span=(50, 68), match='https://github.com'>\n",
            "<re.Match object; span=(69, 90), match='http://www.openai.com'>\n",
            "<re.Match object; span=(91, 113), match='https://www.python.org'>\n"
          ]
        }
      ]
    },
    {
      "cell_type": "code",
      "source": [
        "pattern = re.compile(r'http(s)?://(www\\.)?\\w+\\.\\w+')\n",
        "pattern\n",
        "matches = pattern.finditer(urls)\n",
        "for match in matches:\n",
        "  print(match.group(0))"
      ],
      "metadata": {
        "colab": {
          "base_uri": "https://localhost:8080/"
        },
        "id": "A9g_cQcHCGUM",
        "outputId": "a0eb24c9-7489-4d3c-d131-6e7401bcd699"
      },
      "execution_count": 50,
      "outputs": [
        {
          "output_type": "stream",
          "name": "stdout",
          "text": [
            "https://www.google.com\n",
            "https://www.wikipedia.org\n",
            "https://github.com\n",
            "http://www.openai.com\n",
            "https://www.python.org\n"
          ]
        }
      ]
    },
    {
      "cell_type": "code",
      "source": [
        "pattern = re.compile(r'http(s)?://(www\\.)?\\w+\\.\\w+')\n",
        "suburls = pattern.sub(r'\\2\\3',urls)\n",
        "print(suburls)"
      ],
      "metadata": {
        "colab": {
          "base_uri": "https://localhost:8080/",
          "height": 321
        },
        "id": "kD8eX_AADYVm",
        "outputId": "f63d0475-f3af-40eb-bc10-84418fa05bda"
      },
      "execution_count": 58,
      "outputs": [
        {
          "output_type": "error",
          "ename": "error",
          "evalue": "invalid group reference 3 at position 3",
          "traceback": [
            "\u001b[0;31m---------------------------------------------------------------------------\u001b[0m",
            "\u001b[0;31merror\u001b[0m                                     Traceback (most recent call last)",
            "\u001b[0;32m<ipython-input-58-d16c541468df>\u001b[0m in \u001b[0;36m<cell line: 0>\u001b[0;34m()\u001b[0m\n\u001b[1;32m      1\u001b[0m \u001b[0mpattern\u001b[0m \u001b[0;34m=\u001b[0m \u001b[0mre\u001b[0m\u001b[0;34m.\u001b[0m\u001b[0mcompile\u001b[0m\u001b[0;34m(\u001b[0m\u001b[0;34mr'http(s)?://(www\\.)?\\w+\\.\\w+'\u001b[0m\u001b[0;34m)\u001b[0m\u001b[0;34m\u001b[0m\u001b[0;34m\u001b[0m\u001b[0m\n\u001b[0;32m----> 2\u001b[0;31m \u001b[0msuburls\u001b[0m \u001b[0;34m=\u001b[0m \u001b[0mpattern\u001b[0m\u001b[0;34m.\u001b[0m\u001b[0msub\u001b[0m\u001b[0;34m(\u001b[0m\u001b[0;34mr'\\2\\3'\u001b[0m\u001b[0;34m,\u001b[0m\u001b[0murls\u001b[0m\u001b[0;34m)\u001b[0m\u001b[0;34m\u001b[0m\u001b[0;34m\u001b[0m\u001b[0m\n\u001b[0m\u001b[1;32m      3\u001b[0m \u001b[0mprint\u001b[0m\u001b[0;34m(\u001b[0m\u001b[0msuburls\u001b[0m\u001b[0;34m)\u001b[0m\u001b[0;34m\u001b[0m\u001b[0;34m\u001b[0m\u001b[0m\n",
            "\u001b[0;32m/usr/lib/python3.11/re/__init__.py\u001b[0m in \u001b[0;36m_subx\u001b[0;34m(pattern, template)\u001b[0m\n\u001b[1;32m    315\u001b[0m \u001b[0;32mdef\u001b[0m \u001b[0m_subx\u001b[0m\u001b[0;34m(\u001b[0m\u001b[0mpattern\u001b[0m\u001b[0;34m,\u001b[0m \u001b[0mtemplate\u001b[0m\u001b[0;34m)\u001b[0m\u001b[0;34m:\u001b[0m\u001b[0;34m\u001b[0m\u001b[0;34m\u001b[0m\u001b[0m\n\u001b[1;32m    316\u001b[0m     \u001b[0;31m# internal: Pattern.sub/subn implementation helper\u001b[0m\u001b[0;34m\u001b[0m\u001b[0;34m\u001b[0m\u001b[0m\n\u001b[0;32m--> 317\u001b[0;31m     \u001b[0mtemplate\u001b[0m \u001b[0;34m=\u001b[0m \u001b[0m_compile_repl\u001b[0m\u001b[0;34m(\u001b[0m\u001b[0mtemplate\u001b[0m\u001b[0;34m,\u001b[0m \u001b[0mpattern\u001b[0m\u001b[0;34m)\u001b[0m\u001b[0;34m\u001b[0m\u001b[0;34m\u001b[0m\u001b[0m\n\u001b[0m\u001b[1;32m    318\u001b[0m     \u001b[0;32mif\u001b[0m \u001b[0;32mnot\u001b[0m \u001b[0mtemplate\u001b[0m\u001b[0;34m[\u001b[0m\u001b[0;36m0\u001b[0m\u001b[0;34m]\u001b[0m \u001b[0;32mand\u001b[0m \u001b[0mlen\u001b[0m\u001b[0;34m(\u001b[0m\u001b[0mtemplate\u001b[0m\u001b[0;34m[\u001b[0m\u001b[0;36m1\u001b[0m\u001b[0;34m]\u001b[0m\u001b[0;34m)\u001b[0m \u001b[0;34m==\u001b[0m \u001b[0;36m1\u001b[0m\u001b[0;34m:\u001b[0m\u001b[0;34m\u001b[0m\u001b[0;34m\u001b[0m\u001b[0m\n\u001b[1;32m    319\u001b[0m         \u001b[0;31m# literal replacement\u001b[0m\u001b[0;34m\u001b[0m\u001b[0;34m\u001b[0m\u001b[0m\n",
            "\u001b[0;32m/usr/lib/python3.11/re/__init__.py\u001b[0m in \u001b[0;36m_compile_repl\u001b[0;34m(repl, pattern)\u001b[0m\n\u001b[1;32m    306\u001b[0m \u001b[0;32mdef\u001b[0m \u001b[0m_compile_repl\u001b[0m\u001b[0;34m(\u001b[0m\u001b[0mrepl\u001b[0m\u001b[0;34m,\u001b[0m \u001b[0mpattern\u001b[0m\u001b[0;34m)\u001b[0m\u001b[0;34m:\u001b[0m\u001b[0;34m\u001b[0m\u001b[0;34m\u001b[0m\u001b[0m\n\u001b[1;32m    307\u001b[0m     \u001b[0;31m# internal: compile replacement pattern\u001b[0m\u001b[0;34m\u001b[0m\u001b[0;34m\u001b[0m\u001b[0m\n\u001b[0;32m--> 308\u001b[0;31m     \u001b[0;32mreturn\u001b[0m \u001b[0m_parser\u001b[0m\u001b[0;34m.\u001b[0m\u001b[0mparse_template\u001b[0m\u001b[0;34m(\u001b[0m\u001b[0mrepl\u001b[0m\u001b[0;34m,\u001b[0m \u001b[0mpattern\u001b[0m\u001b[0;34m)\u001b[0m\u001b[0;34m\u001b[0m\u001b[0;34m\u001b[0m\u001b[0m\n\u001b[0m\u001b[1;32m    309\u001b[0m \u001b[0;34m\u001b[0m\u001b[0m\n\u001b[1;32m    310\u001b[0m \u001b[0;32mdef\u001b[0m \u001b[0m_expand\u001b[0m\u001b[0;34m(\u001b[0m\u001b[0mpattern\u001b[0m\u001b[0;34m,\u001b[0m \u001b[0mmatch\u001b[0m\u001b[0;34m,\u001b[0m \u001b[0mtemplate\u001b[0m\u001b[0;34m)\u001b[0m\u001b[0;34m:\u001b[0m\u001b[0;34m\u001b[0m\u001b[0;34m\u001b[0m\u001b[0m\n",
            "\u001b[0;32m/usr/lib/python3.11/re/_parser.py\u001b[0m in \u001b[0;36mparse_template\u001b[0;34m(source, state)\u001b[0m\n\u001b[1;32m   1079\u001b[0m                         \u001b[0mlappend\u001b[0m\u001b[0;34m(\u001b[0m\u001b[0mchr\u001b[0m\u001b[0;34m(\u001b[0m\u001b[0mc\u001b[0m\u001b[0;34m)\u001b[0m\u001b[0;34m)\u001b[0m\u001b[0;34m\u001b[0m\u001b[0;34m\u001b[0m\u001b[0m\n\u001b[1;32m   1080\u001b[0m                 \u001b[0;32mif\u001b[0m \u001b[0;32mnot\u001b[0m \u001b[0misoctal\u001b[0m\u001b[0;34m:\u001b[0m\u001b[0;34m\u001b[0m\u001b[0;34m\u001b[0m\u001b[0m\n\u001b[0;32m-> 1081\u001b[0;31m                     \u001b[0maddgroup\u001b[0m\u001b[0;34m(\u001b[0m\u001b[0mint\u001b[0m\u001b[0;34m(\u001b[0m\u001b[0mthis\u001b[0m\u001b[0;34m[\u001b[0m\u001b[0;36m1\u001b[0m\u001b[0;34m:\u001b[0m\u001b[0;34m]\u001b[0m\u001b[0;34m)\u001b[0m\u001b[0;34m,\u001b[0m \u001b[0mlen\u001b[0m\u001b[0;34m(\u001b[0m\u001b[0mthis\u001b[0m\u001b[0;34m)\u001b[0m \u001b[0;34m-\u001b[0m \u001b[0;36m1\u001b[0m\u001b[0;34m)\u001b[0m\u001b[0;34m\u001b[0m\u001b[0;34m\u001b[0m\u001b[0m\n\u001b[0m\u001b[1;32m   1082\u001b[0m             \u001b[0;32melse\u001b[0m\u001b[0;34m:\u001b[0m\u001b[0;34m\u001b[0m\u001b[0;34m\u001b[0m\u001b[0m\n\u001b[1;32m   1083\u001b[0m                 \u001b[0;32mtry\u001b[0m\u001b[0;34m:\u001b[0m\u001b[0;34m\u001b[0m\u001b[0;34m\u001b[0m\u001b[0m\n",
            "\u001b[0;32m/usr/lib/python3.11/re/_parser.py\u001b[0m in \u001b[0;36maddgroup\u001b[0;34m(index, pos)\u001b[0m\n\u001b[1;32m   1015\u001b[0m     \u001b[0;32mdef\u001b[0m \u001b[0maddgroup\u001b[0m\u001b[0;34m(\u001b[0m\u001b[0mindex\u001b[0m\u001b[0;34m,\u001b[0m \u001b[0mpos\u001b[0m\u001b[0;34m)\u001b[0m\u001b[0;34m:\u001b[0m\u001b[0;34m\u001b[0m\u001b[0;34m\u001b[0m\u001b[0m\n\u001b[1;32m   1016\u001b[0m         \u001b[0;32mif\u001b[0m \u001b[0mindex\u001b[0m \u001b[0;34m>\u001b[0m \u001b[0mstate\u001b[0m\u001b[0;34m.\u001b[0m\u001b[0mgroups\u001b[0m\u001b[0;34m:\u001b[0m\u001b[0;34m\u001b[0m\u001b[0;34m\u001b[0m\u001b[0m\n\u001b[0;32m-> 1017\u001b[0;31m             \u001b[0;32mraise\u001b[0m \u001b[0ms\u001b[0m\u001b[0;34m.\u001b[0m\u001b[0merror\u001b[0m\u001b[0;34m(\u001b[0m\u001b[0;34m\"invalid group reference %d\"\u001b[0m \u001b[0;34m%\u001b[0m \u001b[0mindex\u001b[0m\u001b[0;34m,\u001b[0m \u001b[0mpos\u001b[0m\u001b[0;34m)\u001b[0m\u001b[0;34m\u001b[0m\u001b[0;34m\u001b[0m\u001b[0m\n\u001b[0m\u001b[1;32m   1018\u001b[0m         \u001b[0;32mif\u001b[0m \u001b[0mliteral\u001b[0m\u001b[0;34m:\u001b[0m\u001b[0;34m\u001b[0m\u001b[0;34m\u001b[0m\u001b[0m\n\u001b[1;32m   1019\u001b[0m             \u001b[0mliterals\u001b[0m\u001b[0;34m.\u001b[0m\u001b[0mappend\u001b[0m\u001b[0;34m(\u001b[0m\u001b[0;34m''\u001b[0m\u001b[0;34m.\u001b[0m\u001b[0mjoin\u001b[0m\u001b[0;34m(\u001b[0m\u001b[0mliteral\u001b[0m\u001b[0;34m)\u001b[0m\u001b[0;34m)\u001b[0m\u001b[0;34m\u001b[0m\u001b[0;34m\u001b[0m\u001b[0m\n",
            "\u001b[0;31merror\u001b[0m: invalid group reference 3 at position 3"
          ]
        }
      ]
    },
    {
      "cell_type": "code",
      "source": [
        "pattern = re.compile(r'\\d{3}.\\d{3}.\\d{4}')\n",
        "pattern\n",
        "matches = pattern.findall(data)\n",
        "for match in matches:\n",
        "  print(match)"
      ],
      "metadata": {
        "colab": {
          "base_uri": "https://localhost:8080/"
        },
        "id": "XuJg6OexEai2",
        "outputId": "c7b442ad-5590-4757-f7b6-bf6070189e95"
      },
      "execution_count": 63,
      "outputs": [
        {
          "output_type": "stream",
          "name": "stdout",
          "text": [
            "321-555-4321\n",
            "123.555.1234\n",
            "123*555*1234\n",
            "800-555-1234\n",
            "900-555-1234\n"
          ]
        }
      ]
    },
    {
      "cell_type": "code",
      "source": [
        "pattern = re.compile(r'Start')\n",
        "pattern\n",
        "matches = pattern.match(sen)\n",
        "print(matches)"
      ],
      "metadata": {
        "colab": {
          "base_uri": "https://localhost:8080/"
        },
        "id": "WDe5gEVTFHam",
        "outputId": "d4fbe4da-715f-486a-ac1f-edeaafc6d354"
      },
      "execution_count": 66,
      "outputs": [
        {
          "output_type": "stream",
          "name": "stdout",
          "text": [
            "<re.Match object; span=(0, 5), match='Start'>\n"
          ]
        }
      ]
    },
    {
      "cell_type": "code",
      "source": [
        "pattern = re.compile(r'and')\n",
        "pattern\n",
        "matches = pattern.search(sen)\n",
        "print(matches)"
      ],
      "metadata": {
        "colab": {
          "base_uri": "https://localhost:8080/"
        },
        "id": "hKqkHnr_Fmac",
        "outputId": "0bfe2f50-aa62-4049-dc47-18ae4c413103"
      },
      "execution_count": 68,
      "outputs": [
        {
          "output_type": "stream",
          "name": "stdout",
          "text": [
            "<re.Match object; span=(17, 20), match='and'>\n"
          ]
        }
      ]
    },
    {
      "cell_type": "code",
      "source": [
        "pattern = re.compile(r'start',re.I)\n",
        "pattern\n",
        "matches = pattern.search(sen)\n",
        "print(matches)"
      ],
      "metadata": {
        "colab": {
          "base_uri": "https://localhost:8080/"
        },
        "id": "MHoxkxI6F8CG",
        "outputId": "1e61dc7f-14e9-43de-92e8-37d03f493d9f"
      },
      "execution_count": 70,
      "outputs": [
        {
          "output_type": "stream",
          "name": "stdout",
          "text": [
            "<re.Match object; span=(0, 5), match='Start'>\n"
          ]
        }
      ]
    },
    {
      "cell_type": "code",
      "source": [
        "pattern = re.compile(r'start',re.M)\n",
        "pattern\n",
        "matches = pattern.search(sen)\n",
        "print(matches)"
      ],
      "metadata": {
        "colab": {
          "base_uri": "https://localhost:8080/"
        },
        "id": "HYyqkkGIGUxX",
        "outputId": "94fc2302-7863-4a71-d3ce-f43438e5c212"
      },
      "execution_count": 71,
      "outputs": [
        {
          "output_type": "stream",
          "name": "stdout",
          "text": [
            "None\n"
          ]
        }
      ]
    },
    {
      "cell_type": "code",
      "source": [],
      "metadata": {
        "id": "6QXdzXg_GdCu"
      },
      "execution_count": null,
      "outputs": []
    }
  ]
}