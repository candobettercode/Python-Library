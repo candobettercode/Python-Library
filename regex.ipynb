{
  "nbformat": 4,
  "nbformat_minor": 0,
  "metadata": {
    "colab": {
      "provenance": [],
      "include_colab_link": true
    },
    "kernelspec": {
      "name": "python3",
      "display_name": "Python 3"
    },
    "language_info": {
      "name": "python"
    }
  },
  "cells": [
    {
      "cell_type": "markdown",
      "metadata": {
        "id": "view-in-github",
        "colab_type": "text"
      },
      "source": [
        "<a href=\"https://colab.research.google.com/github/candobettercode/Python-Library/blob/main/regex.ipynb\" target=\"_parent\"><img src=\"https://colab.research.google.com/assets/colab-badge.svg\" alt=\"Open In Colab\"/></a>"
      ]
    },
    {
      "cell_type": "code",
      "execution_count": 5,
      "metadata": {
        "id": "NEq5rp8qXVCd"
      },
      "outputs": [],
      "source": [
        "import re"
      ]
    },
    {
      "cell_type": "code",
      "source": [
        "data = '''\n",
        "abcdefghijklmnopqrstuvwxyz\n",
        "ABCDEFGHIJKLMNOPQRSTUVWXYZ\n",
        "1234567890\n",
        "gmail.com\n",
        "Mr. Vishal\n",
        "Mr Hitesh\n",
        "Ms. Komal\n",
        "Mrs. Priyanka\n",
        "Mr. A\n",
        "META CHARACTERS (NEED TO BE ESCAPED):\n",
        ". ^ $ * + ? { } ( ) [ ] | \\\n",
        "355-654-6890\n",
        "324.258.5541\n",
        "'''"
      ],
      "metadata": {
        "id": "o1HG1qbdXYFs"
      },
      "execution_count": null,
      "outputs": []
    },
    {
      "cell_type": "code",
      "source": [
        "data"
      ],
      "metadata": {
        "colab": {
          "base_uri": "https://localhost:8080/",
          "height": 70
        },
        "id": "wJ_fUmW4XmAW",
        "outputId": "57136aff-4325-4efe-bd27-26c596b3d47e"
      },
      "execution_count": null,
      "outputs": [
        {
          "output_type": "execute_result",
          "data": {
            "text/plain": [
              "'\\nabcdefghijklmnopqrstuvwxyz\\nABCDEFGHIJKLMNOPQRSTUVWXYZ\\n1234567890\\ngmail.com\\nMr. Vishal\\nMr Hitesh\\nMs. Komal\\nMrs. Priyanka\\nMr. A\\nMETA CHARACTERS (NEED TO BE ESCAPED):\\n. ^ $ * + ? { } ( ) [ ] | 355-654-6890\\n324.258.5541\\n'"
            ],
            "application/vnd.google.colaboratory.intrinsic+json": {
              "type": "string"
            }
          },
          "metadata": {},
          "execution_count": 5
        }
      ]
    },
    {
      "cell_type": "code",
      "source": [
        "pattern=re.compile(r'\\.')\n",
        "pattern"
      ],
      "metadata": {
        "colab": {
          "base_uri": "https://localhost:8080/"
        },
        "id": "EBp8MinXXl9r",
        "outputId": "1eb01888-4e36-4ad2-cfd1-632bd063e00a"
      },
      "execution_count": null,
      "outputs": [
        {
          "output_type": "execute_result",
          "data": {
            "text/plain": [
              "re.compile(r'\\.', re.UNICODE)"
            ]
          },
          "metadata": {},
          "execution_count": 6
        }
      ]
    },
    {
      "cell_type": "code",
      "source": [
        "checking=pattern.finditer(Data)"
      ],
      "metadata": {
        "id": "GgCUQs2oXl7z"
      },
      "execution_count": null,
      "outputs": []
    },
    {
      "cell_type": "code",
      "source": [
        "checking"
      ],
      "metadata": {
        "colab": {
          "base_uri": "https://localhost:8080/"
        },
        "id": "NWwZ6Ix7Xl4z",
        "outputId": "e7bdebdc-f589-4baf-e1d0-d626c6a23d70"
      },
      "execution_count": null,
      "outputs": [
        {
          "output_type": "execute_result",
          "data": {
            "text/plain": [
              "<callable_iterator at 0x7fe6740dbfa0>"
            ]
          },
          "metadata": {},
          "execution_count": 8
        }
      ]
    },
    {
      "cell_type": "code",
      "source": [
        "for i in checking:\n",
        "  print(i)"
      ],
      "metadata": {
        "colab": {
          "base_uri": "https://localhost:8080/"
        },
        "id": "y-AINFuQXl2M",
        "outputId": "788817e0-8f51-46de-bf72-c1695bb34170"
      },
      "execution_count": null,
      "outputs": [
        {
          "output_type": "stream",
          "name": "stdout",
          "text": [
            "<re.Match object; span=(71, 72), match='.'>\n",
            "<re.Match object; span=(78, 79), match='.'>\n",
            "<re.Match object; span=(99, 100), match='.'>\n",
            "<re.Match object; span=(110, 111), match='.'>\n",
            "<re.Match object; span=(123, 124), match='.'>\n",
            "<re.Match object; span=(165, 166), match='.'>\n",
            "<re.Match object; span=(207, 208), match='.'>\n",
            "<re.Match object; span=(211, 212), match='.'>\n"
          ]
        }
      ]
    },
    {
      "cell_type": "code",
      "source": [
        "pattern=re.compile(r'\\S')\n",
        "checking=pattern.finditer(Data)\n",
        "for i in checking:\n",
        "  print(i)\n",
        "  print(i.start())\n",
        "  print(i.end())\n",
        "  print(i.group())"
      ],
      "metadata": {
        "colab": {
          "base_uri": "https://localhost:8080/"
        },
        "id": "Mk8aUfWEXlzb",
        "outputId": "17c32b5b-cc78-419f-86fc-9c486bca79c9"
      },
      "execution_count": null,
      "outputs": [
        {
          "output_type": "stream",
          "name": "stdout",
          "text": [
            "<re.Match object; span=(1, 2), match='a'>\n",
            "1\n",
            "2\n",
            "a\n",
            "<re.Match object; span=(2, 3), match='b'>\n",
            "2\n",
            "3\n",
            "b\n",
            "<re.Match object; span=(3, 4), match='c'>\n",
            "3\n",
            "4\n",
            "c\n",
            "<re.Match object; span=(4, 5), match='d'>\n",
            "4\n",
            "5\n",
            "d\n",
            "<re.Match object; span=(5, 6), match='e'>\n",
            "5\n",
            "6\n",
            "e\n",
            "<re.Match object; span=(6, 7), match='f'>\n",
            "6\n",
            "7\n",
            "f\n",
            "<re.Match object; span=(7, 8), match='g'>\n",
            "7\n",
            "8\n",
            "g\n",
            "<re.Match object; span=(8, 9), match='h'>\n",
            "8\n",
            "9\n",
            "h\n",
            "<re.Match object; span=(9, 10), match='i'>\n",
            "9\n",
            "10\n",
            "i\n",
            "<re.Match object; span=(10, 11), match='j'>\n",
            "10\n",
            "11\n",
            "j\n",
            "<re.Match object; span=(11, 12), match='k'>\n",
            "11\n",
            "12\n",
            "k\n",
            "<re.Match object; span=(12, 13), match='l'>\n",
            "12\n",
            "13\n",
            "l\n",
            "<re.Match object; span=(13, 14), match='m'>\n",
            "13\n",
            "14\n",
            "m\n",
            "<re.Match object; span=(14, 15), match='n'>\n",
            "14\n",
            "15\n",
            "n\n",
            "<re.Match object; span=(15, 16), match='o'>\n",
            "15\n",
            "16\n",
            "o\n",
            "<re.Match object; span=(16, 17), match='p'>\n",
            "16\n",
            "17\n",
            "p\n",
            "<re.Match object; span=(17, 18), match='q'>\n",
            "17\n",
            "18\n",
            "q\n",
            "<re.Match object; span=(18, 19), match='r'>\n",
            "18\n",
            "19\n",
            "r\n",
            "<re.Match object; span=(19, 20), match='s'>\n",
            "19\n",
            "20\n",
            "s\n",
            "<re.Match object; span=(20, 21), match='t'>\n",
            "20\n",
            "21\n",
            "t\n",
            "<re.Match object; span=(21, 22), match='u'>\n",
            "21\n",
            "22\n",
            "u\n",
            "<re.Match object; span=(22, 23), match='v'>\n",
            "22\n",
            "23\n",
            "v\n",
            "<re.Match object; span=(23, 24), match='w'>\n",
            "23\n",
            "24\n",
            "w\n",
            "<re.Match object; span=(24, 25), match='x'>\n",
            "24\n",
            "25\n",
            "x\n",
            "<re.Match object; span=(25, 26), match='y'>\n",
            "25\n",
            "26\n",
            "y\n",
            "<re.Match object; span=(26, 27), match='z'>\n",
            "26\n",
            "27\n",
            "z\n",
            "<re.Match object; span=(28, 29), match='A'>\n",
            "28\n",
            "29\n",
            "A\n",
            "<re.Match object; span=(29, 30), match='B'>\n",
            "29\n",
            "30\n",
            "B\n",
            "<re.Match object; span=(30, 31), match='C'>\n",
            "30\n",
            "31\n",
            "C\n",
            "<re.Match object; span=(31, 32), match='D'>\n",
            "31\n",
            "32\n",
            "D\n",
            "<re.Match object; span=(32, 33), match='E'>\n",
            "32\n",
            "33\n",
            "E\n",
            "<re.Match object; span=(33, 34), match='F'>\n",
            "33\n",
            "34\n",
            "F\n",
            "<re.Match object; span=(34, 35), match='G'>\n",
            "34\n",
            "35\n",
            "G\n",
            "<re.Match object; span=(35, 36), match='H'>\n",
            "35\n",
            "36\n",
            "H\n",
            "<re.Match object; span=(36, 37), match='I'>\n",
            "36\n",
            "37\n",
            "I\n",
            "<re.Match object; span=(37, 38), match='J'>\n",
            "37\n",
            "38\n",
            "J\n",
            "<re.Match object; span=(38, 39), match='K'>\n",
            "38\n",
            "39\n",
            "K\n",
            "<re.Match object; span=(39, 40), match='L'>\n",
            "39\n",
            "40\n",
            "L\n",
            "<re.Match object; span=(40, 41), match='M'>\n",
            "40\n",
            "41\n",
            "M\n",
            "<re.Match object; span=(41, 42), match='N'>\n",
            "41\n",
            "42\n",
            "N\n",
            "<re.Match object; span=(42, 43), match='O'>\n",
            "42\n",
            "43\n",
            "O\n",
            "<re.Match object; span=(43, 44), match='P'>\n",
            "43\n",
            "44\n",
            "P\n",
            "<re.Match object; span=(44, 45), match='Q'>\n",
            "44\n",
            "45\n",
            "Q\n",
            "<re.Match object; span=(45, 46), match='R'>\n",
            "45\n",
            "46\n",
            "R\n",
            "<re.Match object; span=(46, 47), match='S'>\n",
            "46\n",
            "47\n",
            "S\n",
            "<re.Match object; span=(47, 48), match='T'>\n",
            "47\n",
            "48\n",
            "T\n",
            "<re.Match object; span=(48, 49), match='U'>\n",
            "48\n",
            "49\n",
            "U\n",
            "<re.Match object; span=(49, 50), match='V'>\n",
            "49\n",
            "50\n",
            "V\n",
            "<re.Match object; span=(50, 51), match='W'>\n",
            "50\n",
            "51\n",
            "W\n",
            "<re.Match object; span=(51, 52), match='X'>\n",
            "51\n",
            "52\n",
            "X\n",
            "<re.Match object; span=(52, 53), match='Y'>\n",
            "52\n",
            "53\n",
            "Y\n",
            "<re.Match object; span=(53, 54), match='Z'>\n",
            "53\n",
            "54\n",
            "Z\n",
            "<re.Match object; span=(55, 56), match='1'>\n",
            "55\n",
            "56\n",
            "1\n",
            "<re.Match object; span=(56, 57), match='2'>\n",
            "56\n",
            "57\n",
            "2\n",
            "<re.Match object; span=(57, 58), match='3'>\n",
            "57\n",
            "58\n",
            "3\n",
            "<re.Match object; span=(58, 59), match='4'>\n",
            "58\n",
            "59\n",
            "4\n",
            "<re.Match object; span=(59, 60), match='5'>\n",
            "59\n",
            "60\n",
            "5\n",
            "<re.Match object; span=(60, 61), match='6'>\n",
            "60\n",
            "61\n",
            "6\n",
            "<re.Match object; span=(61, 62), match='7'>\n",
            "61\n",
            "62\n",
            "7\n",
            "<re.Match object; span=(62, 63), match='8'>\n",
            "62\n",
            "63\n",
            "8\n",
            "<re.Match object; span=(63, 64), match='9'>\n",
            "63\n",
            "64\n",
            "9\n",
            "<re.Match object; span=(64, 65), match='0'>\n",
            "64\n",
            "65\n",
            "0\n",
            "<re.Match object; span=(66, 67), match='g'>\n",
            "66\n",
            "67\n",
            "g\n",
            "<re.Match object; span=(67, 68), match='m'>\n",
            "67\n",
            "68\n",
            "m\n",
            "<re.Match object; span=(68, 69), match='a'>\n",
            "68\n",
            "69\n",
            "a\n",
            "<re.Match object; span=(69, 70), match='i'>\n",
            "69\n",
            "70\n",
            "i\n",
            "<re.Match object; span=(70, 71), match='l'>\n",
            "70\n",
            "71\n",
            "l\n",
            "<re.Match object; span=(71, 72), match='.'>\n",
            "71\n",
            "72\n",
            ".\n",
            "<re.Match object; span=(72, 73), match='c'>\n",
            "72\n",
            "73\n",
            "c\n",
            "<re.Match object; span=(73, 74), match='o'>\n",
            "73\n",
            "74\n",
            "o\n",
            "<re.Match object; span=(74, 75), match='m'>\n",
            "74\n",
            "75\n",
            "m\n",
            "<re.Match object; span=(76, 77), match='M'>\n",
            "76\n",
            "77\n",
            "M\n",
            "<re.Match object; span=(77, 78), match='r'>\n",
            "77\n",
            "78\n",
            "r\n",
            "<re.Match object; span=(78, 79), match='.'>\n",
            "78\n",
            "79\n",
            ".\n",
            "<re.Match object; span=(80, 81), match='V'>\n",
            "80\n",
            "81\n",
            "V\n",
            "<re.Match object; span=(81, 82), match='i'>\n",
            "81\n",
            "82\n",
            "i\n",
            "<re.Match object; span=(82, 83), match='s'>\n",
            "82\n",
            "83\n",
            "s\n",
            "<re.Match object; span=(83, 84), match='h'>\n",
            "83\n",
            "84\n",
            "h\n",
            "<re.Match object; span=(84, 85), match='a'>\n",
            "84\n",
            "85\n",
            "a\n",
            "<re.Match object; span=(85, 86), match='l'>\n",
            "85\n",
            "86\n",
            "l\n",
            "<re.Match object; span=(87, 88), match='M'>\n",
            "87\n",
            "88\n",
            "M\n",
            "<re.Match object; span=(88, 89), match='r'>\n",
            "88\n",
            "89\n",
            "r\n",
            "<re.Match object; span=(90, 91), match='H'>\n",
            "90\n",
            "91\n",
            "H\n",
            "<re.Match object; span=(91, 92), match='i'>\n",
            "91\n",
            "92\n",
            "i\n",
            "<re.Match object; span=(92, 93), match='t'>\n",
            "92\n",
            "93\n",
            "t\n",
            "<re.Match object; span=(93, 94), match='e'>\n",
            "93\n",
            "94\n",
            "e\n",
            "<re.Match object; span=(94, 95), match='s'>\n",
            "94\n",
            "95\n",
            "s\n",
            "<re.Match object; span=(95, 96), match='h'>\n",
            "95\n",
            "96\n",
            "h\n",
            "<re.Match object; span=(97, 98), match='M'>\n",
            "97\n",
            "98\n",
            "M\n",
            "<re.Match object; span=(98, 99), match='s'>\n",
            "98\n",
            "99\n",
            "s\n",
            "<re.Match object; span=(99, 100), match='.'>\n",
            "99\n",
            "100\n",
            ".\n",
            "<re.Match object; span=(101, 102), match='K'>\n",
            "101\n",
            "102\n",
            "K\n",
            "<re.Match object; span=(102, 103), match='o'>\n",
            "102\n",
            "103\n",
            "o\n",
            "<re.Match object; span=(103, 104), match='m'>\n",
            "103\n",
            "104\n",
            "m\n",
            "<re.Match object; span=(104, 105), match='a'>\n",
            "104\n",
            "105\n",
            "a\n",
            "<re.Match object; span=(105, 106), match='l'>\n",
            "105\n",
            "106\n",
            "l\n",
            "<re.Match object; span=(107, 108), match='M'>\n",
            "107\n",
            "108\n",
            "M\n",
            "<re.Match object; span=(108, 109), match='r'>\n",
            "108\n",
            "109\n",
            "r\n",
            "<re.Match object; span=(109, 110), match='s'>\n",
            "109\n",
            "110\n",
            "s\n",
            "<re.Match object; span=(110, 111), match='.'>\n",
            "110\n",
            "111\n",
            ".\n",
            "<re.Match object; span=(112, 113), match='P'>\n",
            "112\n",
            "113\n",
            "P\n",
            "<re.Match object; span=(113, 114), match='r'>\n",
            "113\n",
            "114\n",
            "r\n",
            "<re.Match object; span=(114, 115), match='i'>\n",
            "114\n",
            "115\n",
            "i\n",
            "<re.Match object; span=(115, 116), match='y'>\n",
            "115\n",
            "116\n",
            "y\n",
            "<re.Match object; span=(116, 117), match='a'>\n",
            "116\n",
            "117\n",
            "a\n",
            "<re.Match object; span=(117, 118), match='n'>\n",
            "117\n",
            "118\n",
            "n\n",
            "<re.Match object; span=(118, 119), match='k'>\n",
            "118\n",
            "119\n",
            "k\n",
            "<re.Match object; span=(119, 120), match='a'>\n",
            "119\n",
            "120\n",
            "a\n",
            "<re.Match object; span=(121, 122), match='M'>\n",
            "121\n",
            "122\n",
            "M\n",
            "<re.Match object; span=(122, 123), match='r'>\n",
            "122\n",
            "123\n",
            "r\n",
            "<re.Match object; span=(123, 124), match='.'>\n",
            "123\n",
            "124\n",
            ".\n",
            "<re.Match object; span=(125, 126), match='A'>\n",
            "125\n",
            "126\n",
            "A\n",
            "<re.Match object; span=(127, 128), match='M'>\n",
            "127\n",
            "128\n",
            "M\n",
            "<re.Match object; span=(128, 129), match='E'>\n",
            "128\n",
            "129\n",
            "E\n",
            "<re.Match object; span=(129, 130), match='T'>\n",
            "129\n",
            "130\n",
            "T\n",
            "<re.Match object; span=(130, 131), match='A'>\n",
            "130\n",
            "131\n",
            "A\n",
            "<re.Match object; span=(132, 133), match='C'>\n",
            "132\n",
            "133\n",
            "C\n",
            "<re.Match object; span=(133, 134), match='H'>\n",
            "133\n",
            "134\n",
            "H\n",
            "<re.Match object; span=(134, 135), match='A'>\n",
            "134\n",
            "135\n",
            "A\n",
            "<re.Match object; span=(135, 136), match='R'>\n",
            "135\n",
            "136\n",
            "R\n",
            "<re.Match object; span=(136, 137), match='A'>\n",
            "136\n",
            "137\n",
            "A\n",
            "<re.Match object; span=(137, 138), match='C'>\n",
            "137\n",
            "138\n",
            "C\n",
            "<re.Match object; span=(138, 139), match='T'>\n",
            "138\n",
            "139\n",
            "T\n",
            "<re.Match object; span=(139, 140), match='E'>\n",
            "139\n",
            "140\n",
            "E\n",
            "<re.Match object; span=(140, 141), match='R'>\n",
            "140\n",
            "141\n",
            "R\n",
            "<re.Match object; span=(141, 142), match='S'>\n",
            "141\n",
            "142\n",
            "S\n",
            "<re.Match object; span=(143, 144), match='('>\n",
            "143\n",
            "144\n",
            "(\n",
            "<re.Match object; span=(144, 145), match='N'>\n",
            "144\n",
            "145\n",
            "N\n",
            "<re.Match object; span=(145, 146), match='E'>\n",
            "145\n",
            "146\n",
            "E\n",
            "<re.Match object; span=(146, 147), match='E'>\n",
            "146\n",
            "147\n",
            "E\n",
            "<re.Match object; span=(147, 148), match='D'>\n",
            "147\n",
            "148\n",
            "D\n",
            "<re.Match object; span=(149, 150), match='T'>\n",
            "149\n",
            "150\n",
            "T\n",
            "<re.Match object; span=(150, 151), match='O'>\n",
            "150\n",
            "151\n",
            "O\n",
            "<re.Match object; span=(152, 153), match='B'>\n",
            "152\n",
            "153\n",
            "B\n",
            "<re.Match object; span=(153, 154), match='E'>\n",
            "153\n",
            "154\n",
            "E\n",
            "<re.Match object; span=(155, 156), match='E'>\n",
            "155\n",
            "156\n",
            "E\n",
            "<re.Match object; span=(156, 157), match='S'>\n",
            "156\n",
            "157\n",
            "S\n",
            "<re.Match object; span=(157, 158), match='C'>\n",
            "157\n",
            "158\n",
            "C\n",
            "<re.Match object; span=(158, 159), match='A'>\n",
            "158\n",
            "159\n",
            "A\n",
            "<re.Match object; span=(159, 160), match='P'>\n",
            "159\n",
            "160\n",
            "P\n",
            "<re.Match object; span=(160, 161), match='E'>\n",
            "160\n",
            "161\n",
            "E\n",
            "<re.Match object; span=(161, 162), match='D'>\n",
            "161\n",
            "162\n",
            "D\n",
            "<re.Match object; span=(162, 163), match=')'>\n",
            "162\n",
            "163\n",
            ")\n",
            "<re.Match object; span=(163, 164), match=':'>\n",
            "163\n",
            "164\n",
            ":\n",
            "<re.Match object; span=(165, 166), match='.'>\n",
            "165\n",
            "166\n",
            ".\n",
            "<re.Match object; span=(167, 168), match='^'>\n",
            "167\n",
            "168\n",
            "^\n",
            "<re.Match object; span=(169, 170), match='$'>\n",
            "169\n",
            "170\n",
            "$\n",
            "<re.Match object; span=(171, 172), match='*'>\n",
            "171\n",
            "172\n",
            "*\n",
            "<re.Match object; span=(173, 174), match='+'>\n",
            "173\n",
            "174\n",
            "+\n",
            "<re.Match object; span=(175, 176), match='?'>\n",
            "175\n",
            "176\n",
            "?\n",
            "<re.Match object; span=(177, 178), match='{'>\n",
            "177\n",
            "178\n",
            "{\n",
            "<re.Match object; span=(179, 180), match='}'>\n",
            "179\n",
            "180\n",
            "}\n",
            "<re.Match object; span=(181, 182), match='('>\n",
            "181\n",
            "182\n",
            "(\n",
            "<re.Match object; span=(183, 184), match=')'>\n",
            "183\n",
            "184\n",
            ")\n",
            "<re.Match object; span=(185, 186), match='['>\n",
            "185\n",
            "186\n",
            "[\n",
            "<re.Match object; span=(187, 188), match=']'>\n",
            "187\n",
            "188\n",
            "]\n",
            "<re.Match object; span=(189, 190), match='|'>\n",
            "189\n",
            "190\n",
            "|\n",
            "<re.Match object; span=(191, 192), match='3'>\n",
            "191\n",
            "192\n",
            "3\n",
            "<re.Match object; span=(192, 193), match='5'>\n",
            "192\n",
            "193\n",
            "5\n",
            "<re.Match object; span=(193, 194), match='5'>\n",
            "193\n",
            "194\n",
            "5\n",
            "<re.Match object; span=(194, 195), match='-'>\n",
            "194\n",
            "195\n",
            "-\n",
            "<re.Match object; span=(195, 196), match='6'>\n",
            "195\n",
            "196\n",
            "6\n",
            "<re.Match object; span=(196, 197), match='5'>\n",
            "196\n",
            "197\n",
            "5\n",
            "<re.Match object; span=(197, 198), match='4'>\n",
            "197\n",
            "198\n",
            "4\n",
            "<re.Match object; span=(198, 199), match='-'>\n",
            "198\n",
            "199\n",
            "-\n",
            "<re.Match object; span=(199, 200), match='6'>\n",
            "199\n",
            "200\n",
            "6\n",
            "<re.Match object; span=(200, 201), match='8'>\n",
            "200\n",
            "201\n",
            "8\n",
            "<re.Match object; span=(201, 202), match='9'>\n",
            "201\n",
            "202\n",
            "9\n",
            "<re.Match object; span=(202, 203), match='0'>\n",
            "202\n",
            "203\n",
            "0\n",
            "<re.Match object; span=(204, 205), match='3'>\n",
            "204\n",
            "205\n",
            "3\n",
            "<re.Match object; span=(205, 206), match='2'>\n",
            "205\n",
            "206\n",
            "2\n",
            "<re.Match object; span=(206, 207), match='4'>\n",
            "206\n",
            "207\n",
            "4\n",
            "<re.Match object; span=(207, 208), match='.'>\n",
            "207\n",
            "208\n",
            ".\n",
            "<re.Match object; span=(208, 209), match='2'>\n",
            "208\n",
            "209\n",
            "2\n",
            "<re.Match object; span=(209, 210), match='5'>\n",
            "209\n",
            "210\n",
            "5\n",
            "<re.Match object; span=(210, 211), match='8'>\n",
            "210\n",
            "211\n",
            "8\n",
            "<re.Match object; span=(211, 212), match='.'>\n",
            "211\n",
            "212\n",
            ".\n",
            "<re.Match object; span=(212, 213), match='5'>\n",
            "212\n",
            "213\n",
            "5\n",
            "<re.Match object; span=(213, 214), match='5'>\n",
            "213\n",
            "214\n",
            "5\n",
            "<re.Match object; span=(214, 215), match='4'>\n",
            "214\n",
            "215\n",
            "4\n",
            "<re.Match object; span=(215, 216), match='1'>\n",
            "215\n",
            "216\n",
            "1\n"
          ]
        }
      ]
    },
    {
      "cell_type": "code",
      "source": [
        "text = \"My email is test@example.com\"\n",
        "#pattern = r\"[A-Za-z0-9._%+-]+@[A-Za-z0-9.-]+\\.[A-Za-z]{2,}\"\n",
        "pattern = r\"[a-z]\"\n",
        "\n",
        "match = re.search(pattern, text)\n",
        "if match:\n",
        "    print(\"Found:\", match.group())"
      ],
      "metadata": {
        "colab": {
          "base_uri": "https://localhost:8080/"
        },
        "id": "-nC0thJ6Xlw7",
        "outputId": "46eebba7-1a5d-45f0-8251-8e68e6603719"
      },
      "execution_count": null,
      "outputs": [
        {
          "output_type": "stream",
          "name": "stdout",
          "text": [
            "Found: y\n"
          ]
        }
      ]
    },
    {
      "cell_type": "code",
      "source": [
        "data1='today is saturday so have a nice day'\n",
        "pattern=re.compile(r'^today')\n",
        "checking=pattern.finditer(data1)\n",
        "checking"
      ],
      "metadata": {
        "colab": {
          "base_uri": "https://localhost:8080/"
        },
        "id": "OVE5FpKDaRcx",
        "outputId": "07df4ecc-f74b-49ed-9645-081ab80f3549"
      },
      "execution_count": null,
      "outputs": [
        {
          "output_type": "execute_result",
          "data": {
            "text/plain": [
              "<callable_iterator at 0x7fe6740d97e0>"
            ]
          },
          "metadata": {},
          "execution_count": 19
        }
      ]
    },
    {
      "cell_type": "code",
      "source": [
        "data1='today is saturday so have a nice day'\n",
        "pattern=re.compile(r'day$')\n",
        "checking=pattern.finditer(data1)\n",
        "checking"
      ],
      "metadata": {
        "colab": {
          "base_uri": "https://localhost:8080/"
        },
        "id": "_1tA1REgXluj",
        "outputId": "00b72b84-5155-40a4-dc05-dc1eb505f7d9"
      },
      "execution_count": null,
      "outputs": [
        {
          "output_type": "execute_result",
          "data": {
            "text/plain": [
              "<callable_iterator at 0x7fe6740d8820>"
            ]
          },
          "metadata": {},
          "execution_count": 22
        }
      ]
    },
    {
      "cell_type": "code",
      "source": [
        "txt = \"where there is a will there is a way 90\"\n",
        "x = re.findall(\"there\", txt)\n",
        "print(x)"
      ],
      "metadata": {
        "colab": {
          "base_uri": "https://localhost:8080/"
        },
        "id": "le7agGJ9Xlr7",
        "outputId": "74a8c6bd-29d3-4058-be95-4b4135c6f7a4"
      },
      "execution_count": null,
      "outputs": [
        {
          "output_type": "stream",
          "name": "stdout",
          "text": [
            "['there', 'there']\n"
          ]
        }
      ]
    },
    {
      "cell_type": "code",
      "source": [
        "x = re.findall(\"[a-e]\",txt)\n",
        "print(x)"
      ],
      "metadata": {
        "colab": {
          "base_uri": "https://localhost:8080/"
        },
        "id": "WhDkn0uUXlo7",
        "outputId": "079d2ca5-3dcd-40cb-c54c-47baf5ee522e"
      },
      "execution_count": null,
      "outputs": [
        {
          "output_type": "stream",
          "name": "stdout",
          "text": [
            "['e', 'e', 'e', 'e', 'a', 'e', 'e', 'a', 'a']\n"
          ]
        }
      ]
    },
    {
      "cell_type": "code",
      "source": [
        "x = re.findall(\"\\d\",txt)\n",
        "print(x)"
      ],
      "metadata": {
        "colab": {
          "base_uri": "https://localhost:8080/"
        },
        "id": "AvJsdi1hbtp1",
        "outputId": "844f47ed-37cf-45c5-d292-7b2da76dbc8b"
      },
      "execution_count": null,
      "outputs": [
        {
          "output_type": "stream",
          "name": "stdout",
          "text": [
            "['9', '0']\n"
          ]
        }
      ]
    },
    {
      "cell_type": "code",
      "source": [
        "x = re.findall(\"thex*\",txt)\n",
        "print(x)"
      ],
      "metadata": {
        "colab": {
          "base_uri": "https://localhost:8080/"
        },
        "id": "2vdqI7_5b8Lz",
        "outputId": "81e909ed-410a-4f16-fb67-827bf0193829"
      },
      "execution_count": null,
      "outputs": [
        {
          "output_type": "stream",
          "name": "stdout",
          "text": [
            "['the', 'the']\n"
          ]
        }
      ]
    },
    {
      "cell_type": "code",
      "source": [
        "data = '''\n",
        "abcdefghijklmnopqurtuvwxyz\n",
        "ABCDEFGHIJKLMNOPQRSTUVWXYZ\n",
        "1234567890\n",
        "\n",
        "Ha HaHa\n",
        "\n",
        "MetaCharacters (Need to be escaped):\n",
        ". ^ $ * + ? { } [ ] \\ | ( )\n",
        "\n",
        "coreyms.com\n",
        "\n",
        "321-555-4321\n",
        "123.555.1234\n",
        "123*555*1234\n",
        "800-555-1234\n",
        "900-555-1234\n",
        "\n",
        "Mr. Schafer\n",
        "Mr Smith\n",
        "Ms Davis\n",
        "Mrs. Robinson\n",
        "Mr. T\n",
        "'''\n",
        "\n",
        "sen = 'Start a sentence and then bring it to an end'"
      ],
      "metadata": {
        "id": "pVSeFIINcLNY"
      },
      "execution_count": 1,
      "outputs": []
    },
    {
      "cell_type": "code",
      "source": [
        "print('\\tTab')"
      ],
      "metadata": {
        "colab": {
          "base_uri": "https://localhost:8080/"
        },
        "id": "F22mp4uowvZh",
        "outputId": "bcfeaf3a-d6d2-4bab-aacd-1f4909ef4087"
      },
      "execution_count": 2,
      "outputs": [
        {
          "output_type": "stream",
          "name": "stdout",
          "text": [
            "\tTab\n"
          ]
        }
      ]
    },
    {
      "cell_type": "code",
      "source": [
        "print(r'\\tTab')"
      ],
      "metadata": {
        "colab": {
          "base_uri": "https://localhost:8080/"
        },
        "id": "MJeMLK6pxHPw",
        "outputId": "de86fa26-b390-4d60-e95b-25dfe9709273"
      },
      "execution_count": 3,
      "outputs": [
        {
          "output_type": "stream",
          "name": "stdout",
          "text": [
            "\\tTab\n"
          ]
        }
      ]
    },
    {
      "cell_type": "code",
      "source": [],
      "metadata": {
        "id": "ZHAQFEK5mXBp"
      },
      "execution_count": 10,
      "outputs": []
    },
    {
      "cell_type": "code",
      "source": [
        "pattern = re.compile(r'Mr')\n",
        "pattern"
      ],
      "metadata": {
        "id": "0jo92zBTxLYY",
        "colab": {
          "base_uri": "https://localhost:8080/"
        },
        "outputId": "71f3a750-9760-492f-835c-e58818780d10"
      },
      "execution_count": 16,
      "outputs": [
        {
          "output_type": "execute_result",
          "data": {
            "text/plain": [
              "re.compile(r'Mr', re.UNICODE)"
            ]
          },
          "metadata": {},
          "execution_count": 16
        }
      ]
    },
    {
      "cell_type": "code",
      "source": [
        "matches = pattern.finditer(data,)\n",
        "matches"
      ],
      "metadata": {
        "colab": {
          "base_uri": "https://localhost:8080/"
        },
        "id": "hg6isGAKlhVl",
        "outputId": "d5402225-d241-4063-958e-a181c64c57a0"
      },
      "execution_count": 17,
      "outputs": [
        {
          "output_type": "execute_result",
          "data": {
            "text/plain": [
              "<callable_iterator at 0x7acbb45a0490>"
            ]
          },
          "metadata": {},
          "execution_count": 17
        }
      ]
    },
    {
      "cell_type": "code",
      "source": [
        "for match in matches:\n",
        "  print(match)"
      ],
      "metadata": {
        "colab": {
          "base_uri": "https://localhost:8080/"
        },
        "id": "QkkyXv1zl_Ce",
        "outputId": "6c713fc8-1997-4dbe-eaec-bad273be1138"
      },
      "execution_count": 18,
      "outputs": [
        {
          "output_type": "stream",
          "name": "stdout",
          "text": [
            "<re.Match object; span=(221, 223), match='Mr'>\n",
            "<re.Match object; span=(233, 235), match='Mr'>\n",
            "<re.Match object; span=(251, 253), match='Mr'>\n",
            "<re.Match object; span=(265, 267), match='Mr'>\n"
          ]
        }
      ]
    },
    {
      "cell_type": "code",
      "source": [
        "data[221:223]"
      ],
      "metadata": {
        "colab": {
          "base_uri": "https://localhost:8080/",
          "height": 35
        },
        "id": "xb4lZZAQmE78",
        "outputId": "61585d58-b625-4e6f-f7c0-c9c33ad718ff"
      },
      "execution_count": 21,
      "outputs": [
        {
          "output_type": "execute_result",
          "data": {
            "text/plain": [
              "'Mr'"
            ],
            "application/vnd.google.colaboratory.intrinsic+json": {
              "type": "string"
            }
          },
          "metadata": {},
          "execution_count": 21
        }
      ]
    },
    {
      "cell_type": "code",
      "source": [],
      "metadata": {
        "id": "qDOK6c_FnFe7"
      },
      "execution_count": null,
      "outputs": []
    }
  ]
}